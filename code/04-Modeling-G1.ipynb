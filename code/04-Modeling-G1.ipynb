{
 "cells": [
  {
   "cell_type": "markdown",
   "id": "76bc621e-3daa-4791-b7aa-d28b82564947",
   "metadata": {},
   "source": [
    "## `Imports`"
   ]
  },
  {
   "cell_type": "code",
   "execution_count": 3,
   "id": "95a4c026-846b-4571-8cfc-2912d9ac7c7b",
   "metadata": {},
   "outputs": [],
   "source": [
    "import matplotlib.pyplot as plt\n",
    "import numpy as np\n",
    "import pandas as pd\n",
    "import pickle\n",
    "\n",
    "from imblearn.over_sampling import SMOTE\n",
    "from scikeras.wrappers import KerasClassifier\n",
    "from sklearn.ensemble import AdaBoostClassifier, GradientBoostingClassifier, ExtraTreesClassifier, RandomForestClassifier\n",
    "from sklearn.linear_model import LassoCV, LogisticRegression, RidgeCV\n",
    "from sklearn.metrics import classification_report\n",
    "from sklearn.model_selection import train_test_split, RandomizedSearchCV\n",
    "from sklearn.neighbors import KNeighborsClassifier\n",
    "from sklearn.pipeline import Pipeline\n",
    "from sklearn.preprocessing import LabelEncoder, MinMaxScaler, OneHotEncoder, StandardScaler\n",
    "from tensorflow.keras.callbacks import EarlyStopping\n",
    "from tensorflow.keras.layers import Dense, Dropout\n",
    "from tensorflow.keras.models import Sequential\n",
    "from tensorflow.math import confusion_matrix\n",
    "from xgboost import XGBClassifier"
   ]
  },
  {
   "cell_type": "code",
   "execution_count": 4,
   "id": "1d6c3307-96b5-47c9-abc5-f517a7c91e56",
   "metadata": {},
   "outputs": [],
   "source": [
    "# setting a random seed\n",
    "np.random.seed(24)"
   ]
  },
  {
   "cell_type": "markdown",
   "id": "40d3f06a-c3fa-4706-ac40-a51f2d318a35",
   "metadata": {},
   "source": [
    "## `DataFrame`"
   ]
  },
  {
   "cell_type": "code",
   "execution_count": 5,
   "id": "1c018d6c-ab44-4022-9ec6-ed6bd85995ea",
   "metadata": {},
   "outputs": [],
   "source": [
    "X_train = pd.read_csv('../data/X_train_b_cleaned.csv')\n",
    "X_test = pd.read_csv('../data/X_test_b_cleaned.csv')\n",
    "y_train = np.load('../data/y_train.npy')\n",
    "y_test = np.load('../data/y_test.npy')"
   ]
  },
  {
   "cell_type": "code",
   "execution_count": 6,
   "id": "5ecb45f3-5775-40ec-aeea-ac7dc22ded7c",
   "metadata": {},
   "outputs": [
    {
     "name": "stdout",
     "output_type": "stream",
     "text": [
      "Number of features: 1095\n"
     ]
    }
   ],
   "source": [
    "print(f'Number of features: {len(X_train.columns)}')"
   ]
  },
  {
   "cell_type": "markdown",
   "id": "ba650686-157d-448f-bc60-5768e3c46a17",
   "metadata": {},
   "source": [
    "## `Modeling`"
   ]
  },
  {
   "cell_type": "markdown",
   "id": "0e9f8a00-5dde-4268-820d-94a017b798be",
   "metadata": {},
   "source": [
    "#### RFC"
   ]
  },
  {
   "cell_type": "code",
   "execution_count": 16,
   "id": "10b01142-d132-4de0-8c93-19717230f834",
   "metadata": {},
   "outputs": [
    {
     "data": {
      "text/plain": [
       "(1.0, 0.8816029143897997)"
      ]
     },
     "execution_count": 16,
     "metadata": {},
     "output_type": "execute_result"
    }
   ],
   "source": [
    "pipe = Pipeline([\n",
    "    ('ss', StandardScaler()),\n",
    "    ('rfc', RandomForestClassifier(random_state=24))\n",
    "])\n",
    "\n",
    "pipe.fit(X_train, y_train)\n",
    "pipe.score(X_train, y_train), pipe.score(X_test, y_test)"
   ]
  },
  {
   "cell_type": "code",
   "execution_count": null,
   "id": "a1576ade-4eb7-49e1-8026-e87362b14317",
   "metadata": {},
   "outputs": [],
   "source": [
    "with open('../models/rfc_u2000.pkl', 'wb') as pickle_out:\n",
    "    pickle.dump(pipe, pickle_out)"
   ]
  },
  {
   "cell_type": "markdown",
   "id": "3a45cbae-6665-4d73-a067-c9f81a7c9bd8",
   "metadata": {},
   "source": [
    "#### ETC"
   ]
  },
  {
   "cell_type": "code",
   "execution_count": 17,
   "id": "8e1f22c4-8303-4b04-8c5f-8101ac7ac37c",
   "metadata": {},
   "outputs": [
    {
     "data": {
      "text/plain": [
       "(1.0, 0.8809957498482088)"
      ]
     },
     "execution_count": 17,
     "metadata": {},
     "output_type": "execute_result"
    }
   ],
   "source": [
    "pipe = Pipeline([\n",
    "    ('ss', StandardScaler()),\n",
    "    ('etc', ExtraTreesClassifier(random_state=24))\n",
    "])\n",
    "\n",
    "pipe.fit(X_train, y_train)\n",
    "pipe.score(X_train, y_train), pipe.score(X_test, y_test)"
   ]
  },
  {
   "cell_type": "markdown",
   "id": "2c89976f-0000-4c69-849e-a3d155e79114",
   "metadata": {},
   "source": [
    "#### GBC"
   ]
  },
  {
   "cell_type": "code",
   "execution_count": 18,
   "id": "a57af6ed-521f-4cca-ab14-20c7be83c41f",
   "metadata": {},
   "outputs": [
    {
     "data": {
      "text/plain": [
       "(0.8930595422094649, 0.8736545785726113)"
      ]
     },
     "execution_count": 18,
     "metadata": {},
     "output_type": "execute_result"
    }
   ],
   "source": [
    "pipe = Pipeline([\n",
    "    ('ss', StandardScaler()),\n",
    "    ('gbc', GradientBoostingClassifier())\n",
    "])\n",
    "\n",
    "pipe.fit(X_train, y_train)\n",
    "pipe.score(X_train, y_train), pipe.score(X_test, y_test)"
   ]
  },
  {
   "cell_type": "markdown",
   "id": "e6b4f76d-d019-4184-801e-3f04557c4965",
   "metadata": {},
   "source": [
    "#### ABC"
   ]
  },
  {
   "cell_type": "code",
   "execution_count": 19,
   "id": "a41f0b54-640f-407e-9e31-f5362de621b7",
   "metadata": {
    "tags": []
   },
   "outputs": [
    {
     "data": {
      "text/plain": [
       "(0.8817251784794289, 0.8816029143897997)"
      ]
     },
     "execution_count": 19,
     "metadata": {},
     "output_type": "execute_result"
    }
   ],
   "source": [
    "pipe = Pipeline([\n",
    "    ('ss', StandardScaler()),\n",
    "    ('abc', AdaBoostClassifier())\n",
    "])\n",
    "\n",
    "pipe.fit(X_train, y_train)\n",
    "pipe.score(X_train, y_train), pipe.score(X_test, y_test)"
   ]
  },
  {
   "cell_type": "markdown",
   "id": "2b4ae8b7-5f3f-40a6-abb9-fb35c63b48fc",
   "metadata": {},
   "source": [
    "#### Log Reg (Ridge)"
   ]
  },
  {
   "cell_type": "code",
   "execution_count": 20,
   "id": "fe533e2c-808b-4083-90ba-92e886fa7e75",
   "metadata": {},
   "outputs": [
    {
     "data": {
      "text/plain": [
       "(0.8868771619930816, 0.87117072362974)"
      ]
     },
     "execution_count": 20,
     "metadata": {},
     "output_type": "execute_result"
    }
   ],
   "source": [
    "pipe = Pipeline([\n",
    "    ('ss', StandardScaler()),\n",
    "    ('logreg', LogisticRegression(max_iter=4000, random_state=24))\n",
    "])\n",
    "\n",
    "pipe.fit(X_train, y_train)\n",
    "pipe.score(X_train, y_train), pipe.score(X_test, y_test)"
   ]
  },
  {
   "cell_type": "markdown",
   "id": "9926fdb9-ccb0-4937-89a2-d2784cd61338",
   "metadata": {},
   "source": [
    "#### Log Reg (Lasso) "
   ]
  },
  {
   "cell_type": "code",
   "execution_count": null,
   "id": "297305a3-5344-4d56-978c-eb32c30aa69d",
   "metadata": {},
   "outputs": [],
   "source": [
    "pipe = Pipeline([\n",
    "    ('ss', StandardScaler()),\n",
    "    ('logreg', LogisticRegression(penalty='l1', max_iter=4000, random_state=24, solver='liblinear'))\n",
    "])\n",
    "\n",
    "pipe.fit(X_train, y_train)\n",
    "pipe.score(X_train, y_train), pipe.score(X_test, y_test)"
   ]
  },
  {
   "cell_type": "markdown",
   "id": "5a464bcb-d82e-4cc6-bc66-75313ba6d1c6",
   "metadata": {},
   "source": [
    "**Note**: Took too long; not worth it"
   ]
  },
  {
   "cell_type": "markdown",
   "id": "ab9658ec-7454-466b-8396-d0390712a134",
   "metadata": {},
   "source": [
    "#### XGBC"
   ]
  },
  {
   "cell_type": "code",
   "execution_count": 21,
   "id": "6155f2bf-9124-4821-8d86-61b2b0e260a1",
   "metadata": {},
   "outputs": [
    {
     "name": "stdout",
     "output_type": "stream",
     "text": [
      "[16:38:15] WARNING: C:/Users/Administrator/workspace/xgboost-win64_release_1.5.1/src/learner.cc:1115: Starting in XGBoost 1.3.0, the default evaluation metric used with the objective 'multi:softprob' was changed from 'merror' to 'mlogloss'. Explicitly set eval_metric if you'd like to restore the old behavior.\n"
     ]
    },
    {
     "data": {
      "text/plain": [
       "(0.9031979097666888, 0.8801677982005851)"
      ]
     },
     "execution_count": 21,
     "metadata": {},
     "output_type": "execute_result"
    }
   ],
   "source": [
    "pipe = Pipeline([\n",
    "    ('ss', StandardScaler()),\n",
    "    ('xbg', XGBClassifier(use_label_encoder=False))\n",
    "])\n",
    "\n",
    "pipe.fit(X_train, y_train)\n",
    "pipe.score(X_train, y_train), pipe.score(X_test, y_test)"
   ]
  },
  {
   "cell_type": "markdown",
   "id": "042c20fe-53a8-4c1e-97e9-ffbaa8c8c5aa",
   "metadata": {},
   "source": [
    "#### KNN"
   ]
  },
  {
   "cell_type": "code",
   "execution_count": 22,
   "id": "c9d51988-b2d9-42e7-b3b5-af778666e33b",
   "metadata": {},
   "outputs": [
    {
     "data": {
      "text/plain": [
       "(0.8825899757120778, 0.8625048297179445)"
      ]
     },
     "execution_count": 22,
     "metadata": {},
     "output_type": "execute_result"
    }
   ],
   "source": [
    "pipe = Pipeline([\n",
    "    ('ss', StandardScaler()),\n",
    "    ('knc', KNeighborsClassifier())\n",
    "])\n",
    "\n",
    "pipe.fit(X_train, y_train)\n",
    "pipe.score(X_train, y_train), pipe.score(X_test, y_test)"
   ]
  },
  {
   "cell_type": "markdown",
   "id": "7342dfcb-d27b-4959-b376-ca5067c41f98",
   "metadata": {
    "tags": []
   },
   "source": [
    "#### NN"
   ]
  },
  {
   "cell_type": "code",
   "execution_count": 23,
   "id": "cd5868b5-aad2-4140-ae97-133a059bd2b2",
   "metadata": {},
   "outputs": [],
   "source": [
    "from tensorflow.random import set_seed\n",
    "set_seed(24)"
   ]
  },
  {
   "cell_type": "code",
   "execution_count": 24,
   "id": "79a0951f-504a-4f38-bdd9-92fd4c0b3521",
   "metadata": {},
   "outputs": [],
   "source": [
    "# scale, fit & transform data\n",
    "ss = StandardScaler()\n",
    "\n",
    "X_train_sc = ss.fit_transform(X_train)\n",
    "X_test_sc = ss.transform(X_test)"
   ]
  },
  {
   "cell_type": "code",
   "execution_count": 25,
   "id": "df6f1910-4286-4c17-be6c-8da75bfa70e5",
   "metadata": {},
   "outputs": [],
   "source": [
    "model = Sequential()\n",
    "\n",
    "model.add(Dense(units=400, input_shape=X_train_sc[0].shape, activation='relu'))\n",
    "model.add(Dropout(.2))\n",
    "model.add(Dense(128, activation='relu'))\n",
    "model.add(Dropout(.25))\n",
    "model.add(Dense(64, activation='relu'))\n",
    "model.add(Dropout(.2))\n",
    "model.add(Dense(units=12, activation='softmax'))\n",
    "\n",
    "early_stop = EarlyStopping(monitor='val_loss', patience=5, verbose=1)\n",
    "\n",
    "model.compile(loss='sparse_categorical_crossentropy', optimizer='adam', metrics=['acc'])"
   ]
  },
  {
   "cell_type": "code",
   "execution_count": 26,
   "id": "2283f6d5-f592-47c2-96f2-af523f62aecc",
   "metadata": {},
   "outputs": [
    {
     "name": "stdout",
     "output_type": "stream",
     "text": [
      "Epoch 1/40\n",
      "1699/1699 [==============================] - 11s 6ms/step - loss: 0.5231 - acc: 0.8742 - val_loss: 0.4965 - val_acc: 0.8803\n",
      "Epoch 2/40\n",
      "1699/1699 [==============================] - 9s 5ms/step - loss: 0.4639 - acc: 0.8810 - val_loss: 0.4601 - val_acc: 0.8811\n",
      "Epoch 3/40\n",
      "1699/1699 [==============================] - 9s 5ms/step - loss: 0.4557 - acc: 0.8813 - val_loss: 0.4610 - val_acc: 0.8814\n",
      "Epoch 4/40\n",
      "1699/1699 [==============================] - 9s 5ms/step - loss: 0.4483 - acc: 0.8814 - val_loss: 0.4603 - val_acc: 0.8814\n",
      "Epoch 5/40\n",
      "1699/1699 [==============================] - 9s 5ms/step - loss: 0.4461 - acc: 0.8814 - val_loss: 0.4583 - val_acc: 0.8816\n",
      "Epoch 6/40\n",
      "1699/1699 [==============================] - 9s 5ms/step - loss: 0.4407 - acc: 0.8815 - val_loss: 0.4634 - val_acc: 0.8815\n",
      "Epoch 7/40\n",
      "1699/1699 [==============================] - 9s 5ms/step - loss: 0.4359 - acc: 0.8814 - val_loss: 0.4754 - val_acc: 0.8814\n",
      "Epoch 8/40\n",
      "1699/1699 [==============================] - 9s 5ms/step - loss: 0.4326 - acc: 0.8814 - val_loss: 0.4694 - val_acc: 0.8811\n",
      "Epoch 9/40\n",
      "1699/1699 [==============================] - 9s 5ms/step - loss: 0.4287 - acc: 0.8815 - val_loss: 0.4902 - val_acc: 0.8812\n",
      "Epoch 10/40\n",
      "1699/1699 [==============================] - 9s 5ms/step - loss: 0.4207 - acc: 0.8821 - val_loss: 0.4872 - val_acc: 0.8812\n",
      "Epoch 00010: early stopping\n"
     ]
    }
   ],
   "source": [
    "history = model.fit(X_train_sc, y_train, validation_data=(X_test_sc, y_test), epochs=40, batch_size=32, callbacks=[early_stop])"
   ]
  },
  {
   "cell_type": "code",
   "execution_count": 11,
   "id": "0f493c3a-c965-48d4-a0a0-d742711eac25",
   "metadata": {},
   "outputs": [],
   "source": [
    "# saving the model\n",
    "model.save('../models/nn_baseline.h5')"
   ]
  },
  {
   "cell_type": "markdown",
   "id": "6b9fbd58-3796-47ea-b30d-fefd75004383",
   "metadata": {
    "tags": []
   },
   "source": [
    "#### Model df"
   ]
  },
  {
   "cell_type": "code",
   "execution_count": 33,
   "id": "ef55bf15-e66e-4b60-ad64-c7be65d1e5c4",
   "metadata": {},
   "outputs": [],
   "source": [
    "model_df = pd.DataFrame()\n",
    "model_df['Model'] = ['RFC', 'ETC', 'GBC', 'ABC', 'Log Reg', 'XGBC', 'KNN', 'NN']\n",
    "model_df['Train'] = [1.0, 1.0, .8930, .8817, .8868, .9031, .8825, .8821]\n",
    "model_df['Test'] = [.8816, .8809, .8736, .8816, .8711, .8801, .8625, .8812]"
   ]
  },
  {
   "cell_type": "code",
   "execution_count": 38,
   "id": "0c0427d1-58ef-4c47-8cb2-8ea0e4b0b9d7",
   "metadata": {},
   "outputs": [
    {
     "data": {
      "text/html": [
       "<div>\n",
       "<style scoped>\n",
       "    .dataframe tbody tr th:only-of-type {\n",
       "        vertical-align: middle;\n",
       "    }\n",
       "\n",
       "    .dataframe tbody tr th {\n",
       "        vertical-align: top;\n",
       "    }\n",
       "\n",
       "    .dataframe thead th {\n",
       "        text-align: right;\n",
       "    }\n",
       "</style>\n",
       "<table border=\"1\" class=\"dataframe\">\n",
       "  <thead>\n",
       "    <tr style=\"text-align: right;\">\n",
       "      <th></th>\n",
       "      <th>Model</th>\n",
       "      <th>Train</th>\n",
       "      <th>Test</th>\n",
       "    </tr>\n",
       "  </thead>\n",
       "  <tbody>\n",
       "    <tr>\n",
       "      <th>0</th>\n",
       "      <td>RFC</td>\n",
       "      <td>1.0000</td>\n",
       "      <td>0.8816</td>\n",
       "    </tr>\n",
       "    <tr>\n",
       "      <th>3</th>\n",
       "      <td>ABC</td>\n",
       "      <td>0.8817</td>\n",
       "      <td>0.8816</td>\n",
       "    </tr>\n",
       "    <tr>\n",
       "      <th>7</th>\n",
       "      <td>NN</td>\n",
       "      <td>0.8821</td>\n",
       "      <td>0.8812</td>\n",
       "    </tr>\n",
       "    <tr>\n",
       "      <th>1</th>\n",
       "      <td>ETC</td>\n",
       "      <td>1.0000</td>\n",
       "      <td>0.8809</td>\n",
       "    </tr>\n",
       "    <tr>\n",
       "      <th>5</th>\n",
       "      <td>XGBC</td>\n",
       "      <td>0.9031</td>\n",
       "      <td>0.8801</td>\n",
       "    </tr>\n",
       "    <tr>\n",
       "      <th>2</th>\n",
       "      <td>GBC</td>\n",
       "      <td>0.8930</td>\n",
       "      <td>0.8736</td>\n",
       "    </tr>\n",
       "    <tr>\n",
       "      <th>4</th>\n",
       "      <td>Log Reg</td>\n",
       "      <td>0.8868</td>\n",
       "      <td>0.8711</td>\n",
       "    </tr>\n",
       "    <tr>\n",
       "      <th>6</th>\n",
       "      <td>KNN</td>\n",
       "      <td>0.8825</td>\n",
       "      <td>0.8625</td>\n",
       "    </tr>\n",
       "  </tbody>\n",
       "</table>\n",
       "</div>"
      ],
      "text/plain": [
       "     Model   Train    Test\n",
       "0      RFC  1.0000  0.8816\n",
       "3      ABC  0.8817  0.8816\n",
       "7       NN  0.8821  0.8812\n",
       "1      ETC  1.0000  0.8809\n",
       "5     XGBC  0.9031  0.8801\n",
       "2      GBC  0.8930  0.8736\n",
       "4  Log Reg  0.8868  0.8711\n",
       "6      KNN  0.8825  0.8625"
      ]
     },
     "execution_count": 38,
     "metadata": {},
     "output_type": "execute_result"
    }
   ],
   "source": [
    "model_df.sort_values(by='Test', ascending=False)"
   ]
  },
  {
   "cell_type": "code",
   "execution_count": 39,
   "id": "9ff48268-64b1-44c4-9ea7-cd534b06dca1",
   "metadata": {},
   "outputs": [],
   "source": [
    "model_df.to_csv('../data/model_df_b.csv')"
   ]
  },
  {
   "cell_type": "markdown",
   "id": "b2a75932-5e3c-4ced-9fcf-8b63020118f4",
   "metadata": {},
   "source": [
    "**Notes**:\n",
    "* RFC, ABC, NN"
   ]
  },
  {
   "cell_type": "markdown",
   "id": "d46dbec2-667e-4462-9c4c-8f87e8b300ab",
   "metadata": {},
   "source": [
    "---"
   ]
  },
  {
   "cell_type": "markdown",
   "id": "86010519-3717-43b8-9de4-91331ce4b50a",
   "metadata": {},
   "source": [
    "## `Optimization`"
   ]
  },
  {
   "cell_type": "markdown",
   "id": "a863d30b-f29d-409f-9ebd-d94ba3273df6",
   "metadata": {},
   "source": [
    "#### RFC"
   ]
  },
  {
   "cell_type": "code",
   "execution_count": 14,
   "id": "2d4bd297-61f9-430c-bd38-d760a6fca16f",
   "metadata": {},
   "outputs": [],
   "source": [
    "# original rfc pipe\n",
    "pipe = Pipeline([\n",
    "    ('ss', StandardScaler()),\n",
    "    ('rfc', RandomForestClassifier(random_state=24))\n",
    "])"
   ]
  },
  {
   "cell_type": "code",
   "execution_count": 16,
   "id": "47300198-4dda-496d-80b3-fa6081c7d7c3",
   "metadata": {},
   "outputs": [],
   "source": [
    "# rfc random search parameters\n",
    "rs_params = {'ss__with_mean': [True, False],\n",
    "             'ss__with_std' : [True, False],\n",
    "             'rfc__n_estimators': [100, 300, 500, 800, 1200],\n",
    "             'rfc__criterion': ['gini', 'entropy'],\n",
    "             'rfc__max_depth': [5, 8, 15, 25, 30, None],\n",
    "             'rfc__min_samples_split': [2, 5, 10, 15, 100],\n",
    "             'rfc__min_samples_leaf': [1, 2, 5, 10],\n",
    "             'rfc__n_jobs': [-1]\n",
    "}"
   ]
  },
  {
   "cell_type": "code",
   "execution_count": 17,
   "id": "9042022e-2b0c-4344-a1fb-b69d474ca9aa",
   "metadata": {},
   "outputs": [],
   "source": [
    "# instantiating rfc rs\n",
    "rfc_rs = RandomizedSearchCV(pipe, rs_params, cv=5, verbose=1)"
   ]
  },
  {
   "cell_type": "code",
   "execution_count": 18,
   "id": "286d220a-5084-44e2-86a4-775032faab7d",
   "metadata": {},
   "outputs": [
    {
     "name": "stdout",
     "output_type": "stream",
     "text": [
      "Fitting 5 folds for each of 10 candidates, totalling 50 fits\n"
     ]
    },
    {
     "data": {
      "text/plain": [
       "RandomizedSearchCV(cv=5,\n",
       "                   estimator=Pipeline(steps=[('ss', StandardScaler()),\n",
       "                                             ('rfc',\n",
       "                                              RandomForestClassifier(random_state=24))]),\n",
       "                   param_distributions={'rfc__criterion': ['gini', 'entropy'],\n",
       "                                        'rfc__max_depth': [5, 8, 15, 25, 30,\n",
       "                                                           None],\n",
       "                                        'rfc__min_samples_leaf': [1, 2, 5, 10],\n",
       "                                        'rfc__min_samples_split': [2, 5, 10, 15,\n",
       "                                                                   100],\n",
       "                                        'rfc__n_estimators': [100, 300, 500,\n",
       "                                                              800, 1200],\n",
       "                                        'rfc__n_jobs': [-1],\n",
       "                                        'ss__with_mean': [True, False],\n",
       "                                        'ss__with_std': [True, False]},\n",
       "                   verbose=1)"
      ]
     },
     "execution_count": 18,
     "metadata": {},
     "output_type": "execute_result"
    }
   ],
   "source": [
    "# fit random search\n",
    "rfc_rs.fit(X_train, y_train)"
   ]
  },
  {
   "cell_type": "code",
   "execution_count": 19,
   "id": "feda3de6-c9e5-4bb7-9974-c6526b1f0e20",
   "metadata": {},
   "outputs": [
    {
     "data": {
      "text/plain": [
       "0.8817251785777313"
      ]
     },
     "execution_count": 19,
     "metadata": {},
     "output_type": "execute_result"
    }
   ],
   "source": [
    "# best search score\n",
    "rfc_rs.best_score_"
   ]
  },
  {
   "cell_type": "code",
   "execution_count": 20,
   "id": "5cdb26e1-7946-41d1-873c-7b260aaab616",
   "metadata": {},
   "outputs": [
    {
     "data": {
      "text/plain": [
       "{'ss__with_std': True,\n",
       " 'ss__with_mean': False,\n",
       " 'rfc__n_jobs': -1,\n",
       " 'rfc__n_estimators': 500,\n",
       " 'rfc__min_samples_split': 2,\n",
       " 'rfc__min_samples_leaf': 5,\n",
       " 'rfc__max_depth': 30,\n",
       " 'rfc__criterion': 'gini'}"
      ]
     },
     "execution_count": 20,
     "metadata": {},
     "output_type": "execute_result"
    }
   ],
   "source": [
    "# best search parameters\n",
    "rfc_rs.best_params_"
   ]
  },
  {
   "cell_type": "code",
   "execution_count": 21,
   "id": "4b9040f6-d9a9-4aaf-a951-85e9b1d63f52",
   "metadata": {},
   "outputs": [
    {
     "data": {
      "text/plain": [
       "0.8816581111663079"
      ]
     },
     "execution_count": 21,
     "metadata": {},
     "output_type": "execute_result"
    }
   ],
   "source": [
    "# best search score for test set\n",
    "rfc_rs.score(X_test, y_test)"
   ]
  },
  {
   "cell_type": "code",
   "execution_count": null,
   "id": "4e35d27f-b9a1-4aea-b43a-1b2f739f04a9",
   "metadata": {},
   "outputs": [],
   "source": [
    "# df for search\n",
    "pd.DataFrame(rfc_rs.cv_results_).sort_values('rank_test_score')"
   ]
  },
  {
   "cell_type": "markdown",
   "id": "fff52ca1-8a44-4b35-b40d-75c6035029b5",
   "metadata": {},
   "source": [
    "#### ABC"
   ]
  },
  {
   "cell_type": "code",
   "execution_count": 24,
   "id": "d71cd7e9-7f60-42f7-be9a-833517719a4b",
   "metadata": {},
   "outputs": [],
   "source": [
    "pipe = Pipeline([\n",
    "    ('ss', StandardScaler()),\n",
    "    ('abc', AdaBoostClassifier(random_state=24))\n",
    "])"
   ]
  },
  {
   "cell_type": "code",
   "execution_count": 25,
   "id": "d342e3a1-9f05-424f-b673-3ff3dac97008",
   "metadata": {},
   "outputs": [],
   "source": [
    "abc_params = {'ss__with_mean': [True, False],\n",
    "              'ss__with_std' : [True, False],\n",
    "              'abc__n_estimators': [300, 500, 700],\n",
    "              'abc__learning_rate': [.01, .1, 1]\n",
    "}"
   ]
  },
  {
   "cell_type": "code",
   "execution_count": 26,
   "id": "51514547-03d9-4bfd-9637-ee9461d54bd3",
   "metadata": {},
   "outputs": [],
   "source": [
    "abc_rs = RandomizedSearchCV(pipe, abc_params, cv=5, verbose=1)"
   ]
  },
  {
   "cell_type": "code",
   "execution_count": 27,
   "id": "2a2e17c1-216e-4b19-aac3-865a234a1592",
   "metadata": {},
   "outputs": [
    {
     "name": "stdout",
     "output_type": "stream",
     "text": [
      "Fitting 5 folds for each of 10 candidates, totalling 50 fits\n"
     ]
    },
    {
     "data": {
      "text/plain": [
       "RandomizedSearchCV(cv=5,\n",
       "                   estimator=Pipeline(steps=[('ss', StandardScaler()),\n",
       "                                             ('abc', AdaBoostClassifier())]),\n",
       "                   param_distributions={'abc__learning_rate': [0.01, 0.1, 1],\n",
       "                                        'abc__n_estimators': [300, 500, 700],\n",
       "                                        'ss__with_mean': [True, False],\n",
       "                                        'ss__with_std': [True, False]},\n",
       "                   verbose=1)"
      ]
     },
     "execution_count": 27,
     "metadata": {},
     "output_type": "execute_result"
    }
   ],
   "source": [
    "abc_rs.fit(X_train, y_train)"
   ]
  },
  {
   "cell_type": "code",
   "execution_count": 28,
   "id": "e3563cec-0db7-4ee3-a8e9-15b5cb5ddbaf",
   "metadata": {},
   "outputs": [
    {
     "data": {
      "text/plain": [
       "0.8817251785777313"
      ]
     },
     "execution_count": 28,
     "metadata": {},
     "output_type": "execute_result"
    }
   ],
   "source": [
    "abc_rs.best_score_"
   ]
  },
  {
   "cell_type": "code",
   "execution_count": 29,
   "id": "ca2ed97c-978c-44fa-9dad-230b5fd4bf82",
   "metadata": {},
   "outputs": [
    {
     "data": {
      "text/plain": [
       "{'ss__with_std': True,\n",
       " 'ss__with_mean': False,\n",
       " 'abc__n_estimators': 300,\n",
       " 'abc__learning_rate': 0.01}"
      ]
     },
     "execution_count": 29,
     "metadata": {},
     "output_type": "execute_result"
    }
   ],
   "source": [
    "abc_rs.best_params_"
   ]
  },
  {
   "cell_type": "code",
   "execution_count": 30,
   "id": "8fb23591-84aa-41ba-a177-85bd67150668",
   "metadata": {},
   "outputs": [
    {
     "data": {
      "text/plain": [
       "0.8816581111663079"
      ]
     },
     "execution_count": 30,
     "metadata": {},
     "output_type": "execute_result"
    }
   ],
   "source": [
    "abc_rs.score(X_test, y_test)"
   ]
  },
  {
   "cell_type": "code",
   "execution_count": 31,
   "id": "cc22a126-63d5-4529-b4b9-81c2ef1a1323",
   "metadata": {},
   "outputs": [
    {
     "data": {
      "text/html": [
       "<div>\n",
       "<style scoped>\n",
       "    .dataframe tbody tr th:only-of-type {\n",
       "        vertical-align: middle;\n",
       "    }\n",
       "\n",
       "    .dataframe tbody tr th {\n",
       "        vertical-align: top;\n",
       "    }\n",
       "\n",
       "    .dataframe thead th {\n",
       "        text-align: right;\n",
       "    }\n",
       "</style>\n",
       "<table border=\"1\" class=\"dataframe\">\n",
       "  <thead>\n",
       "    <tr style=\"text-align: right;\">\n",
       "      <th></th>\n",
       "      <th>mean_fit_time</th>\n",
       "      <th>std_fit_time</th>\n",
       "      <th>mean_score_time</th>\n",
       "      <th>std_score_time</th>\n",
       "      <th>param_ss__with_std</th>\n",
       "      <th>param_ss__with_mean</th>\n",
       "      <th>param_abc__n_estimators</th>\n",
       "      <th>param_abc__learning_rate</th>\n",
       "      <th>params</th>\n",
       "      <th>split0_test_score</th>\n",
       "      <th>split1_test_score</th>\n",
       "      <th>split2_test_score</th>\n",
       "      <th>split3_test_score</th>\n",
       "      <th>split4_test_score</th>\n",
       "      <th>mean_test_score</th>\n",
       "      <th>std_test_score</th>\n",
       "      <th>rank_test_score</th>\n",
       "    </tr>\n",
       "  </thead>\n",
       "  <tbody>\n",
       "    <tr>\n",
       "      <th>4</th>\n",
       "      <td>169.337940</td>\n",
       "      <td>4.209746</td>\n",
       "      <td>11.943587</td>\n",
       "      <td>0.957877</td>\n",
       "      <td>True</td>\n",
       "      <td>False</td>\n",
       "      <td>300</td>\n",
       "      <td>0.01</td>\n",
       "      <td>{'ss__with_std': True, 'ss__with_mean': False,...</td>\n",
       "      <td>0.881785</td>\n",
       "      <td>0.881785</td>\n",
       "      <td>0.881601</td>\n",
       "      <td>0.881682</td>\n",
       "      <td>0.881774</td>\n",
       "      <td>0.881725</td>\n",
       "      <td>0.000073</td>\n",
       "      <td>1</td>\n",
       "    </tr>\n",
       "    <tr>\n",
       "      <th>6</th>\n",
       "      <td>390.474779</td>\n",
       "      <td>15.468106</td>\n",
       "      <td>26.736226</td>\n",
       "      <td>0.828371</td>\n",
       "      <td>False</td>\n",
       "      <td>False</td>\n",
       "      <td>700</td>\n",
       "      <td>0.01</td>\n",
       "      <td>{'ss__with_std': False, 'ss__with_mean': False...</td>\n",
       "      <td>0.881785</td>\n",
       "      <td>0.881785</td>\n",
       "      <td>0.881601</td>\n",
       "      <td>0.881682</td>\n",
       "      <td>0.881774</td>\n",
       "      <td>0.881725</td>\n",
       "      <td>0.000073</td>\n",
       "      <td>1</td>\n",
       "    </tr>\n",
       "    <tr>\n",
       "      <th>5</th>\n",
       "      <td>169.647327</td>\n",
       "      <td>7.940762</td>\n",
       "      <td>11.727892</td>\n",
       "      <td>0.595673</td>\n",
       "      <td>True</td>\n",
       "      <td>True</td>\n",
       "      <td>300</td>\n",
       "      <td>0.1</td>\n",
       "      <td>{'ss__with_std': True, 'ss__with_mean': True, ...</td>\n",
       "      <td>0.874057</td>\n",
       "      <td>0.881785</td>\n",
       "      <td>0.877461</td>\n",
       "      <td>0.881682</td>\n",
       "      <td>0.876070</td>\n",
       "      <td>0.878211</td>\n",
       "      <td>0.003073</td>\n",
       "      <td>3</td>\n",
       "    </tr>\n",
       "    <tr>\n",
       "      <th>0</th>\n",
       "      <td>268.850446</td>\n",
       "      <td>14.464469</td>\n",
       "      <td>19.034174</td>\n",
       "      <td>1.105982</td>\n",
       "      <td>True</td>\n",
       "      <td>False</td>\n",
       "      <td>500</td>\n",
       "      <td>0.1</td>\n",
       "      <td>{'ss__with_std': True, 'ss__with_mean': False,...</td>\n",
       "      <td>0.872769</td>\n",
       "      <td>0.881785</td>\n",
       "      <td>0.874885</td>\n",
       "      <td>0.881682</td>\n",
       "      <td>0.875886</td>\n",
       "      <td>0.877401</td>\n",
       "      <td>0.003678</td>\n",
       "      <td>4</td>\n",
       "    </tr>\n",
       "    <tr>\n",
       "      <th>1</th>\n",
       "      <td>302.219648</td>\n",
       "      <td>16.901469</td>\n",
       "      <td>21.628043</td>\n",
       "      <td>2.585086</td>\n",
       "      <td>False</td>\n",
       "      <td>False</td>\n",
       "      <td>500</td>\n",
       "      <td>0.1</td>\n",
       "      <td>{'ss__with_std': False, 'ss__with_mean': False...</td>\n",
       "      <td>0.872769</td>\n",
       "      <td>0.881785</td>\n",
       "      <td>0.874885</td>\n",
       "      <td>0.881682</td>\n",
       "      <td>0.875886</td>\n",
       "      <td>0.877401</td>\n",
       "      <td>0.003678</td>\n",
       "      <td>4</td>\n",
       "    </tr>\n",
       "  </tbody>\n",
       "</table>\n",
       "</div>"
      ],
      "text/plain": [
       "   mean_fit_time  std_fit_time  mean_score_time  std_score_time  \\\n",
       "4     169.337940      4.209746        11.943587        0.957877   \n",
       "6     390.474779     15.468106        26.736226        0.828371   \n",
       "5     169.647327      7.940762        11.727892        0.595673   \n",
       "0     268.850446     14.464469        19.034174        1.105982   \n",
       "1     302.219648     16.901469        21.628043        2.585086   \n",
       "\n",
       "  param_ss__with_std param_ss__with_mean param_abc__n_estimators  \\\n",
       "4               True               False                     300   \n",
       "6              False               False                     700   \n",
       "5               True                True                     300   \n",
       "0               True               False                     500   \n",
       "1              False               False                     500   \n",
       "\n",
       "  param_abc__learning_rate                                             params  \\\n",
       "4                     0.01  {'ss__with_std': True, 'ss__with_mean': False,...   \n",
       "6                     0.01  {'ss__with_std': False, 'ss__with_mean': False...   \n",
       "5                      0.1  {'ss__with_std': True, 'ss__with_mean': True, ...   \n",
       "0                      0.1  {'ss__with_std': True, 'ss__with_mean': False,...   \n",
       "1                      0.1  {'ss__with_std': False, 'ss__with_mean': False...   \n",
       "\n",
       "   split0_test_score  split1_test_score  split2_test_score  split3_test_score  \\\n",
       "4           0.881785           0.881785           0.881601           0.881682   \n",
       "6           0.881785           0.881785           0.881601           0.881682   \n",
       "5           0.874057           0.881785           0.877461           0.881682   \n",
       "0           0.872769           0.881785           0.874885           0.881682   \n",
       "1           0.872769           0.881785           0.874885           0.881682   \n",
       "\n",
       "   split4_test_score  mean_test_score  std_test_score  rank_test_score  \n",
       "4           0.881774         0.881725        0.000073                1  \n",
       "6           0.881774         0.881725        0.000073                1  \n",
       "5           0.876070         0.878211        0.003073                3  \n",
       "0           0.875886         0.877401        0.003678                4  \n",
       "1           0.875886         0.877401        0.003678                4  "
      ]
     },
     "execution_count": 31,
     "metadata": {},
     "output_type": "execute_result"
    }
   ],
   "source": [
    "pd.DataFrame(abc_rs.cv_results_).sort_values('rank_test_score').head()"
   ]
  },
  {
   "cell_type": "markdown",
   "id": "8d3155f8-2f1b-4d0b-aa38-d96f570b033d",
   "metadata": {},
   "source": [
    "#### NN"
   ]
  },
  {
   "cell_type": "code",
   "execution_count": 7,
   "id": "32f8733e-c5e9-4deb-93ba-526c058e1fa4",
   "metadata": {},
   "outputs": [],
   "source": [
    "from tensorflow.random import set_seed\n",
    "set_seed(24)"
   ]
  },
  {
   "cell_type": "code",
   "execution_count": 8,
   "id": "299a2dbe-e4d2-4c14-ad48-030b128fa928",
   "metadata": {},
   "outputs": [],
   "source": [
    "# scale, fit & transform data\n",
    "ss = StandardScaler()\n",
    "\n",
    "X_train_sc = ss.fit_transform(X_train)\n",
    "X_test_sc = ss.transform(X_test)"
   ]
  },
  {
   "cell_type": "code",
   "execution_count": 9,
   "id": "b5952c0c-c184-4975-acc6-e34161c8fd55",
   "metadata": {},
   "outputs": [],
   "source": [
    "def model_func(layer_one, layer_two, layer_three):\n",
    "    model = Sequential()\n",
    "    model.add(Dense(units=400, input_shape=X_train_sc[0].shape, activation='relu'))\n",
    "    model.add(Dropout(.25))\n",
    "    model.add(Dense(200, activation='relu'))\n",
    "    model.add(Dropout(.25))\n",
    "    model.add(Dense(64, activation='relu'))\n",
    "    model.add(Dropout(.20))\n",
    "    model.add(Dense(units=12, activation='softmax'))\n",
    "\n",
    "    early_stop = EarlyStopping(monitor='val_loss', patience=5, verbose=1)\n",
    "\n",
    "    model.compile(loss='sparse_categorical_crossentropy', optimizer='adam', metrics=['mse', 'mae', 'acc',])\n",
    "    return model"
   ]
  },
  {
   "cell_type": "code",
   "execution_count": 10,
   "id": "af4f5b60-b0fd-4824-a933-87ec1cadafa3",
   "metadata": {},
   "outputs": [],
   "source": [
    "nn = KerasClassifier(model=model_func, batch_size=32, verbose=0, layer_one=32, layer_two=32, layer_three=32)"
   ]
  },
  {
   "cell_type": "code",
   "execution_count": 11,
   "id": "ee9fe707-34af-47c1-b85b-2b95a3ba2770",
   "metadata": {},
   "outputs": [],
   "source": [
    "nn_params = {\n",
    "    'layer_one': [100, 200, 400],\n",
    "    'layer_two': [100, 200, 300],\n",
    "    'layer_three': [32, 64, 128],\n",
    "    'epochs': [40, 50]\n",
    "}"
   ]
  },
  {
   "cell_type": "code",
   "execution_count": 12,
   "id": "afb96df2-1a14-4a09-b53c-d849b6079589",
   "metadata": {},
   "outputs": [],
   "source": [
    "nn_rs = RandomizedSearchCV(nn, nn_params, cv=5, n_jobs=-1)"
   ]
  },
  {
   "cell_type": "code",
   "execution_count": 13,
   "id": "4a1f5cef-213e-46d8-b132-fc1ceab4313f",
   "metadata": {},
   "outputs": [
    {
     "data": {
      "text/plain": [
       "RandomizedSearchCV(cv=5,\n",
       "                   estimator=KerasClassifier(batch_size=32, layer_one=32, layer_three=32, layer_two=32, model=<function model_func at 0x000002BD76C10550>, verbose=0),\n",
       "                   n_jobs=-1,\n",
       "                   param_distributions={'epochs': [40, 50],\n",
       "                                        'layer_one': [100, 200, 400],\n",
       "                                        'layer_three': [32, 64, 128],\n",
       "                                        'layer_two': [100, 200, 300]})"
      ]
     },
     "execution_count": 13,
     "metadata": {},
     "output_type": "execute_result"
    }
   ],
   "source": [
    "nn_rs.fit(X_train_sc, y_train)"
   ]
  },
  {
   "cell_type": "code",
   "execution_count": 14,
   "id": "2a79e669-24b2-4656-a700-5e44863c939d",
   "metadata": {},
   "outputs": [
    {
     "data": {
      "text/plain": [
       "0.8612644081227275"
      ]
     },
     "execution_count": 14,
     "metadata": {},
     "output_type": "execute_result"
    }
   ],
   "source": [
    "nn_rs.best_score_"
   ]
  },
  {
   "cell_type": "code",
   "execution_count": 15,
   "id": "bcd41d6a-1ffe-4f3d-a845-e6fc66a4d8be",
   "metadata": {},
   "outputs": [
    {
     "data": {
      "text/plain": [
       "{'layer_two': 300, 'layer_three': 128, 'layer_one': 100, 'epochs': 40}"
      ]
     },
     "execution_count": 15,
     "metadata": {},
     "output_type": "execute_result"
    }
   ],
   "source": [
    "nn_rs.best_params_"
   ]
  },
  {
   "cell_type": "code",
   "execution_count": 17,
   "id": "2a038d20-54b9-4f31-9647-1fd62834de43",
   "metadata": {},
   "outputs": [
    {
     "data": {
      "text/plain": [
       "0.8609041231992052"
      ]
     },
     "execution_count": 17,
     "metadata": {},
     "output_type": "execute_result"
    }
   ],
   "source": [
    "nn_rs.score(X_test_sc, y_test)"
   ]
  },
  {
   "cell_type": "code",
   "execution_count": 18,
   "id": "9fa5a518-2cea-445f-a61d-fee4b6be7f29",
   "metadata": {},
   "outputs": [
    {
     "data": {
      "text/html": [
       "<div>\n",
       "<style scoped>\n",
       "    .dataframe tbody tr th:only-of-type {\n",
       "        vertical-align: middle;\n",
       "    }\n",
       "\n",
       "    .dataframe tbody tr th {\n",
       "        vertical-align: top;\n",
       "    }\n",
       "\n",
       "    .dataframe thead th {\n",
       "        text-align: right;\n",
       "    }\n",
       "</style>\n",
       "<table border=\"1\" class=\"dataframe\">\n",
       "  <thead>\n",
       "    <tr style=\"text-align: right;\">\n",
       "      <th></th>\n",
       "      <th>mean_fit_time</th>\n",
       "      <th>std_fit_time</th>\n",
       "      <th>mean_score_time</th>\n",
       "      <th>std_score_time</th>\n",
       "      <th>param_layer_two</th>\n",
       "      <th>param_layer_three</th>\n",
       "      <th>param_layer_one</th>\n",
       "      <th>param_epochs</th>\n",
       "      <th>params</th>\n",
       "      <th>split0_test_score</th>\n",
       "      <th>split1_test_score</th>\n",
       "      <th>split2_test_score</th>\n",
       "      <th>split3_test_score</th>\n",
       "      <th>split4_test_score</th>\n",
       "      <th>mean_test_score</th>\n",
       "      <th>std_test_score</th>\n",
       "      <th>rank_test_score</th>\n",
       "    </tr>\n",
       "  </thead>\n",
       "  <tbody>\n",
       "    <tr>\n",
       "      <th>9</th>\n",
       "      <td>776.955180</td>\n",
       "      <td>269.779400</td>\n",
       "      <td>5.484676</td>\n",
       "      <td>3.794801</td>\n",
       "      <td>300</td>\n",
       "      <td>128</td>\n",
       "      <td>100</td>\n",
       "      <td>40</td>\n",
       "      <td>{'layer_two': 300, 'layer_three': 128, 'layer_...</td>\n",
       "      <td>0.860166</td>\n",
       "      <td>0.867341</td>\n",
       "      <td>0.858234</td>\n",
       "      <td>0.861441</td>\n",
       "      <td>0.859141</td>\n",
       "      <td>0.861264</td>\n",
       "      <td>0.003221</td>\n",
       "      <td>1</td>\n",
       "    </tr>\n",
       "    <tr>\n",
       "      <th>5</th>\n",
       "      <td>1050.406410</td>\n",
       "      <td>3.726158</td>\n",
       "      <td>5.957875</td>\n",
       "      <td>1.581117</td>\n",
       "      <td>200</td>\n",
       "      <td>64</td>\n",
       "      <td>400</td>\n",
       "      <td>40</td>\n",
       "      <td>{'layer_two': 200, 'layer_three': 64, 'layer_o...</td>\n",
       "      <td>0.865225</td>\n",
       "      <td>0.855198</td>\n",
       "      <td>0.860994</td>\n",
       "      <td>0.862637</td>\n",
       "      <td>0.860705</td>\n",
       "      <td>0.860952</td>\n",
       "      <td>0.003295</td>\n",
       "      <td>2</td>\n",
       "    </tr>\n",
       "    <tr>\n",
       "      <th>7</th>\n",
       "      <td>967.642342</td>\n",
       "      <td>10.787216</td>\n",
       "      <td>4.592444</td>\n",
       "      <td>1.692376</td>\n",
       "      <td>300</td>\n",
       "      <td>64</td>\n",
       "      <td>100</td>\n",
       "      <td>40</td>\n",
       "      <td>{'layer_two': 300, 'layer_three': 64, 'layer_o...</td>\n",
       "      <td>0.858050</td>\n",
       "      <td>0.859522</td>\n",
       "      <td>0.862190</td>\n",
       "      <td>0.863741</td>\n",
       "      <td>0.856841</td>\n",
       "      <td>0.860068</td>\n",
       "      <td>0.002560</td>\n",
       "      <td>3</td>\n",
       "    </tr>\n",
       "    <tr>\n",
       "      <th>3</th>\n",
       "      <td>1101.000576</td>\n",
       "      <td>16.496899</td>\n",
       "      <td>10.735894</td>\n",
       "      <td>4.354181</td>\n",
       "      <td>100</td>\n",
       "      <td>128</td>\n",
       "      <td>400</td>\n",
       "      <td>40</td>\n",
       "      <td>{'layer_two': 100, 'layer_three': 128, 'layer_...</td>\n",
       "      <td>0.855014</td>\n",
       "      <td>0.861822</td>\n",
       "      <td>0.861454</td>\n",
       "      <td>0.859877</td>\n",
       "      <td>0.859325</td>\n",
       "      <td>0.859498</td>\n",
       "      <td>0.002429</td>\n",
       "      <td>4</td>\n",
       "    </tr>\n",
       "    <tr>\n",
       "      <th>2</th>\n",
       "      <td>1337.949208</td>\n",
       "      <td>3.672707</td>\n",
       "      <td>4.419248</td>\n",
       "      <td>1.558427</td>\n",
       "      <td>300</td>\n",
       "      <td>128</td>\n",
       "      <td>400</td>\n",
       "      <td>50</td>\n",
       "      <td>{'layer_two': 300, 'layer_three': 128, 'layer_...</td>\n",
       "      <td>0.865041</td>\n",
       "      <td>0.855290</td>\n",
       "      <td>0.864029</td>\n",
       "      <td>0.856289</td>\n",
       "      <td>0.849664</td>\n",
       "      <td>0.858063</td>\n",
       "      <td>0.005756</td>\n",
       "      <td>5</td>\n",
       "    </tr>\n",
       "  </tbody>\n",
       "</table>\n",
       "</div>"
      ],
      "text/plain": [
       "   mean_fit_time  std_fit_time  mean_score_time  std_score_time  \\\n",
       "9     776.955180    269.779400         5.484676        3.794801   \n",
       "5    1050.406410      3.726158         5.957875        1.581117   \n",
       "7     967.642342     10.787216         4.592444        1.692376   \n",
       "3    1101.000576     16.496899        10.735894        4.354181   \n",
       "2    1337.949208      3.672707         4.419248        1.558427   \n",
       "\n",
       "  param_layer_two param_layer_three param_layer_one param_epochs  \\\n",
       "9             300               128             100           40   \n",
       "5             200                64             400           40   \n",
       "7             300                64             100           40   \n",
       "3             100               128             400           40   \n",
       "2             300               128             400           50   \n",
       "\n",
       "                                              params  split0_test_score  \\\n",
       "9  {'layer_two': 300, 'layer_three': 128, 'layer_...           0.860166   \n",
       "5  {'layer_two': 200, 'layer_three': 64, 'layer_o...           0.865225   \n",
       "7  {'layer_two': 300, 'layer_three': 64, 'layer_o...           0.858050   \n",
       "3  {'layer_two': 100, 'layer_three': 128, 'layer_...           0.855014   \n",
       "2  {'layer_two': 300, 'layer_three': 128, 'layer_...           0.865041   \n",
       "\n",
       "   split1_test_score  split2_test_score  split3_test_score  split4_test_score  \\\n",
       "9           0.867341           0.858234           0.861441           0.859141   \n",
       "5           0.855198           0.860994           0.862637           0.860705   \n",
       "7           0.859522           0.862190           0.863741           0.856841   \n",
       "3           0.861822           0.861454           0.859877           0.859325   \n",
       "2           0.855290           0.864029           0.856289           0.849664   \n",
       "\n",
       "   mean_test_score  std_test_score  rank_test_score  \n",
       "9         0.861264        0.003221                1  \n",
       "5         0.860952        0.003295                2  \n",
       "7         0.860068        0.002560                3  \n",
       "3         0.859498        0.002429                4  \n",
       "2         0.858063        0.005756                5  "
      ]
     },
     "execution_count": 18,
     "metadata": {},
     "output_type": "execute_result"
    }
   ],
   "source": [
    "pd.DataFrame(nn_rs.cv_results_).sort_values('rank_test_score').head()"
   ]
  },
  {
   "cell_type": "code",
   "execution_count": 68,
   "id": "0c6414f7-ead0-42f4-bdd6-dd20741e8ad6",
   "metadata": {},
   "outputs": [
    {
     "name": "stdout",
     "output_type": "stream",
     "text": [
      "Epoch 1/40\n",
      "1699/1699 [==============================] - 10s 6ms/step - loss: 0.5237 - mse: 63.3639 - mae: 7.7426 - acc: 0.8754 - val_loss: 0.4718 - val_mse: 63.3599 - val_mae: 7.7422 - val_acc: 0.8808\n",
      "Epoch 2/40\n",
      "1699/1699 [==============================] - 9s 6ms/step - loss: 0.4662 - mse: 63.3649 - mae: 7.7426 - acc: 0.8810 - val_loss: 0.4568 - val_mse: 63.3619 - val_mae: 7.7422 - val_acc: 0.8814\n",
      "Epoch 3/40\n",
      "1699/1699 [==============================] - 9s 5ms/step - loss: 0.4550 - mse: 63.3652 - mae: 7.7426 - acc: 0.8812 - val_loss: 0.4593 - val_mse: 63.3621 - val_mae: 7.7422 - val_acc: 0.8814\n",
      "Epoch 4/40\n",
      "1699/1699 [==============================] - 9s 6ms/step - loss: 0.4503 - mse: 63.3653 - mae: 7.7426 - acc: 0.8813 - val_loss: 0.4667 - val_mse: 63.3612 - val_mae: 7.7422 - val_acc: 0.8814\n",
      "Epoch 5/40\n",
      "1699/1699 [==============================] - 9s 6ms/step - loss: 0.4465 - mse: 63.3655 - mae: 7.7426 - acc: 0.8814 - val_loss: 0.4717 - val_mse: 63.3634 - val_mae: 7.7422 - val_acc: 0.8811\n",
      "Epoch 6/40\n",
      "1699/1699 [==============================] - 11s 7ms/step - loss: 0.4421 - mse: 63.3657 - mae: 7.7426 - acc: 0.8812 - val_loss: 0.4653 - val_mse: 63.3632 - val_mae: 7.7422 - val_acc: 0.8815\n",
      "Epoch 7/40\n",
      "1699/1699 [==============================] - 11s 7ms/step - loss: 0.4379 - mse: 63.3659 - mae: 7.7426 - acc: 0.8817 - val_loss: 0.4701 - val_mse: 63.3641 - val_mae: 7.7422 - val_acc: 0.8814\n",
      "Epoch 00007: early stopping\n"
     ]
    }
   ],
   "source": [
    "history = model.fit(X_train_sc, y_train, validation_data=(X_test_sc, y_test), epochs=40, batch_size=32, callbacks=[early_stop])"
   ]
  },
  {
   "cell_type": "code",
   "execution_count": 73,
   "id": "2dfe99b2-3145-4e16-b2a6-90fbfeedeb73",
   "metadata": {},
   "outputs": [
    {
     "data": {
      "image/png": "[encoded data removed]",
      "text/plain": [
       "<Figure size 864x576 with 1 Axes>"
      ]
     },
     "metadata": {
      "needs_background": "light"
     },
     "output_type": "display_data"
    }
   ],
   "source": [
    "train_loss = history.history['loss']\n",
    "test_loss = history.history['val_loss']\n",
    "\n",
    "plt.figure(figsize=(12,8))\n",
    "plt.plot(train_loss, label='Training Loss', color='navy')\n",
    "plt.plot(test_loss, label='Testing loss', color='orange')\n",
    "plt.legend();"
   ]
  },
  {
   "cell_type": "code",
   "execution_count": null,
   "id": "eeb2f17f-6090-4255-a58f-f8f1d5e3f100",
   "metadata": {},
   "outputs": [],
   "source": []
  },
  {
   "cell_type": "code",
   "execution_count": 130,
   "id": "e01c90ff-947b-4575-a602-176145387ef8",
   "metadata": {},
   "outputs": [
    {
     "name": "stdout",
     "output_type": "stream",
     "text": [
      "563/563 [==============================] - 1s 2ms/step - loss: 0.3979 - acc: 0.8978\n"
     ]
    },
    {
     "data": {
      "text/plain": [
       "[0.39788171648979187, 0.897777795791626]"
      ]
     },
     "execution_count": 130,
     "metadata": {},
     "output_type": "execute_result"
    }
   ],
   "source": [
    "model.evaluate(X_test_sc, y_test)"
   ]
  },
  {
   "cell_type": "code",
   "execution_count": 131,
   "id": "ba975e01-33dd-421b-b370-f132a7efc826",
   "metadata": {},
   "outputs": [],
   "source": [
    "y_preds = model.predict(X_test_sc)"
   ]
  },
  {
   "cell_type": "code",
   "execution_count": 133,
   "id": "3170c491-c1f1-4111-a2eb-082bd983ffc2",
   "metadata": {},
   "outputs": [],
   "source": [
    "y_preds = np.round(y_preds, decimals=0)"
   ]
  },
  {
   "cell_type": "code",
   "execution_count": 134,
   "id": "676c9afa-3286-4af9-be1b-e8f35e2413c3",
   "metadata": {},
   "outputs": [],
   "source": [
    "y_preds = y_preds.astype(int)"
   ]
  },
  {
   "cell_type": "code",
   "execution_count": 135,
   "id": "7747a3fd-ee5e-42b8-aac3-fda425d62497",
   "metadata": {},
   "outputs": [],
   "source": [
    "y_preds_df = pd.DataFrame(y_preds)"
   ]
  },
  {
   "cell_type": "code",
   "execution_count": 137,
   "id": "5a086546-7ede-4340-aa27-78f684a89eda",
   "metadata": {},
   "outputs": [
    {
     "data": {
      "text/plain": [
       "0     1473\n",
       "1     1459\n",
       "2     1507\n",
       "3     1457\n",
       "4     1300\n",
       "5     1413\n",
       "6     1397\n",
       "7     1503\n",
       "8     1517\n",
       "9     1495\n",
       "10     846\n",
       "11    1203\n",
       "dtype: int64"
      ]
     },
     "execution_count": 137,
     "metadata": {},
     "output_type": "execute_result"
    }
   ],
   "source": [
    "y_preds_df.sum()"
   ]
  },
  {
   "cell_type": "code",
   "execution_count": 139,
   "id": "05154e3f-cb3d-46ff-8f3a-57d7a616492e",
   "metadata": {},
   "outputs": [],
   "source": [
    "y_true = pd.Series(y_test)"
   ]
  },
  {
   "cell_type": "code",
   "execution_count": 144,
   "id": "3c7a458c-32a6-4bfd-a45e-e2d50df060a8",
   "metadata": {},
   "outputs": [
    {
     "data": {
      "text/plain": [
       "72000"
      ]
     },
     "execution_count": 144,
     "metadata": {},
     "output_type": "execute_result"
    }
   ],
   "source": []
  },
  {
   "cell_type": "code",
   "execution_count": 140,
   "id": "d9eb48f2-871b-4b7a-850a-8ebb580433c4",
   "metadata": {},
   "outputs": [
    {
     "data": {
      "text/plain": [
       "2     1500\n",
       "0     1500\n",
       "8     1500\n",
       "7     1500\n",
       "3     1500\n",
       "4     1500\n",
       "11    1500\n",
       "10    1500\n",
       "6     1500\n",
       "1     1500\n",
       "9     1500\n",
       "5     1500\n",
       "dtype: int64"
      ]
     },
     "execution_count": 140,
     "metadata": {},
     "output_type": "execute_result"
    }
   ],
   "source": [
    "y_true.value_counts()"
   ]
  },
  {
   "cell_type": "code",
   "execution_count": 497,
   "id": "31151d0b-55f6-4bed-9bb0-ddba60170bdd",
   "metadata": {},
   "outputs": [
    {
     "data": {
      "text/plain": [
       "(18117, 12)"
      ]
     },
     "execution_count": 497,
     "metadata": {},
     "output_type": "execute_result"
    }
   ],
   "source": [
    "y_preds.shape"
   ]
  },
  {
   "cell_type": "code",
   "execution_count": 450,
   "id": "d484312d-f19f-496f-94c1-7e6f77d4d74e",
   "metadata": {},
   "outputs": [
    {
     "data": {
      "text/plain": [
       "18117"
      ]
     },
     "execution_count": 450,
     "metadata": {},
     "output_type": "execute_result"
    }
   ],
   "source": [
    "len(y_test)"
   ]
  },
  {
   "cell_type": "code",
   "execution_count": 495,
   "id": "3cddac3c-cd81-4b20-9c8e-b80ff34ab55c",
   "metadata": {},
   "outputs": [
    {
     "ename": "ValueError",
     "evalue": "Classification metrics can't handle a mix of multiclass and multilabel-indicator targets",
     "output_type": "error",
     "traceback": [
      "\u001b[1;31m---------------------------------------------------------------------------\u001b[0m",
      "\u001b[1;31mValueError\u001b[0m                                Traceback (most recent call last)",
      "\u001b[1;32m~\\AppData\\Local\\Temp/ipykernel_11440/386917451.py\u001b[0m in \u001b[0;36m<module>\u001b[1;34m\u001b[0m\n\u001b[1;32m----> 1\u001b[1;33m \u001b[0mclassification_report\u001b[0m\u001b[1;33m(\u001b[0m\u001b[0my_test\u001b[0m\u001b[1;33m,\u001b[0m \u001b[0my_preds\u001b[0m\u001b[1;33m)\u001b[0m\u001b[1;33m\u001b[0m\u001b[1;33m\u001b[0m\u001b[0m\n\u001b[0m",
      "\u001b[1;32m~\\anaconda3\\lib\\site-packages\\sklearn\\metrics\\_classification.py\u001b[0m in \u001b[0;36mclassification_report\u001b[1;34m(y_true, y_pred, labels, target_names, sample_weight, digits, output_dict, zero_division)\u001b[0m\n\u001b[0;32m   2108\u001b[0m     \"\"\"\n\u001b[0;32m   2109\u001b[0m \u001b[1;33m\u001b[0m\u001b[0m\n\u001b[1;32m-> 2110\u001b[1;33m     \u001b[0my_type\u001b[0m\u001b[1;33m,\u001b[0m \u001b[0my_true\u001b[0m\u001b[1;33m,\u001b[0m \u001b[0my_pred\u001b[0m \u001b[1;33m=\u001b[0m \u001b[0m_check_targets\u001b[0m\u001b[1;33m(\u001b[0m\u001b[0my_true\u001b[0m\u001b[1;33m,\u001b[0m \u001b[0my_pred\u001b[0m\u001b[1;33m)\u001b[0m\u001b[1;33m\u001b[0m\u001b[1;33m\u001b[0m\u001b[0m\n\u001b[0m\u001b[0;32m   2111\u001b[0m \u001b[1;33m\u001b[0m\u001b[0m\n\u001b[0;32m   2112\u001b[0m     \u001b[1;32mif\u001b[0m \u001b[0mlabels\u001b[0m \u001b[1;32mis\u001b[0m \u001b[1;32mNone\u001b[0m\u001b[1;33m:\u001b[0m\u001b[1;33m\u001b[0m\u001b[1;33m\u001b[0m\u001b[0m\n",
      "\u001b[1;32m~\\anaconda3\\lib\\site-packages\\sklearn\\metrics\\_classification.py\u001b[0m in \u001b[0;36m_check_targets\u001b[1;34m(y_true, y_pred)\u001b[0m\n\u001b[0;32m     91\u001b[0m \u001b[1;33m\u001b[0m\u001b[0m\n\u001b[0;32m     92\u001b[0m     \u001b[1;32mif\u001b[0m \u001b[0mlen\u001b[0m\u001b[1;33m(\u001b[0m\u001b[0my_type\u001b[0m\u001b[1;33m)\u001b[0m \u001b[1;33m>\u001b[0m \u001b[1;36m1\u001b[0m\u001b[1;33m:\u001b[0m\u001b[1;33m\u001b[0m\u001b[1;33m\u001b[0m\u001b[0m\n\u001b[1;32m---> 93\u001b[1;33m         raise ValueError(\n\u001b[0m\u001b[0;32m     94\u001b[0m             \"Classification metrics can't handle a mix of {0} and {1} targets\".format(\n\u001b[0;32m     95\u001b[0m                 \u001b[0mtype_true\u001b[0m\u001b[1;33m,\u001b[0m \u001b[0mtype_pred\u001b[0m\u001b[1;33m\u001b[0m\u001b[1;33m\u001b[0m\u001b[0m\n",
      "\u001b[1;31mValueError\u001b[0m: Classification metrics can't handle a mix of multiclass and multilabel-indicator targets"
     ]
    }
   ],
   "source": [
    "classification_report(y_test, y_preds)"
   ]
  },
  {
   "cell_type": "code",
   "execution_count": 432,
   "id": "f58eebb5-3ffe-4408-a810-2642f41ca583",
   "metadata": {},
   "outputs": [
    {
     "ename": "InvalidArgumentError",
     "evalue": "Shapes of all inputs must match: values[0].shape = [18117] != values[1].shape = [18117,12] [Op:Pack] name: stack",
     "output_type": "error",
     "traceback": [
      "\u001b[1;31m---------------------------------------------------------------------------\u001b[0m",
      "\u001b[1;31mInvalidArgumentError\u001b[0m                      Traceback (most recent call last)",
      "\u001b[1;32m~\\AppData\\Local\\Temp/ipykernel_11440/3799406000.py\u001b[0m in \u001b[0;36m<module>\u001b[1;34m\u001b[0m\n\u001b[1;32m----> 1\u001b[1;33m \u001b[0mconfusion_matrix\u001b[0m\u001b[1;33m(\u001b[0m\u001b[0mlabels\u001b[0m\u001b[1;33m=\u001b[0m\u001b[0my_test\u001b[0m\u001b[1;33m,\u001b[0m \u001b[0mpredictions\u001b[0m\u001b[1;33m=\u001b[0m\u001b[0my_preds\u001b[0m\u001b[1;33m,\u001b[0m \u001b[0mnum_classes\u001b[0m\u001b[1;33m=\u001b[0m\u001b[1;36m12\u001b[0m\u001b[1;33m)\u001b[0m\u001b[1;33m\u001b[0m\u001b[1;33m\u001b[0m\u001b[0m\n\u001b[0m",
      "\u001b[1;32m~\\anaconda3\\lib\\site-packages\\tensorflow\\python\\util\\traceback_utils.py\u001b[0m in \u001b[0;36merror_handler\u001b[1;34m(*args, **kwargs)\u001b[0m\n\u001b[0;32m    151\u001b[0m     \u001b[1;32mexcept\u001b[0m \u001b[0mException\u001b[0m \u001b[1;32mas\u001b[0m \u001b[0me\u001b[0m\u001b[1;33m:\u001b[0m\u001b[1;33m\u001b[0m\u001b[1;33m\u001b[0m\u001b[0m\n\u001b[0;32m    152\u001b[0m       \u001b[0mfiltered_tb\u001b[0m \u001b[1;33m=\u001b[0m \u001b[0m_process_traceback_frames\u001b[0m\u001b[1;33m(\u001b[0m\u001b[0me\u001b[0m\u001b[1;33m.\u001b[0m\u001b[0m__traceback__\u001b[0m\u001b[1;33m)\u001b[0m\u001b[1;33m\u001b[0m\u001b[1;33m\u001b[0m\u001b[0m\n\u001b[1;32m--> 153\u001b[1;33m       \u001b[1;32mraise\u001b[0m \u001b[0me\u001b[0m\u001b[1;33m.\u001b[0m\u001b[0mwith_traceback\u001b[0m\u001b[1;33m(\u001b[0m\u001b[0mfiltered_tb\u001b[0m\u001b[1;33m)\u001b[0m \u001b[1;32mfrom\u001b[0m \u001b[1;32mNone\u001b[0m\u001b[1;33m\u001b[0m\u001b[1;33m\u001b[0m\u001b[0m\n\u001b[0m\u001b[0;32m    154\u001b[0m     \u001b[1;32mfinally\u001b[0m\u001b[1;33m:\u001b[0m\u001b[1;33m\u001b[0m\u001b[1;33m\u001b[0m\u001b[0m\n\u001b[0;32m    155\u001b[0m       \u001b[1;32mdel\u001b[0m \u001b[0mfiltered_tb\u001b[0m\u001b[1;33m\u001b[0m\u001b[1;33m\u001b[0m\u001b[0m\n",
      "\u001b[1;32m~\\anaconda3\\lib\\site-packages\\tensorflow\\python\\framework\\ops.py\u001b[0m in \u001b[0;36mraise_from_not_ok_status\u001b[1;34m(e, name)\u001b[0m\n\u001b[0;32m   7105\u001b[0m \u001b[1;32mdef\u001b[0m \u001b[0mraise_from_not_ok_status\u001b[0m\u001b[1;33m(\u001b[0m\u001b[0me\u001b[0m\u001b[1;33m,\u001b[0m \u001b[0mname\u001b[0m\u001b[1;33m)\u001b[0m\u001b[1;33m:\u001b[0m\u001b[1;33m\u001b[0m\u001b[1;33m\u001b[0m\u001b[0m\n\u001b[0;32m   7106\u001b[0m   \u001b[0me\u001b[0m\u001b[1;33m.\u001b[0m\u001b[0mmessage\u001b[0m \u001b[1;33m+=\u001b[0m \u001b[1;33m(\u001b[0m\u001b[1;34m\" name: \"\u001b[0m \u001b[1;33m+\u001b[0m \u001b[0mname\u001b[0m \u001b[1;32mif\u001b[0m \u001b[0mname\u001b[0m \u001b[1;32mis\u001b[0m \u001b[1;32mnot\u001b[0m \u001b[1;32mNone\u001b[0m \u001b[1;32melse\u001b[0m \u001b[1;34m\"\"\u001b[0m\u001b[1;33m)\u001b[0m\u001b[1;33m\u001b[0m\u001b[1;33m\u001b[0m\u001b[0m\n\u001b[1;32m-> 7107\u001b[1;33m   \u001b[1;32mraise\u001b[0m \u001b[0mcore\u001b[0m\u001b[1;33m.\u001b[0m\u001b[0m_status_to_exception\u001b[0m\u001b[1;33m(\u001b[0m\u001b[0me\u001b[0m\u001b[1;33m)\u001b[0m \u001b[1;32mfrom\u001b[0m \u001b[1;32mNone\u001b[0m  \u001b[1;31m# pylint: disable=protected-access\u001b[0m\u001b[1;33m\u001b[0m\u001b[1;33m\u001b[0m\u001b[0m\n\u001b[0m\u001b[0;32m   7108\u001b[0m \u001b[1;33m\u001b[0m\u001b[0m\n\u001b[0;32m   7109\u001b[0m \u001b[1;33m\u001b[0m\u001b[0m\n",
      "\u001b[1;31mInvalidArgumentError\u001b[0m: Shapes of all inputs must match: values[0].shape = [18117] != values[1].shape = [18117,12] [Op:Pack] name: stack"
     ]
    }
   ],
   "source": [
    "confusion_matrix(labels=y_test, predictions=y_preds, num_classes=12)"
   ]
  },
  {
   "cell_type": "code",
   "execution_count": 413,
   "id": "5f1eac9e-aadc-4941-89a8-46e695f62839",
   "metadata": {},
   "outputs": [
    {
     "ename": "ValueError",
     "evalue": "Mix type of y not allowed, got types {'multiclass', 'continuous-multioutput'}",
     "output_type": "error",
     "traceback": [
      "\u001b[1;31m---------------------------------------------------------------------------\u001b[0m",
      "\u001b[1;31mValueError\u001b[0m                                Traceback (most recent call last)",
      "\u001b[1;32m~\\AppData\\Local\\Temp/ipykernel_11440/2995131879.py\u001b[0m in \u001b[0;36m<module>\u001b[1;34m\u001b[0m\n\u001b[0;32m      1\u001b[0m \u001b[1;31m# creating confusion matrix\u001b[0m\u001b[1;33m\u001b[0m\u001b[1;33m\u001b[0m\u001b[0m\n\u001b[1;32m----> 2\u001b[1;33m \u001b[0mConfusionMatrixDisplay\u001b[0m\u001b[1;33m.\u001b[0m\u001b[0mfrom_predictions\u001b[0m\u001b[1;33m(\u001b[0m\u001b[0my_test\u001b[0m\u001b[1;33m,\u001b[0m \u001b[0my_preds\u001b[0m\u001b[1;33m,\u001b[0m \u001b[0mcmap\u001b[0m\u001b[1;33m=\u001b[0m\u001b[1;34m'Oranges'\u001b[0m\u001b[1;33m)\u001b[0m\u001b[1;33m\u001b[0m\u001b[1;33m\u001b[0m\u001b[0m\n\u001b[0m\u001b[0;32m      3\u001b[0m \u001b[1;33m\u001b[0m\u001b[0m\n\u001b[0;32m      4\u001b[0m \u001b[0mplt\u001b[0m\u001b[1;33m.\u001b[0m\u001b[0mtitle\u001b[0m\u001b[1;33m(\u001b[0m\u001b[1;34m'Confusion Matrix'\u001b[0m\u001b[1;33m)\u001b[0m\u001b[1;33m\u001b[0m\u001b[1;33m\u001b[0m\u001b[0m\n\u001b[0;32m      5\u001b[0m \u001b[0mplt\u001b[0m\u001b[1;33m.\u001b[0m\u001b[0mxlabel\u001b[0m\u001b[1;33m(\u001b[0m\u001b[1;34m'Predictions'\u001b[0m\u001b[1;33m)\u001b[0m\u001b[1;33m\u001b[0m\u001b[1;33m\u001b[0m\u001b[0m\n",
      "\u001b[1;32m~\\anaconda3\\lib\\site-packages\\sklearn\\metrics\\_plot\\confusion_matrix.py\u001b[0m in \u001b[0;36mfrom_predictions\u001b[1;34m(cls, y_true, y_pred, labels, sample_weight, normalize, display_labels, include_values, xticks_rotation, values_format, cmap, ax, colorbar)\u001b[0m\n\u001b[0;32m    417\u001b[0m         \u001b[1;32mif\u001b[0m \u001b[0mdisplay_labels\u001b[0m \u001b[1;32mis\u001b[0m \u001b[1;32mNone\u001b[0m\u001b[1;33m:\u001b[0m\u001b[1;33m\u001b[0m\u001b[1;33m\u001b[0m\u001b[0m\n\u001b[0;32m    418\u001b[0m             \u001b[1;32mif\u001b[0m \u001b[0mlabels\u001b[0m \u001b[1;32mis\u001b[0m \u001b[1;32mNone\u001b[0m\u001b[1;33m:\u001b[0m\u001b[1;33m\u001b[0m\u001b[1;33m\u001b[0m\u001b[0m\n\u001b[1;32m--> 419\u001b[1;33m                 \u001b[0mdisplay_labels\u001b[0m \u001b[1;33m=\u001b[0m \u001b[0munique_labels\u001b[0m\u001b[1;33m(\u001b[0m\u001b[0my_true\u001b[0m\u001b[1;33m,\u001b[0m \u001b[0my_pred\u001b[0m\u001b[1;33m)\u001b[0m\u001b[1;33m\u001b[0m\u001b[1;33m\u001b[0m\u001b[0m\n\u001b[0m\u001b[0;32m    420\u001b[0m             \u001b[1;32melse\u001b[0m\u001b[1;33m:\u001b[0m\u001b[1;33m\u001b[0m\u001b[1;33m\u001b[0m\u001b[0m\n\u001b[0;32m    421\u001b[0m                 \u001b[0mdisplay_labels\u001b[0m \u001b[1;33m=\u001b[0m \u001b[0mlabels\u001b[0m\u001b[1;33m\u001b[0m\u001b[1;33m\u001b[0m\u001b[0m\n",
      "\u001b[1;32m~\\anaconda3\\lib\\site-packages\\sklearn\\utils\\multiclass.py\u001b[0m in \u001b[0;36munique_labels\u001b[1;34m(*ys)\u001b[0m\n\u001b[0;32m     78\u001b[0m \u001b[1;33m\u001b[0m\u001b[0m\n\u001b[0;32m     79\u001b[0m     \u001b[1;32mif\u001b[0m \u001b[0mlen\u001b[0m\u001b[1;33m(\u001b[0m\u001b[0mys_types\u001b[0m\u001b[1;33m)\u001b[0m \u001b[1;33m>\u001b[0m \u001b[1;36m1\u001b[0m\u001b[1;33m:\u001b[0m\u001b[1;33m\u001b[0m\u001b[1;33m\u001b[0m\u001b[0m\n\u001b[1;32m---> 80\u001b[1;33m         \u001b[1;32mraise\u001b[0m \u001b[0mValueError\u001b[0m\u001b[1;33m(\u001b[0m\u001b[1;34m\"Mix type of y not allowed, got types %s\"\u001b[0m \u001b[1;33m%\u001b[0m \u001b[0mys_types\u001b[0m\u001b[1;33m)\u001b[0m\u001b[1;33m\u001b[0m\u001b[1;33m\u001b[0m\u001b[0m\n\u001b[0m\u001b[0;32m     81\u001b[0m \u001b[1;33m\u001b[0m\u001b[0m\n\u001b[0;32m     82\u001b[0m     \u001b[0mlabel_type\u001b[0m \u001b[1;33m=\u001b[0m \u001b[0mys_types\u001b[0m\u001b[1;33m.\u001b[0m\u001b[0mpop\u001b[0m\u001b[1;33m(\u001b[0m\u001b[1;33m)\u001b[0m\u001b[1;33m\u001b[0m\u001b[1;33m\u001b[0m\u001b[0m\n",
      "\u001b[1;31mValueError\u001b[0m: Mix type of y not allowed, got types {'multiclass', 'continuous-multioutput'}"
     ]
    }
   ],
   "source": [
    "# creating confusion matrix\n",
    "ConfusionMatrixDisplay.from_predictions(y_test, y_preds, cmap='Oranges')\n",
    "\n",
    "plt.title('Confusion Matrix')\n",
    "plt.xlabel('Predictions')\n",
    "plt.ylabel('Actual')"
   ]
  },
  {
   "cell_type": "code",
   "execution_count": 146,
   "id": "523613dc-57b9-4167-be79-d660edee78ef",
   "metadata": {},
   "outputs": [],
   "source": [
    "ohe_df = pd.read_csv('../data/ohe_train_sess.csv')"
   ]
  },
  {
   "cell_type": "code",
   "execution_count": 151,
   "id": "7be558fa-4427-4d09-9c8b-9b7173d58322",
   "metadata": {},
   "outputs": [
    {
     "data": {
      "text/plain": [
       "(72465, 1873)"
      ]
     },
     "execution_count": 151,
     "metadata": {},
     "output_type": "execute_result"
    }
   ],
   "source": [
    "ohe_df.shape"
   ]
  },
  {
   "cell_type": "code",
   "execution_count": null,
   "id": "9c2c2c7b-3ca8-4efb-8f11-020cdb3900b3",
   "metadata": {},
   "outputs": [],
   "source": []
  }
 ],
 "metadata": {
  "kernelspec": {
   "display_name": "Python 3 (ipykernel)",
   "language": "python",
   "name": "python3"
  },
  "language_info": {
   "codemirror_mode": {
    "name": "ipython",
    "version": 3
   },
   "file_extension": ".py",
   "mimetype": "text/x-python",
   "name": "python",
   "nbconvert_exporter": "python",
   "pygments_lexer": "ipython3",
   "version": "3.9.7"
  }
 },
 "nbformat": 4,
 "nbformat_minor": 5
}
