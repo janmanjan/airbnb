{
 "cells": [
  {
   "cell_type": "markdown",
   "id": "a7af8c03-e016-4a5d-a1cb-b74abc7130fb",
   "metadata": {},
   "source": [
    "## `Imports`"
   ]
  },
  {
   "cell_type": "code",
   "execution_count": 1,
   "id": "984a7352-71b0-43db-a939-e8edf5e38e76",
   "metadata": {},
   "outputs": [],
   "source": [
    "import matplotlib.pyplot as plt\n",
    "import missingno as msno\n",
    "import numpy as np\n",
    "import pandas as pd\n",
    "\n",
    "from sklearn.preprocessing import LabelEncoder"
   ]
  },
  {
   "cell_type": "markdown",
   "id": "30013a5a-9f57-44d5-aab0-e7d3f11508ea",
   "metadata": {},
   "source": [
    "#### Reading in data"
   ]
  },
  {
   "cell_type": "code",
   "execution_count": 2,
   "id": "0d750522-74c4-48c9-9e2e-f190c036e167",
   "metadata": {},
   "outputs": [],
   "source": [
    "# read in train data\n",
    "train = pd.read_csv('../data/train_users_2.csv')"
   ]
  },
  {
   "cell_type": "markdown",
   "id": "694a5740-65c4-4892-a1c4-6ebbd8a2c396",
   "metadata": {},
   "source": [
    "## `Data Cleaning`"
   ]
  },
  {
   "cell_type": "markdown",
   "id": "10363c96-4cac-4ecb-b363-11a13b068bf6",
   "metadata": {},
   "source": [
    "#### Initial checks"
   ]
  },
  {
   "cell_type": "code",
   "execution_count": 3,
   "id": "e4b56bfa-d4a6-40c8-89bb-f0251416649d",
   "metadata": {},
   "outputs": [
    {
     "data": {
      "text/html": [
       "<div>\n",
       "<style scoped>\n",
       "    .dataframe tbody tr th:only-of-type {\n",
       "        vertical-align: middle;\n",
       "    }\n",
       "\n",
       "    .dataframe tbody tr th {\n",
       "        vertical-align: top;\n",
       "    }\n",
       "\n",
       "    .dataframe thead th {\n",
       "        text-align: right;\n",
       "    }\n",
       "</style>\n",
       "<table border=\"1\" class=\"dataframe\">\n",
       "  <thead>\n",
       "    <tr style=\"text-align: right;\">\n",
       "      <th></th>\n",
       "      <th>id</th>\n",
       "      <th>date_account_created</th>\n",
       "      <th>timestamp_first_active</th>\n",
       "      <th>date_first_booking</th>\n",
       "      <th>gender</th>\n",
       "      <th>age</th>\n",
       "      <th>signup_method</th>\n",
       "      <th>signup_flow</th>\n",
       "      <th>language</th>\n",
       "      <th>affiliate_channel</th>\n",
       "      <th>affiliate_provider</th>\n",
       "      <th>first_affiliate_tracked</th>\n",
       "      <th>signup_app</th>\n",
       "      <th>first_device_type</th>\n",
       "      <th>first_browser</th>\n",
       "      <th>country_destination</th>\n",
       "    </tr>\n",
       "  </thead>\n",
       "  <tbody>\n",
       "    <tr>\n",
       "      <th>0</th>\n",
       "      <td>gxn3p5htnn</td>\n",
       "      <td>2010-06-28</td>\n",
       "      <td>20090319043255</td>\n",
       "      <td>NaN</td>\n",
       "      <td>-unknown-</td>\n",
       "      <td>NaN</td>\n",
       "      <td>facebook</td>\n",
       "      <td>0</td>\n",
       "      <td>en</td>\n",
       "      <td>direct</td>\n",
       "      <td>direct</td>\n",
       "      <td>untracked</td>\n",
       "      <td>Web</td>\n",
       "      <td>Mac Desktop</td>\n",
       "      <td>Chrome</td>\n",
       "      <td>NDF</td>\n",
       "    </tr>\n",
       "    <tr>\n",
       "      <th>1</th>\n",
       "      <td>820tgsjxq7</td>\n",
       "      <td>2011-05-25</td>\n",
       "      <td>20090523174809</td>\n",
       "      <td>NaN</td>\n",
       "      <td>MALE</td>\n",
       "      <td>38.0</td>\n",
       "      <td>facebook</td>\n",
       "      <td>0</td>\n",
       "      <td>en</td>\n",
       "      <td>seo</td>\n",
       "      <td>google</td>\n",
       "      <td>untracked</td>\n",
       "      <td>Web</td>\n",
       "      <td>Mac Desktop</td>\n",
       "      <td>Chrome</td>\n",
       "      <td>NDF</td>\n",
       "    </tr>\n",
       "    <tr>\n",
       "      <th>2</th>\n",
       "      <td>4ft3gnwmtx</td>\n",
       "      <td>2010-09-28</td>\n",
       "      <td>20090609231247</td>\n",
       "      <td>2010-08-02</td>\n",
       "      <td>FEMALE</td>\n",
       "      <td>56.0</td>\n",
       "      <td>basic</td>\n",
       "      <td>3</td>\n",
       "      <td>en</td>\n",
       "      <td>direct</td>\n",
       "      <td>direct</td>\n",
       "      <td>untracked</td>\n",
       "      <td>Web</td>\n",
       "      <td>Windows Desktop</td>\n",
       "      <td>IE</td>\n",
       "      <td>US</td>\n",
       "    </tr>\n",
       "    <tr>\n",
       "      <th>3</th>\n",
       "      <td>bjjt8pjhuk</td>\n",
       "      <td>2011-12-05</td>\n",
       "      <td>20091031060129</td>\n",
       "      <td>2012-09-08</td>\n",
       "      <td>FEMALE</td>\n",
       "      <td>42.0</td>\n",
       "      <td>facebook</td>\n",
       "      <td>0</td>\n",
       "      <td>en</td>\n",
       "      <td>direct</td>\n",
       "      <td>direct</td>\n",
       "      <td>untracked</td>\n",
       "      <td>Web</td>\n",
       "      <td>Mac Desktop</td>\n",
       "      <td>Firefox</td>\n",
       "      <td>other</td>\n",
       "    </tr>\n",
       "    <tr>\n",
       "      <th>4</th>\n",
       "      <td>87mebub9p4</td>\n",
       "      <td>2010-09-14</td>\n",
       "      <td>20091208061105</td>\n",
       "      <td>2010-02-18</td>\n",
       "      <td>-unknown-</td>\n",
       "      <td>41.0</td>\n",
       "      <td>basic</td>\n",
       "      <td>0</td>\n",
       "      <td>en</td>\n",
       "      <td>direct</td>\n",
       "      <td>direct</td>\n",
       "      <td>untracked</td>\n",
       "      <td>Web</td>\n",
       "      <td>Mac Desktop</td>\n",
       "      <td>Chrome</td>\n",
       "      <td>US</td>\n",
       "    </tr>\n",
       "  </tbody>\n",
       "</table>\n",
       "</div>"
      ],
      "text/plain": [
       "           id date_account_created  timestamp_first_active date_first_booking  \\\n",
       "0  gxn3p5htnn           2010-06-28          20090319043255                NaN   \n",
       "1  820tgsjxq7           2011-05-25          20090523174809                NaN   \n",
       "2  4ft3gnwmtx           2010-09-28          20090609231247         2010-08-02   \n",
       "3  bjjt8pjhuk           2011-12-05          20091031060129         2012-09-08   \n",
       "4  87mebub9p4           2010-09-14          20091208061105         2010-02-18   \n",
       "\n",
       "      gender   age signup_method  signup_flow language affiliate_channel  \\\n",
       "0  -unknown-   NaN      facebook            0       en            direct   \n",
       "1       MALE  38.0      facebook            0       en               seo   \n",
       "2     FEMALE  56.0         basic            3       en            direct   \n",
       "3     FEMALE  42.0      facebook            0       en            direct   \n",
       "4  -unknown-  41.0         basic            0       en            direct   \n",
       "\n",
       "  affiliate_provider first_affiliate_tracked signup_app first_device_type  \\\n",
       "0             direct               untracked        Web       Mac Desktop   \n",
       "1             google               untracked        Web       Mac Desktop   \n",
       "2             direct               untracked        Web   Windows Desktop   \n",
       "3             direct               untracked        Web       Mac Desktop   \n",
       "4             direct               untracked        Web       Mac Desktop   \n",
       "\n",
       "  first_browser country_destination  \n",
       "0        Chrome                 NDF  \n",
       "1        Chrome                 NDF  \n",
       "2            IE                  US  \n",
       "3       Firefox               other  \n",
       "4        Chrome                  US  "
      ]
     },
     "execution_count": 3,
     "metadata": {},
     "output_type": "execute_result"
    }
   ],
   "source": [
    "# check data\n",
    "train.head()"
   ]
  },
  {
   "cell_type": "code",
   "execution_count": 4,
   "id": "72148fab-cd17-4c46-9124-b10508068886",
   "metadata": {},
   "outputs": [
    {
     "data": {
      "text/plain": [
       "id                              0\n",
       "date_account_created            0\n",
       "timestamp_first_active          0\n",
       "date_first_booking         124543\n",
       "gender                          0\n",
       "age                         87990\n",
       "signup_method                   0\n",
       "signup_flow                     0\n",
       "language                        0\n",
       "affiliate_channel               0\n",
       "affiliate_provider              0\n",
       "first_affiliate_tracked      6065\n",
       "signup_app                      0\n",
       "first_device_type               0\n",
       "first_browser                   0\n",
       "country_destination             0\n",
       "dtype: int64"
      ]
     },
     "execution_count": 4,
     "metadata": {},
     "output_type": "execute_result"
    }
   ],
   "source": [
    "# check for null values\n",
    "train.isnull().sum()"
   ]
  },
  {
   "cell_type": "code",
   "execution_count": 5,
   "id": "d01465f5-0e37-4172-b4c2-a4eb805aca6e",
   "metadata": {},
   "outputs": [
    {
     "data": {
      "text/plain": [
       "(213451, 16)"
      ]
     },
     "execution_count": 5,
     "metadata": {},
     "output_type": "execute_result"
    }
   ],
   "source": [
    "# check shape\n",
    "train.shape"
   ]
  },
  {
   "cell_type": "markdown",
   "id": "bc8bffb8-4daa-4a61-b0b6-c5be2ad65388",
   "metadata": {},
   "source": [
    "#### Missingno"
   ]
  },
  {
   "cell_type": "code",
   "execution_count": 6,
   "id": "ff428d90-e23a-4a12-a6b5-89cdcf8d3928",
   "metadata": {},
   "outputs": [
    {
     "data": {
      "image/png": "[encoded data removed]",
      "text/plain": [
       "<Figure size 1800x720 with 2 Axes>"
      ]
     },
     "metadata": {
      "needs_background": "light"
     },
     "output_type": "display_data"
    }
   ],
   "source": [
    "# check for patterns\n",
    "msno.matrix(train);"
   ]
  },
  {
   "cell_type": "code",
   "execution_count": 7,
   "id": "212a9df0-ba43-4397-a968-c771520b5374",
   "metadata": {},
   "outputs": [
    {
     "data": {
      "image/png": "[encoded data removed]",
      "text/plain": [
       "<Figure size 432x432 with 2 Axes>"
      ]
     },
     "metadata": {
      "needs_background": "light"
     },
     "output_type": "display_data"
    }
   ],
   "source": [
    "msno.heatmap(train, figsize=(6,6));"
   ]
  },
  {
   "cell_type": "markdown",
   "id": "9cf6e3c0-62e8-4f4c-b6b1-d6110dfe27d7",
   "metadata": {
    "tags": []
   },
   "source": [
    "### 3 Features with null values:\n",
    "* date_first_booking\n",
    "* age\n",
    "* first_affiliate_tracked"
   ]
  },
  {
   "cell_type": "markdown",
   "id": "23ad5727-be9f-4818-b775-c4100f10a7ff",
   "metadata": {},
   "source": [
    "#### Date First Booking"
   ]
  },
  {
   "cell_type": "code",
   "execution_count": 8,
   "id": "498d53a4-e051-47fa-9ee5-32b758c2791d",
   "metadata": {},
   "outputs": [
    {
     "data": {
      "text/plain": [
       "NDF    124543\n",
       "Name: country_destination, dtype: int64"
      ]
     },
     "execution_count": 8,
     "metadata": {},
     "output_type": "execute_result"
    }
   ],
   "source": [
    "# check if null date_first_booking has distinct country_destination\n",
    "train[train['date_first_booking'].isna()]['country_destination'].value_counts()"
   ]
  },
  {
   "cell_type": "code",
   "execution_count": 9,
   "id": "af40ee62-21cd-4966-8111-144827612ba6",
   "metadata": {},
   "outputs": [],
   "source": [
    "# NaN in date_first_booking as 'no date' - categorical variable\n",
    "train['date_first_booking'].fillna('no date', inplace=True)"
   ]
  },
  {
   "cell_type": "markdown",
   "id": "38f44601-692b-4aef-9cb8-44ad9ef3a47d",
   "metadata": {},
   "source": [
    "* All null values corresponding to NDF (No Desitnation Found); expected strong relationship found\n",
    "* Feature will be treated as categorical and will be dropped if later if using a ARIMA model later on"
   ]
  },
  {
   "cell_type": "markdown",
   "id": "7c85c924-b5ea-41af-913a-7aa41cd3a5df",
   "metadata": {},
   "source": [
    "#### Age"
   ]
  },
  {
   "cell_type": "code",
   "execution_count": 10,
   "id": "cf3ae35b-a5bb-4004-b41d-ea914e784bdb",
   "metadata": {},
   "outputs": [
    {
     "data": {
      "text/plain": [
       "NDF      67614\n",
       "US       13773\n",
       "other     2518\n",
       "FR        1310\n",
       "IT         799\n",
       "GB         550\n",
       "ES         543\n",
       "CA         351\n",
       "DE         210\n",
       "NL         160\n",
       "AU         103\n",
       "PT          59\n",
       "Name: country_destination, dtype: int64"
      ]
     },
     "execution_count": 10,
     "metadata": {},
     "output_type": "execute_result"
    }
   ],
   "source": [
    "# check for pattern with null values\n",
    "train[train['age'].isnull()]['country_destination'].value_counts()"
   ]
  },
  {
   "cell_type": "code",
   "execution_count": 11,
   "id": "a94434fb-c0b2-4284-9aa7-b7b2415546df",
   "metadata": {},
   "outputs": [
    {
     "data": {
      "image/png": "[encoded data removed]",
      "text/plain": [
       "<Figure size 432x288 with 1 Axes>"
      ]
     },
     "metadata": {
      "needs_background": "light"
     },
     "output_type": "display_data"
    }
   ],
   "source": [
    "# check for age distribution\n",
    "plt.hist(train['age']);"
   ]
  },
  {
   "cell_type": "code",
   "execution_count": 12,
   "id": "43b2eddb-9871-4262-811b-ee631232f97f",
   "metadata": {},
   "outputs": [],
   "source": [
    "# data entry error transformed above 1000, likely DOB, tranformed to age\n",
    "train.loc[train['age']>=1000, 'age'] = [2015-each for each in train[train['age']>=1000]['age']]"
   ]
  },
  {
   "cell_type": "code",
   "execution_count": 13,
   "id": "a6a5bdce-b9bb-4f03-98c3-d30f2e234b6f",
   "metadata": {},
   "outputs": [],
   "source": [
    "# drop ages above 122 because no human has lived longer than 122\n",
    "train.drop(index=train.loc[train['age']>=123, 'age'].index, inplace=True)\n",
    "\n",
    "# drop ages below 18 because of airbnb age restriction at 18\n",
    "train.drop(index=train.loc[train['age']<18, 'age'].index, inplace=True)"
   ]
  },
  {
   "cell_type": "markdown",
   "id": "d33e0f95-e641-4f04-99e8-8ba70db3b97b",
   "metadata": {},
   "source": [
    "#### First Affiliate Tracked"
   ]
  },
  {
   "cell_type": "code",
   "execution_count": 14,
   "id": "a8b6a6df-0097-4c9c-a049-b3e690517636",
   "metadata": {},
   "outputs": [
    {
     "data": {
      "text/plain": [
       "NDF      4277\n",
       "US       1307\n",
       "FR        121\n",
       "other     113\n",
       "IT         44\n",
       "CA         37\n",
       "ES         36\n",
       "GB         28\n",
       "DE         20\n",
       "AU         12\n",
       "NL         11\n",
       "PT          3\n",
       "Name: country_destination, dtype: int64"
      ]
     },
     "execution_count": 14,
     "metadata": {},
     "output_type": "execute_result"
    }
   ],
   "source": [
    "# check if null values are related to country destination\n",
    "train[train['first_affiliate_tracked'].isnull()]['country_destination'].value_counts()"
   ]
  },
  {
   "cell_type": "code",
   "execution_count": 15,
   "id": "66fedca4-96a8-4c27-83c1-e65bd591a294",
   "metadata": {},
   "outputs": [],
   "source": [
    "# null values to 'unknown' - categorical variable\n",
    "train['first_affiliate_tracked'].fillna('unknown', inplace=True)"
   ]
  },
  {
   "cell_type": "markdown",
   "id": "6ef8345d-7e48-4a95-87fa-98e663dbcedb",
   "metadata": {},
   "source": [
    "**Overall Notes**:\n",
    "* Date first booking & First affiliate tracked - treated as categorical\n",
    "* Age entry errors handled but null values will be imputed (potentially dropped later)    "
   ]
  },
  {
   "cell_type": "markdown",
   "id": "62e295da-ab82-41aa-b606-224ac9ba152d",
   "metadata": {},
   "source": [
    "## `Data Cleaning: Session`"
   ]
  },
  {
   "cell_type": "markdown",
   "id": "688f2972-e50c-4e0d-913a-a6fee2755a11",
   "metadata": {},
   "source": [
    "#### Reading in data"
   ]
  },
  {
   "cell_type": "code",
   "execution_count": 16,
   "id": "6681abf3-acd8-400d-9346-d3f2c87f473c",
   "metadata": {},
   "outputs": [],
   "source": [
    "# read in session data\n",
    "session = pd.read_csv('../data/sessions.csv')"
   ]
  },
  {
   "cell_type": "markdown",
   "id": "5b66dd9b-b5a0-4bfb-a58b-5ae69a17a21f",
   "metadata": {},
   "source": [
    "#### Initial checks"
   ]
  },
  {
   "cell_type": "code",
   "execution_count": 17,
   "id": "486901a3-e5d7-470d-8040-22dae8c0d324",
   "metadata": {},
   "outputs": [
    {
     "data": {
      "text/html": [
       "<div>\n",
       "<style scoped>\n",
       "    .dataframe tbody tr th:only-of-type {\n",
       "        vertical-align: middle;\n",
       "    }\n",
       "\n",
       "    .dataframe tbody tr th {\n",
       "        vertical-align: top;\n",
       "    }\n",
       "\n",
       "    .dataframe thead th {\n",
       "        text-align: right;\n",
       "    }\n",
       "</style>\n",
       "<table border=\"1\" class=\"dataframe\">\n",
       "  <thead>\n",
       "    <tr style=\"text-align: right;\">\n",
       "      <th></th>\n",
       "      <th>user_id</th>\n",
       "      <th>action</th>\n",
       "      <th>action_type</th>\n",
       "      <th>action_detail</th>\n",
       "      <th>device_type</th>\n",
       "      <th>secs_elapsed</th>\n",
       "    </tr>\n",
       "  </thead>\n",
       "  <tbody>\n",
       "    <tr>\n",
       "      <th>0</th>\n",
       "      <td>d1mm9tcy42</td>\n",
       "      <td>lookup</td>\n",
       "      <td>NaN</td>\n",
       "      <td>NaN</td>\n",
       "      <td>Windows Desktop</td>\n",
       "      <td>319.0</td>\n",
       "    </tr>\n",
       "    <tr>\n",
       "      <th>1</th>\n",
       "      <td>d1mm9tcy42</td>\n",
       "      <td>search_results</td>\n",
       "      <td>click</td>\n",
       "      <td>view_search_results</td>\n",
       "      <td>Windows Desktop</td>\n",
       "      <td>67753.0</td>\n",
       "    </tr>\n",
       "    <tr>\n",
       "      <th>2</th>\n",
       "      <td>d1mm9tcy42</td>\n",
       "      <td>lookup</td>\n",
       "      <td>NaN</td>\n",
       "      <td>NaN</td>\n",
       "      <td>Windows Desktop</td>\n",
       "      <td>301.0</td>\n",
       "    </tr>\n",
       "    <tr>\n",
       "      <th>3</th>\n",
       "      <td>d1mm9tcy42</td>\n",
       "      <td>search_results</td>\n",
       "      <td>click</td>\n",
       "      <td>view_search_results</td>\n",
       "      <td>Windows Desktop</td>\n",
       "      <td>22141.0</td>\n",
       "    </tr>\n",
       "    <tr>\n",
       "      <th>4</th>\n",
       "      <td>d1mm9tcy42</td>\n",
       "      <td>lookup</td>\n",
       "      <td>NaN</td>\n",
       "      <td>NaN</td>\n",
       "      <td>Windows Desktop</td>\n",
       "      <td>435.0</td>\n",
       "    </tr>\n",
       "  </tbody>\n",
       "</table>\n",
       "</div>"
      ],
      "text/plain": [
       "      user_id          action action_type        action_detail  \\\n",
       "0  d1mm9tcy42          lookup         NaN                  NaN   \n",
       "1  d1mm9tcy42  search_results       click  view_search_results   \n",
       "2  d1mm9tcy42          lookup         NaN                  NaN   \n",
       "3  d1mm9tcy42  search_results       click  view_search_results   \n",
       "4  d1mm9tcy42          lookup         NaN                  NaN   \n",
       "\n",
       "       device_type  secs_elapsed  \n",
       "0  Windows Desktop         319.0  \n",
       "1  Windows Desktop       67753.0  \n",
       "2  Windows Desktop         301.0  \n",
       "3  Windows Desktop       22141.0  \n",
       "4  Windows Desktop         435.0  "
      ]
     },
     "execution_count": 17,
     "metadata": {},
     "output_type": "execute_result"
    }
   ],
   "source": [
    "# look of session dataframe\n",
    "session.head()"
   ]
  },
  {
   "cell_type": "code",
   "execution_count": 18,
   "id": "4bfe1812-0c72-45a8-9bc8-7ca8def1f207",
   "metadata": {},
   "outputs": [
    {
     "data": {
      "text/plain": [
       "user_id            34496\n",
       "action             79626\n",
       "action_type      1126204\n",
       "action_detail    1126204\n",
       "device_type            0\n",
       "secs_elapsed      136031\n",
       "dtype: int64"
      ]
     },
     "execution_count": 18,
     "metadata": {},
     "output_type": "execute_result"
    }
   ],
   "source": [
    "# check for null values\n",
    "session.isnull().sum()"
   ]
  },
  {
   "cell_type": "code",
   "execution_count": 19,
   "id": "b68e9f96-17da-4fed-9342-359a632913e2",
   "metadata": {},
   "outputs": [
    {
     "data": {
      "text/plain": [
       "(10567737, 6)"
      ]
     },
     "execution_count": 19,
     "metadata": {},
     "output_type": "execute_result"
    }
   ],
   "source": [
    "# check for shape\n",
    "session.shape"
   ]
  },
  {
   "cell_type": "code",
   "execution_count": 20,
   "id": "cc0b499c-c090-4a81-85c0-6c0859135884",
   "metadata": {},
   "outputs": [
    {
     "data": {
      "image/png": "[encoded data removed]",
      "text/plain": [
       "<Figure size 1800x720 with 2 Axes>"
      ]
     },
     "metadata": {
      "needs_background": "light"
     },
     "output_type": "display_data"
    }
   ],
   "source": [
    "# check for patterns in null values\n",
    "msno.matrix(session);"
   ]
  },
  {
   "cell_type": "markdown",
   "id": "a0dbd938-a60a-4b3e-b2aa-af092a95f324",
   "metadata": {},
   "source": [
    "### 5 Features with null values:\n",
    "* User ID\n",
    "* Action\n",
    "* Action type\n",
    "* Action detail\n",
    "* Secs elapsed"
   ]
  },
  {
   "cell_type": "markdown",
   "id": "b7f67571-38b7-4916-8183-71fa4117598f",
   "metadata": {},
   "source": [
    "#### User id"
   ]
  },
  {
   "cell_type": "code",
   "execution_count": 21,
   "id": "94985f94-0baa-4046-97fd-afc0c48b764f",
   "metadata": {},
   "outputs": [],
   "source": [
    "# dropping null values for user_id\n",
    "session = session[session['user_id'].notna()]"
   ]
  },
  {
   "cell_type": "markdown",
   "id": "ce9e3975-4f40-450c-a3e9-038d9ce50f82",
   "metadata": {},
   "source": [
    "#### Action"
   ]
  },
  {
   "cell_type": "code",
   "execution_count": 22,
   "id": "5761b640-f1a6-4036-9431-5e3ec360fb63",
   "metadata": {},
   "outputs": [
    {
     "data": {
      "text/html": [
       "<div>\n",
       "<style scoped>\n",
       "    .dataframe tbody tr th:only-of-type {\n",
       "        vertical-align: middle;\n",
       "    }\n",
       "\n",
       "    .dataframe tbody tr th {\n",
       "        vertical-align: top;\n",
       "    }\n",
       "\n",
       "    .dataframe thead th {\n",
       "        text-align: right;\n",
       "    }\n",
       "</style>\n",
       "<table border=\"1\" class=\"dataframe\">\n",
       "  <thead>\n",
       "    <tr style=\"text-align: right;\">\n",
       "      <th></th>\n",
       "      <th>user_id</th>\n",
       "      <th>action</th>\n",
       "      <th>action_type</th>\n",
       "      <th>action_detail</th>\n",
       "      <th>device_type</th>\n",
       "      <th>secs_elapsed</th>\n",
       "    </tr>\n",
       "  </thead>\n",
       "  <tbody>\n",
       "    <tr>\n",
       "      <th>45</th>\n",
       "      <td>d1mm9tcy42</td>\n",
       "      <td>NaN</td>\n",
       "      <td>message_post</td>\n",
       "      <td>message_post</td>\n",
       "      <td>Windows Desktop</td>\n",
       "      <td>NaN</td>\n",
       "    </tr>\n",
       "    <tr>\n",
       "      <th>138</th>\n",
       "      <td>4grx6yxeby</td>\n",
       "      <td>NaN</td>\n",
       "      <td>message_post</td>\n",
       "      <td>message_post</td>\n",
       "      <td>Windows Desktop</td>\n",
       "      <td>59801.0</td>\n",
       "    </tr>\n",
       "    <tr>\n",
       "      <th>317</th>\n",
       "      <td>xwxei6hdk4</td>\n",
       "      <td>NaN</td>\n",
       "      <td>message_post</td>\n",
       "      <td>message_post</td>\n",
       "      <td>iPad Tablet</td>\n",
       "      <td>NaN</td>\n",
       "    </tr>\n",
       "    <tr>\n",
       "      <th>320</th>\n",
       "      <td>xwxei6hdk4</td>\n",
       "      <td>NaN</td>\n",
       "      <td>message_post</td>\n",
       "      <td>message_post</td>\n",
       "      <td>iPad Tablet</td>\n",
       "      <td>0.0</td>\n",
       "    </tr>\n",
       "    <tr>\n",
       "      <th>382</th>\n",
       "      <td>ro2stddszp</td>\n",
       "      <td>NaN</td>\n",
       "      <td>message_post</td>\n",
       "      <td>message_post</td>\n",
       "      <td>Mac Desktop</td>\n",
       "      <td>7192.0</td>\n",
       "    </tr>\n",
       "    <tr>\n",
       "      <th>...</th>\n",
       "      <td>...</td>\n",
       "      <td>...</td>\n",
       "      <td>...</td>\n",
       "      <td>...</td>\n",
       "      <td>...</td>\n",
       "      <td>...</td>\n",
       "    </tr>\n",
       "    <tr>\n",
       "      <th>10566820</th>\n",
       "      <td>gpijioh4eh</td>\n",
       "      <td>NaN</td>\n",
       "      <td>message_post</td>\n",
       "      <td>message_post</td>\n",
       "      <td>Mac Desktop</td>\n",
       "      <td>19685.0</td>\n",
       "    </tr>\n",
       "    <tr>\n",
       "      <th>10566859</th>\n",
       "      <td>gpijioh4eh</td>\n",
       "      <td>NaN</td>\n",
       "      <td>message_post</td>\n",
       "      <td>message_post</td>\n",
       "      <td>Mac Desktop</td>\n",
       "      <td>NaN</td>\n",
       "    </tr>\n",
       "    <tr>\n",
       "      <th>10566961</th>\n",
       "      <td>gpijioh4eh</td>\n",
       "      <td>NaN</td>\n",
       "      <td>message_post</td>\n",
       "      <td>message_post</td>\n",
       "      <td>Mac Desktop</td>\n",
       "      <td>5280.0</td>\n",
       "    </tr>\n",
       "    <tr>\n",
       "      <th>10566984</th>\n",
       "      <td>gpijioh4eh</td>\n",
       "      <td>NaN</td>\n",
       "      <td>message_post</td>\n",
       "      <td>message_post</td>\n",
       "      <td>Mac Desktop</td>\n",
       "      <td>52498.0</td>\n",
       "    </tr>\n",
       "    <tr>\n",
       "      <th>10567142</th>\n",
       "      <td>kofaz2kh70</td>\n",
       "      <td>NaN</td>\n",
       "      <td>message_post</td>\n",
       "      <td>message_post</td>\n",
       "      <td>Mac Desktop</td>\n",
       "      <td>104405.0</td>\n",
       "    </tr>\n",
       "  </tbody>\n",
       "</table>\n",
       "<p>79480 rows × 6 columns</p>\n",
       "</div>"
      ],
      "text/plain": [
       "             user_id action   action_type action_detail      device_type  \\\n",
       "45        d1mm9tcy42    NaN  message_post  message_post  Windows Desktop   \n",
       "138       4grx6yxeby    NaN  message_post  message_post  Windows Desktop   \n",
       "317       xwxei6hdk4    NaN  message_post  message_post      iPad Tablet   \n",
       "320       xwxei6hdk4    NaN  message_post  message_post      iPad Tablet   \n",
       "382       ro2stddszp    NaN  message_post  message_post      Mac Desktop   \n",
       "...              ...    ...           ...           ...              ...   \n",
       "10566820  gpijioh4eh    NaN  message_post  message_post      Mac Desktop   \n",
       "10566859  gpijioh4eh    NaN  message_post  message_post      Mac Desktop   \n",
       "10566961  gpijioh4eh    NaN  message_post  message_post      Mac Desktop   \n",
       "10566984  gpijioh4eh    NaN  message_post  message_post      Mac Desktop   \n",
       "10567142  kofaz2kh70    NaN  message_post  message_post      Mac Desktop   \n",
       "\n",
       "          secs_elapsed  \n",
       "45                 NaN  \n",
       "138            59801.0  \n",
       "317                NaN  \n",
       "320                0.0  \n",
       "382             7192.0  \n",
       "...                ...  \n",
       "10566820       19685.0  \n",
       "10566859           NaN  \n",
       "10566961        5280.0  \n",
       "10566984       52498.0  \n",
       "10567142      104405.0  \n",
       "\n",
       "[79480 rows x 6 columns]"
      ]
     },
     "execution_count": 22,
     "metadata": {},
     "output_type": "execute_result"
    }
   ],
   "source": [
    "# check action null values\n",
    "session[session['action'].isnull()]"
   ]
  },
  {
   "cell_type": "code",
   "execution_count": 23,
   "id": "7b5ef2c0-4ed0-4267-985a-52eca3459b5a",
   "metadata": {},
   "outputs": [
    {
     "data": {
      "text/plain": [
       "message_post    79480\n",
       "Name: action_type, dtype: int64"
      ]
     },
     "execution_count": 23,
     "metadata": {},
     "output_type": "execute_result"
    }
   ],
   "source": [
    "session[session['action'].isna()]['action_type'].value_counts()"
   ]
  },
  {
   "cell_type": "code",
   "execution_count": 24,
   "id": "7d524aaa-0086-4a1f-ae1f-ba9a064cf18c",
   "metadata": {},
   "outputs": [
    {
     "data": {
      "text/plain": [
       "message_post    79480\n",
       "Name: action_detail, dtype: int64"
      ]
     },
     "execution_count": 24,
     "metadata": {},
     "output_type": "execute_result"
    }
   ],
   "source": [
    "session[session['action'].isna()]['action_detail'].value_counts()"
   ]
  },
  {
   "cell_type": "code",
   "execution_count": 25,
   "id": "e2399b47-91bc-4070-a08f-20d2a94203aa",
   "metadata": {},
   "outputs": [
    {
     "data": {
      "text/plain": [
       "Series([], Name: action_type, dtype: int64)"
      ]
     },
     "execution_count": 25,
     "metadata": {},
     "output_type": "execute_result"
    }
   ],
   "source": [
    "session[session['action']=='unknown']['action_type'].value_counts()"
   ]
  },
  {
   "cell_type": "code",
   "execution_count": 26,
   "id": "1398438e-080f-4219-b280-8a4401083fb4",
   "metadata": {},
   "outputs": [],
   "source": [
    "# setting null values for action to unknown - categorical variable\n",
    "session['action'].fillna('unknown', inplace=True)"
   ]
  },
  {
   "cell_type": "markdown",
   "id": "8898de72-da02-4f38-815f-15cb41950f07",
   "metadata": {},
   "source": [
    "#### Action type & detail"
   ]
  },
  {
   "cell_type": "code",
   "execution_count": 27,
   "id": "4cc8ffea-3e7f-4f32-a769-b7b4301566ac",
   "metadata": {},
   "outputs": [
    {
     "data": {
      "text/plain": [
       "unknown                   79480\n",
       "10                         3202\n",
       "12                         2204\n",
       "15                         1053\n",
       "11                          702\n",
       "guest_booked_elsewhere      221\n",
       "multi_message                52\n",
       "maybe_information             7\n",
       "preapproval                   2\n",
       "special_offer                 2\n",
       "Name: action, dtype: int64"
      ]
     },
     "execution_count": 27,
     "metadata": {},
     "output_type": "execute_result"
    }
   ],
   "source": [
    "# check if message_post has a patterened null value\n",
    "session[session['action_type']=='message_post']['action'].value_counts()"
   ]
  },
  {
   "cell_type": "code",
   "execution_count": 28,
   "id": "eb38e5f7-0282-4709-9e65-e354222f96f8",
   "metadata": {},
   "outputs": [],
   "source": [
    "# replace action type null value with -unknown-\n",
    "session['action_type'].fillna('-unknown-', inplace=True)"
   ]
  },
  {
   "cell_type": "code",
   "execution_count": 29,
   "id": "5bb741ca-fbb7-4143-94ee-bed33a35a0cb",
   "metadata": {},
   "outputs": [],
   "source": [
    "# replace action detail null value with -unknown-\n",
    "session['action_detail'].fillna('-unknown-', inplace=True)"
   ]
  },
  {
   "cell_type": "markdown",
   "id": "31fa5053-633f-46d1-8c61-d7dc9dd6e566",
   "metadata": {},
   "source": [
    "#### Secs elapsed"
   ]
  },
  {
   "cell_type": "code",
   "execution_count": 30,
   "id": "fce2d8dc-2c56-40bc-a18c-deee2a7abf52",
   "metadata": {},
   "outputs": [
    {
     "data": {
      "image/png": "[encoded data removed]",
      "text/plain": [
       "<Figure size 432x288 with 1 Axes>"
      ]
     },
     "metadata": {
      "needs_background": "light"
     },
     "output_type": "display_data"
    }
   ],
   "source": [
    "plt.hist(session['secs_elapsed'], bins=5000)\n",
    "plt.xlim(0,20000);"
   ]
  },
  {
   "cell_type": "code",
   "execution_count": 31,
   "id": "96ed22c8-4c23-4c4d-88c9-e9b1fecde2ff",
   "metadata": {},
   "outputs": [
    {
     "name": "stdout",
     "output_type": "stream",
     "text": [
      "135483\n"
     ]
    },
    {
     "data": {
      "text/plain": [
       "135483"
      ]
     },
     "execution_count": 31,
     "metadata": {},
     "output_type": "execute_result"
    }
   ],
   "source": [
    "# null values per secs elapsed match exactly with each user_id\n",
    "print(len(session[session['secs_elapsed'].isna()]['user_id'].unique()))\n",
    "session['secs_elapsed'].isna().sum()"
   ]
  },
  {
   "cell_type": "code",
   "execution_count": 32,
   "id": "975a0464-9ddb-4742-9532-bfe13269adb7",
   "metadata": {},
   "outputs": [
    {
     "data": {
      "text/html": [
       "<div>\n",
       "<style scoped>\n",
       "    .dataframe tbody tr th:only-of-type {\n",
       "        vertical-align: middle;\n",
       "    }\n",
       "\n",
       "    .dataframe tbody tr th {\n",
       "        vertical-align: top;\n",
       "    }\n",
       "\n",
       "    .dataframe thead th {\n",
       "        text-align: right;\n",
       "    }\n",
       "</style>\n",
       "<table border=\"1\" class=\"dataframe\">\n",
       "  <thead>\n",
       "    <tr style=\"text-align: right;\">\n",
       "      <th></th>\n",
       "      <th>user_id</th>\n",
       "      <th>action</th>\n",
       "      <th>action_type</th>\n",
       "      <th>action_detail</th>\n",
       "      <th>device_type</th>\n",
       "      <th>secs_elapsed</th>\n",
       "    </tr>\n",
       "  </thead>\n",
       "  <tbody>\n",
       "    <tr>\n",
       "      <th>45</th>\n",
       "      <td>d1mm9tcy42</td>\n",
       "      <td>unknown</td>\n",
       "      <td>message_post</td>\n",
       "      <td>message_post</td>\n",
       "      <td>Windows Desktop</td>\n",
       "      <td>NaN</td>\n",
       "    </tr>\n",
       "    <tr>\n",
       "      <th>128</th>\n",
       "      <td>yo8nz8bqcq</td>\n",
       "      <td>create</td>\n",
       "      <td>submit</td>\n",
       "      <td>create_user</td>\n",
       "      <td>Mac Desktop</td>\n",
       "      <td>NaN</td>\n",
       "    </tr>\n",
       "    <tr>\n",
       "      <th>137</th>\n",
       "      <td>4grx6yxeby</td>\n",
       "      <td>create</td>\n",
       "      <td>submit</td>\n",
       "      <td>create_user</td>\n",
       "      <td>Windows Desktop</td>\n",
       "      <td>NaN</td>\n",
       "    </tr>\n",
       "    <tr>\n",
       "      <th>163</th>\n",
       "      <td>ncf87guaf0</td>\n",
       "      <td>create</td>\n",
       "      <td>submit</td>\n",
       "      <td>create_user</td>\n",
       "      <td>Windows Desktop</td>\n",
       "      <td>NaN</td>\n",
       "    </tr>\n",
       "    <tr>\n",
       "      <th>306</th>\n",
       "      <td>4rvqpxoh3h</td>\n",
       "      <td>create</td>\n",
       "      <td>-unknown-</td>\n",
       "      <td>-unknown-</td>\n",
       "      <td>iPhone</td>\n",
       "      <td>NaN</td>\n",
       "    </tr>\n",
       "    <tr>\n",
       "      <th>...</th>\n",
       "      <td>...</td>\n",
       "      <td>...</td>\n",
       "      <td>...</td>\n",
       "      <td>...</td>\n",
       "      <td>...</td>\n",
       "      <td>...</td>\n",
       "    </tr>\n",
       "    <tr>\n",
       "      <th>10567520</th>\n",
       "      <td>cv0na2lf5a</td>\n",
       "      <td>create</td>\n",
       "      <td>submit</td>\n",
       "      <td>create_user</td>\n",
       "      <td>Windows Desktop</td>\n",
       "      <td>NaN</td>\n",
       "    </tr>\n",
       "    <tr>\n",
       "      <th>10567617</th>\n",
       "      <td>zp8xfonng8</td>\n",
       "      <td>create</td>\n",
       "      <td>submit</td>\n",
       "      <td>signup</td>\n",
       "      <td>Android Phone</td>\n",
       "      <td>NaN</td>\n",
       "    </tr>\n",
       "    <tr>\n",
       "      <th>10567676</th>\n",
       "      <td>fa6260ziny</td>\n",
       "      <td>callback</td>\n",
       "      <td>partner_callback</td>\n",
       "      <td>oauth_response</td>\n",
       "      <td>Windows Desktop</td>\n",
       "      <td>NaN</td>\n",
       "    </tr>\n",
       "    <tr>\n",
       "      <th>10567711</th>\n",
       "      <td>87k0fy4ugm</td>\n",
       "      <td>create</td>\n",
       "      <td>submit</td>\n",
       "      <td>create_user</td>\n",
       "      <td>Mac Desktop</td>\n",
       "      <td>NaN</td>\n",
       "    </tr>\n",
       "    <tr>\n",
       "      <th>10567726</th>\n",
       "      <td>9uqfg8txu3</td>\n",
       "      <td>callback</td>\n",
       "      <td>partner_callback</td>\n",
       "      <td>oauth_response</td>\n",
       "      <td>Windows Desktop</td>\n",
       "      <td>NaN</td>\n",
       "    </tr>\n",
       "  </tbody>\n",
       "</table>\n",
       "<p>135483 rows × 6 columns</p>\n",
       "</div>"
      ],
      "text/plain": [
       "             user_id    action       action_type   action_detail  \\\n",
       "45        d1mm9tcy42   unknown      message_post    message_post   \n",
       "128       yo8nz8bqcq    create            submit     create_user   \n",
       "137       4grx6yxeby    create            submit     create_user   \n",
       "163       ncf87guaf0    create            submit     create_user   \n",
       "306       4rvqpxoh3h    create         -unknown-       -unknown-   \n",
       "...              ...       ...               ...             ...   \n",
       "10567520  cv0na2lf5a    create            submit     create_user   \n",
       "10567617  zp8xfonng8    create            submit          signup   \n",
       "10567676  fa6260ziny  callback  partner_callback  oauth_response   \n",
       "10567711  87k0fy4ugm    create            submit     create_user   \n",
       "10567726  9uqfg8txu3  callback  partner_callback  oauth_response   \n",
       "\n",
       "              device_type  secs_elapsed  \n",
       "45        Windows Desktop           NaN  \n",
       "128           Mac Desktop           NaN  \n",
       "137       Windows Desktop           NaN  \n",
       "163       Windows Desktop           NaN  \n",
       "306                iPhone           NaN  \n",
       "...                   ...           ...  \n",
       "10567520  Windows Desktop           NaN  \n",
       "10567617    Android Phone           NaN  \n",
       "10567676  Windows Desktop           NaN  \n",
       "10567711      Mac Desktop           NaN  \n",
       "10567726  Windows Desktop           NaN  \n",
       "\n",
       "[135483 rows x 6 columns]"
      ]
     },
     "execution_count": 32,
     "metadata": {},
     "output_type": "execute_result"
    }
   ],
   "source": [
    "# check rows with secs elapsed as null values\n",
    "session[session['secs_elapsed'].isna()]"
   ]
  },
  {
   "cell_type": "code",
   "execution_count": 33,
   "id": "1223c4a1-2528-4bba-b1af-40549740628b",
   "metadata": {},
   "outputs": [
    {
     "data": {
      "text/plain": [
       "create_user                  53097\n",
       "signup                       20987\n",
       "login                        16768\n",
       "message_post                 15418\n",
       "-unknown-                    14851\n",
       "                             ...  \n",
       "request_new_confirm_email        1\n",
       "apply_coupon_click               1\n",
       "read_policy_click                1\n",
       "p4_terms                         1\n",
       "listing_descriptions             1\n",
       "Name: action_detail, Length: 69, dtype: int64"
      ]
     },
     "execution_count": 33,
     "metadata": {},
     "output_type": "execute_result"
    }
   ],
   "source": [
    "# check for patterns with null values\n",
    "session[session['secs_elapsed'].isna()]['action_detail'].value_counts()"
   ]
  },
  {
   "cell_type": "code",
   "execution_count": 34,
   "id": "5150531f-19ff-4c17-8ca5-efbbce3c7090",
   "metadata": {},
   "outputs": [
    {
     "data": {
      "text/plain": [
       "create                                  74193\n",
       "authenticate                            19024\n",
       "unknown                                 15418\n",
       "active                                  11111\n",
       "callback                                 8974\n",
       "                                        ...  \n",
       "my                                          1\n",
       "ajax_referral_banner_experiment_type        1\n",
       "payout_preferences                          1\n",
       "listing                                     1\n",
       "view                                        1\n",
       "Name: action, Length: 80, dtype: int64"
      ]
     },
     "execution_count": 34,
     "metadata": {},
     "output_type": "execute_result"
    }
   ],
   "source": [
    "session[session['secs_elapsed'].isna()]['action'].value_counts()"
   ]
  },
  {
   "cell_type": "code",
   "execution_count": 35,
   "id": "9aec419f-8491-4f2c-8bd9-f97eebf93dce",
   "metadata": {},
   "outputs": [
    {
     "data": {
      "text/plain": [
       "submit              91176\n",
       "message_post        15418\n",
       "-unknown-           14851\n",
       "partner_callback     8974\n",
       "view                 3754\n",
       "click                 623\n",
       "data                  563\n",
       "booking_request       124\n",
       "Name: action_type, dtype: int64"
      ]
     },
     "execution_count": 35,
     "metadata": {},
     "output_type": "execute_result"
    }
   ],
   "source": [
    "session[session['secs_elapsed'].isna()]['action_type'].value_counts()"
   ]
  },
  {
   "cell_type": "code",
   "execution_count": 36,
   "id": "812aaa0f-5938-42e6-bc68-12ce3562c46d",
   "metadata": {},
   "outputs": [
    {
     "data": {
      "text/plain": [
       "0.012862422876301795"
      ]
     },
     "execution_count": 36,
     "metadata": {},
     "output_type": "execute_result"
    }
   ],
   "source": [
    "135483/len(session)"
   ]
  },
  {
   "cell_type": "code",
   "execution_count": 37,
   "id": "bfa2436f-5ff9-4796-96c6-85f92bbed825",
   "metadata": {},
   "outputs": [],
   "source": [
    "# drop values in secs elapsed because each user has 1 instance\n",
    "session.drop(index=session[session['secs_elapsed'].isna()].index, inplace=True)"
   ]
  },
  {
   "cell_type": "code",
   "execution_count": 38,
   "id": "c6b139cc-8f10-4144-8fc1-d67ea431ca7b",
   "metadata": {},
   "outputs": [
    {
     "data": {
      "text/plain": [
       "user_id          0\n",
       "action           0\n",
       "action_type      0\n",
       "action_detail    0\n",
       "device_type      0\n",
       "secs_elapsed     0\n",
       "dtype: int64"
      ]
     },
     "execution_count": 38,
     "metadata": {},
     "output_type": "execute_result"
    }
   ],
   "source": [
    "# running check (will delete)\n",
    "session.isnull().sum()"
   ]
  },
  {
   "cell_type": "code",
   "execution_count": 39,
   "id": "805c402e-baeb-4a7f-b9ea-9d8ee29445e7",
   "metadata": {},
   "outputs": [
    {
     "data": {
      "text/plain": [
       "show                     2758841\n",
       "index                     840969\n",
       "search_results            723113\n",
       "personalize               704745\n",
       "search                    533812\n",
       "ajax_refresh_subtotal     486410\n",
       "similar_listings          363420\n",
       "update                    362686\n",
       "social_connections        337754\n",
       "reviews                   319306\n",
       "active                    176259\n",
       "similar_listings_v2       168457\n",
       "lookup                    161420\n",
       "dashboard                 152382\n",
       "header_userpic            140829\n",
       "collections               124059\n",
       "edit                      108919\n",
       "campaigns                 101483\n",
       "create                     81040\n",
       "track_page_view            80948\n",
       "unavailabilities           77981\n",
       "qt2                        64582\n",
       "unknown                    64062\n",
       "notifications              59014\n",
       "confirm_email              58438\n",
       "Name: action, dtype: int64"
      ]
     },
     "execution_count": 39,
     "metadata": {},
     "output_type": "execute_result"
    }
   ],
   "source": [
    "session['action'].value_counts().head(25)"
   ]
  },
  {
   "cell_type": "markdown",
   "id": "bf977773-d016-4138-855f-8b41ba26f124",
   "metadata": {},
   "source": [
    "**Overall Notes**:\n",
    "* User id nulls were dropped - no id to match with users therefore unusable\n",
    "* Action, action type, action detail nulls  set as unknown - categorical variable\n",
    "* Secs elapsed nulls were dropped because imputation would be difficult w/o data dictionary (1% of data)"
   ]
  },
  {
   "cell_type": "markdown",
   "id": "bf46ebd7-e3bc-4036-abe4-7d6a097b7006",
   "metadata": {
    "tags": []
   },
   "source": [
    "## `Saving Dataframes`"
   ]
  },
  {
   "cell_type": "code",
   "execution_count": 40,
   "id": "96ecbf84-04a6-445f-be83-376bab7df7bd",
   "metadata": {},
   "outputs": [],
   "source": [
    "# rename train id column to user_id\n",
    "train.rename(columns={'id': 'user_id'}, inplace=True)"
   ]
  },
  {
   "cell_type": "code",
   "execution_count": 41,
   "id": "91973e1e-421d-4897-9e02-a3c2fd7a8fcc",
   "metadata": {},
   "outputs": [],
   "source": [
    "# saving dataframes\n",
    "train.to_csv('../data/train_cleaned.csv', index=False)\n",
    "session.to_csv('../data/session_cleaned.csv', index=False)"
   ]
  },
  {
   "cell_type": "code",
   "execution_count": 42,
   "id": "951ec342-4b8f-48d7-b38b-714a870d9761",
   "metadata": {},
   "outputs": [
    {
     "name": "stdout",
     "output_type": "stream",
     "text": [
      "number of users for train df  : 212541\n",
      "number of users for session df: 134057\n"
     ]
    }
   ],
   "source": [
    "# comparing unique users for train & session\n",
    "print(f'number of users for train df  : {len(train[\"user_id\"].unique())}')\n",
    "print(f'number of users for session df: {len(session[\"user_id\"].unique())}')"
   ]
  },
  {
   "cell_type": "markdown",
   "id": "d1b59b71-e63f-4893-a136-13b9c6b8cfcf",
   "metadata": {},
   "source": [
    "**Note**:\n",
    "* It is okay to lose users from session df because those users do not have a country_destination value\n",
    "* Likely user loss from train data upon merge"
   ]
  }
 ],
 "metadata": {
  "kernelspec": {
   "display_name": "Python 3 (ipykernel)",
   "language": "python",
   "name": "python3"
  },
  "language_info": {
   "codemirror_mode": {
    "name": "ipython",
    "version": 3
   },
   "file_extension": ".py",
   "mimetype": "text/x-python",
   "name": "python",
   "nbconvert_exporter": "python",
   "pygments_lexer": "ipython3",
   "version": "3.9.7"
  }
 },
 "nbformat": 4,
 "nbformat_minor": 5
}
