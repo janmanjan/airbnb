{
 "cells": [
  {
   "cell_type": "markdown",
   "id": "76bc621e-3daa-4791-b7aa-d28b82564947",
   "metadata": {},
   "source": [
    "## `Imports`"
   ]
  },
  {
   "cell_type": "code",
   "execution_count": 1,
   "id": "95a4c026-846b-4571-8cfc-2912d9ac7c7b",
   "metadata": {},
   "outputs": [],
   "source": [
    "import matplotlib.pyplot as plt\n",
    "import numpy as np\n",
    "import pandas as pd\n",
    "import pickle\n",
    "\n",
    "from imblearn.over_sampling import SMOTE\n",
    "from sklearn.ensemble import AdaBoostClassifier, GradientBoostingClassifier, ExtraTreesClassifier, RandomForestClassifier\n",
    "from sklearn.linear_model import LassoCV, LogisticRegression, RidgeCV\n",
    "from sklearn.metrics import classification_report\n",
    "from sklearn.model_selection import train_test_split\n",
    "from sklearn.neighbors import KNeighborsClassifier\n",
    "from sklearn.pipeline import Pipeline\n",
    "from sklearn.preprocessing import LabelEncoder, MinMaxScaler, OneHotEncoder, StandardScaler\n",
    "from tensorflow.keras.callbacks import EarlyStopping\n",
    "from tensorflow.keras.layers import Dense, Dropout\n",
    "from tensorflow.keras.models import Sequential\n",
    "from tensorflow.math import confusion_matrix\n",
    "from xgboost import XGBClassifier"
   ]
  },
  {
   "cell_type": "code",
   "execution_count": 2,
   "id": "1d6c3307-96b5-47c9-abc5-f517a7c91e56",
   "metadata": {},
   "outputs": [],
   "source": [
    "# setting a random seed\n",
    "np.random.seed(24)"
   ]
  },
  {
   "cell_type": "markdown",
   "id": "40d3f06a-c3fa-4706-ac40-a51f2d318a35",
   "metadata": {},
   "source": [
    "## `DataFrame`"
   ]
  },
  {
   "cell_type": "code",
   "execution_count": 3,
   "id": "1c018d6c-ab44-4022-9ec6-ed6bd85995ea",
   "metadata": {},
   "outputs": [],
   "source": [
    "X_train = pd.read_csv('../data/X_train_b_cleaned02.csv')\n",
    "X_test = pd.read_csv('../data/X_test_b_cleaned02.csv')\n",
    "y_train = np.load('../data/y_train.npy')\n",
    "y_test = np.load('../data/y_test.npy')"
   ]
  },
  {
   "cell_type": "code",
   "execution_count": 4,
   "id": "5ecb45f3-5775-40ec-aeea-ac7dc22ded7c",
   "metadata": {},
   "outputs": [
    {
     "name": "stdout",
     "output_type": "stream",
     "text": [
      "Number of features: 534\n"
     ]
    }
   ],
   "source": [
    "print(f'Number of features: {len(X_train.columns)}')"
   ]
  },
  {
   "cell_type": "markdown",
   "id": "ba650686-157d-448f-bc60-5768e3c46a17",
   "metadata": {},
   "source": [
    "## `Modeling`"
   ]
  },
  {
   "cell_type": "code",
   "execution_count": 5,
   "id": "103e2b9e-7352-4ed7-8aa2-8342ccd8fe7a",
   "metadata": {},
   "outputs": [],
   "source": [
    "mo_list = []\n",
    "train_scores = []\n",
    "test_scores = []"
   ]
  },
  {
   "cell_type": "markdown",
   "id": "0e9f8a00-5dde-4268-820d-94a017b798be",
   "metadata": {
    "tags": []
   },
   "source": [
    "#### RFC"
   ]
  },
  {
   "cell_type": "code",
   "execution_count": 6,
   "id": "77c961f9-3dc1-4348-841a-283a6f98910e",
   "metadata": {},
   "outputs": [],
   "source": [
    "pipe = Pipeline([\n",
    "    ('ss', StandardScaler()),\n",
    "    ('rfc', RandomForestClassifier(random_state=24))\n",
    "])\n",
    "\n",
    "pipe.fit(X_train, y_train);"
   ]
  },
  {
   "cell_type": "code",
   "execution_count": 7,
   "id": "f7c95bbd-a71d-4773-a4a0-97c893f4322c",
   "metadata": {},
   "outputs": [],
   "source": [
    "mo = 'RFC'\n",
    "tr_s = pipe.score(X_train, y_train)\n",
    "te_s = pipe.score(X_test, y_test)"
   ]
  },
  {
   "cell_type": "code",
   "execution_count": 8,
   "id": "a1c5dc1c-05e0-4142-b161-0e4b348623bf",
   "metadata": {},
   "outputs": [
    {
     "name": "stdout",
     "output_type": "stream",
     "text": [
      "(1.0, 0.8813821272837666)\n"
     ]
    }
   ],
   "source": [
    "mo_list.append(mo)\n",
    "train_scores.append(tr_s)\n",
    "test_scores.append(te_s)\n",
    "\n",
    "print((tr_s, te_s))"
   ]
  },
  {
   "cell_type": "code",
   "execution_count": 376,
   "id": "a1576ade-4eb7-49e1-8026-e87362b14317",
   "metadata": {},
   "outputs": [],
   "source": [
    "with open('../models/rfc.pkl', 'wb') as pickle_out:\n",
    "    pickle.dump(pipe, pickle_out)"
   ]
  },
  {
   "cell_type": "markdown",
   "id": "3a45cbae-6665-4d73-a067-c9f81a7c9bd8",
   "metadata": {
    "tags": []
   },
   "source": [
    "#### ETC"
   ]
  },
  {
   "cell_type": "code",
   "execution_count": 9,
   "id": "8e1f22c4-8303-4b04-8c5f-8101ac7ac37c",
   "metadata": {},
   "outputs": [],
   "source": [
    "pipe = Pipeline([\n",
    "    ('ss', StandardScaler()),\n",
    "    ('etc', ExtraTreesClassifier(random_state=24))\n",
    "])\n",
    "\n",
    "pipe.fit(X_train, y_train);"
   ]
  },
  {
   "cell_type": "code",
   "execution_count": 10,
   "id": "59f55667-9240-48b6-8084-417254c8b1dd",
   "metadata": {},
   "outputs": [],
   "source": [
    "mo = 'ETC'\n",
    "tr_s = pipe.score(X_train, y_train)\n",
    "te_s = pipe.score(X_test, y_test)"
   ]
  },
  {
   "cell_type": "code",
   "execution_count": 11,
   "id": "11780c72-280d-4292-811b-06a6aa44e871",
   "metadata": {},
   "outputs": [
    {
     "name": "stdout",
     "output_type": "stream",
     "text": [
      "(1.0, 0.8803333885301099)\n"
     ]
    }
   ],
   "source": [
    "mo_list.append(mo)\n",
    "train_scores.append(tr_s)\n",
    "test_scores.append(te_s)\n",
    "\n",
    "print((tr_s, te_s))"
   ]
  },
  {
   "cell_type": "markdown",
   "id": "2c89976f-0000-4c69-849e-a3d155e79114",
   "metadata": {
    "tags": []
   },
   "source": [
    "#### GBC"
   ]
  },
  {
   "cell_type": "code",
   "execution_count": 15,
   "id": "a57af6ed-521f-4cca-ab14-20c7be83c41f",
   "metadata": {},
   "outputs": [],
   "source": [
    "pipe = Pipeline([\n",
    "    ('ss', StandardScaler()),\n",
    "    ('gbc', GradientBoostingClassifier())\n",
    "])\n",
    "\n",
    "pipe.fit(X_train, y_train);"
   ]
  },
  {
   "cell_type": "code",
   "execution_count": 16,
   "id": "5b839265-8357-4bbb-8d05-c3695a2483d3",
   "metadata": {},
   "outputs": [],
   "source": [
    "mo = 'GBC'\n",
    "tr_s = pipe.score(X_train, y_train)\n",
    "te_s = pipe.score(X_test, y_test)"
   ]
  },
  {
   "cell_type": "code",
   "execution_count": 17,
   "id": "f818d184-0cfe-4ecd-98ad-ec3056151cda",
   "metadata": {},
   "outputs": [
    {
     "name": "stdout",
     "output_type": "stream",
     "text": [
      "(0.8925443438580997, 0.8748137108792846)\n"
     ]
    }
   ],
   "source": [
    "mo_list.append(mo)\n",
    "train_scores.append(tr_s)\n",
    "test_scores.append(te_s)\n",
    "\n",
    "print((tr_s, te_s))"
   ]
  },
  {
   "cell_type": "markdown",
   "id": "e6b4f76d-d019-4184-801e-3f04557c4965",
   "metadata": {
    "tags": []
   },
   "source": [
    "#### ABC"
   ]
  },
  {
   "cell_type": "code",
   "execution_count": 12,
   "id": "a41f0b54-640f-407e-9e31-f5362de621b7",
   "metadata": {
    "tags": []
   },
   "outputs": [],
   "source": [
    "pipe = Pipeline([\n",
    "    ('ss', StandardScaler()),\n",
    "    ('abc', AdaBoostClassifier())\n",
    "])\n",
    "\n",
    "pipe.fit(X_train, y_train);"
   ]
  },
  {
   "cell_type": "code",
   "execution_count": 13,
   "id": "3821aee7-6846-4213-bf88-bf6f7a67670b",
   "metadata": {},
   "outputs": [],
   "source": [
    "mo = 'ABC'\n",
    "tr_s = pipe.score(X_train, y_train)\n",
    "te_s = pipe.score(X_test, y_test)"
   ]
  },
  {
   "cell_type": "code",
   "execution_count": 14,
   "id": "794d64ec-974f-4b63-89ae-f7df6985edb9",
   "metadata": {},
   "outputs": [
    {
     "name": "stdout",
     "output_type": "stream",
     "text": [
      "(0.8807131817178185, 0.8814925208367831)\n"
     ]
    }
   ],
   "source": [
    "mo_list.append(mo)\n",
    "train_scores.append(tr_s)\n",
    "test_scores.append(te_s)\n",
    "\n",
    "print((tr_s, te_s))"
   ]
  },
  {
   "cell_type": "markdown",
   "id": "2b4ae8b7-5f3f-40a6-abb9-fb35c63b48fc",
   "metadata": {
    "tags": []
   },
   "source": [
    "#### Log Reg (Ridge)"
   ]
  },
  {
   "cell_type": "code",
   "execution_count": 18,
   "id": "fe533e2c-808b-4083-90ba-92e886fa7e75",
   "metadata": {},
   "outputs": [],
   "source": [
    "pipe = Pipeline([\n",
    "    ('ss', StandardScaler()),\n",
    "    ('logreg', LogisticRegression(max_iter=4000, random_state=24))\n",
    "])\n",
    "\n",
    "pipe.fit(X_train, y_train);"
   ]
  },
  {
   "cell_type": "code",
   "execution_count": 19,
   "id": "42d57743-1091-41cd-b33c-dd0e42022e73",
   "metadata": {},
   "outputs": [],
   "source": [
    "mo = 'Log Reg'\n",
    "tr_s = pipe.score(X_train, y_train)\n",
    "te_s = pipe.score(X_test, y_test)"
   ]
  },
  {
   "cell_type": "code",
   "execution_count": 20,
   "id": "3c3a39ff-c6d8-4cd0-8542-5673ac730bbb",
   "metadata": {},
   "outputs": [
    {
     "name": "stdout",
     "output_type": "stream",
     "text": [
      "(0.8822771767130345, 0.8807197659656676)\n"
     ]
    }
   ],
   "source": [
    "mo_list.append(mo)\n",
    "train_scores.append(tr_s)\n",
    "test_scores.append(te_s)\n",
    "\n",
    "print((tr_s, te_s))"
   ]
  },
  {
   "cell_type": "markdown",
   "id": "9926fdb9-ccb0-4937-89a2-d2784cd61338",
   "metadata": {
    "tags": []
   },
   "source": [
    "#### Log Reg (Lasso) "
   ]
  },
  {
   "cell_type": "code",
   "execution_count": null,
   "id": "297305a3-5344-4d56-978c-eb32c30aa69d",
   "metadata": {},
   "outputs": [],
   "source": [
    "# pipe = Pipeline([\n",
    "#     ('ss', StandardScaler()),\n",
    "#     ('logreg', LogisticRegression(penalty='l1', max_iter=4000, random_state=24, solver='liblinear'))\n",
    "# ])\n",
    "\n",
    "# pipe.fit(X_train, y_train)\n",
    "# pipe.score(X_train, y_train), pipe.score(X_test, y_test)"
   ]
  },
  {
   "cell_type": "markdown",
   "id": "5b187498-3282-4fb1-b80f-b6be6ad74dc9",
   "metadata": {},
   "source": [
    "* Takes too long to run"
   ]
  },
  {
   "cell_type": "markdown",
   "id": "ab9658ec-7454-466b-8396-d0390712a134",
   "metadata": {
    "tags": []
   },
   "source": [
    "#### XGBC"
   ]
  },
  {
   "cell_type": "code",
   "execution_count": 21,
   "id": "6155f2bf-9124-4821-8d86-61b2b0e260a1",
   "metadata": {},
   "outputs": [
    {
     "name": "stdout",
     "output_type": "stream",
     "text": [
      "[10:07:49] WARNING: C:/Users/Administrator/workspace/xgboost-win64_release_1.5.1/src/learner.cc:1115: Starting in XGBoost 1.3.0, the default evaluation metric used with the objective 'multi:softprob' was changed from 'merror' to 'mlogloss'. Explicitly set eval_metric if you'd like to restore the old behavior.\n"
     ]
    }
   ],
   "source": [
    "pipe = Pipeline([\n",
    "    ('ss', StandardScaler()),\n",
    "    ('xbg', XGBClassifier(use_label_encoder=False))\n",
    "])\n",
    "\n",
    "pipe.fit(X_train, y_train);"
   ]
  },
  {
   "cell_type": "code",
   "execution_count": 22,
   "id": "112c55fc-5c58-427f-b0e8-4549b65d45c7",
   "metadata": {},
   "outputs": [],
   "source": [
    "mo = 'XBGC'\n",
    "tr_s = pipe.score(X_train, y_train)\n",
    "te_s = pipe.score(X_test, y_test)"
   ]
  },
  {
   "cell_type": "code",
   "execution_count": 23,
   "id": "293550db-1734-4eb5-988a-ca0788207f94",
   "metadata": {},
   "outputs": [
    {
     "name": "stdout",
     "output_type": "stream",
     "text": [
      "(0.9024067122985207, 0.8802781917536016)\n"
     ]
    }
   ],
   "source": [
    "mo_list.append(mo)\n",
    "train_scores.append(tr_s)\n",
    "test_scores.append(te_s)\n",
    "\n",
    "print((tr_s, te_s))"
   ]
  },
  {
   "cell_type": "markdown",
   "id": "042c20fe-53a8-4c1e-97e9-ffbaa8c8c5aa",
   "metadata": {
    "tags": []
   },
   "source": [
    "#### KNN"
   ]
  },
  {
   "cell_type": "code",
   "execution_count": 24,
   "id": "c9d51988-b2d9-42e7-b3b5-af778666e33b",
   "metadata": {},
   "outputs": [],
   "source": [
    "pipe = Pipeline([\n",
    "    ('ss', StandardScaler()),\n",
    "    ('knc', KNeighborsClassifier())\n",
    "])\n",
    "\n",
    "pipe.fit(X_train, y_train);"
   ]
  },
  {
   "cell_type": "code",
   "execution_count": 25,
   "id": "a1e36c48-5682-4492-aba6-bd2d906d4e94",
   "metadata": {},
   "outputs": [],
   "source": [
    "mo = 'KNN'\n",
    "tr_s = pipe.score(X_train, y_train)\n",
    "te_s = pipe.score(X_test, y_test)"
   ]
  },
  {
   "cell_type": "code",
   "execution_count": 26,
   "id": "11c2e767-22a6-44ff-9e06-a4424017ae46",
   "metadata": {},
   "outputs": [
    {
     "name": "stdout",
     "output_type": "stream",
     "text": [
      "(0.8818723780083904, 0.8619528619528619)\n"
     ]
    }
   ],
   "source": [
    "mo_list.append(mo)\n",
    "train_scores.append(tr_s)\n",
    "test_scores.append(te_s)\n",
    "\n",
    "print((tr_s, te_s))"
   ]
  },
  {
   "cell_type": "markdown",
   "id": "7342dfcb-d27b-4959-b376-ca5067c41f98",
   "metadata": {
    "tags": []
   },
   "source": [
    "#### NN"
   ]
  },
  {
   "cell_type": "code",
   "execution_count": 27,
   "id": "cd5868b5-aad2-4140-ae97-133a059bd2b2",
   "metadata": {},
   "outputs": [],
   "source": [
    "from tensorflow.random import set_seed\n",
    "set_seed(24)"
   ]
  },
  {
   "cell_type": "code",
   "execution_count": 28,
   "id": "79a0951f-504a-4f38-bdd9-92fd4c0b3521",
   "metadata": {},
   "outputs": [],
   "source": [
    "# scale, fit & transform data\n",
    "ss = StandardScaler()\n",
    "\n",
    "X_train_sc = ss.fit_transform(X_train)\n",
    "X_test_sc = ss.transform(X_test)"
   ]
  },
  {
   "cell_type": "code",
   "execution_count": 29,
   "id": "df6f1910-4286-4c17-be6c-8da75bfa70e5",
   "metadata": {},
   "outputs": [],
   "source": [
    "model = Sequential()\n",
    "\n",
    "model.add(Dense(units=400, input_shape=X_train_sc[0].shape, activation='relu'))\n",
    "model.add(Dropout(.2))\n",
    "model.add(Dense(128, activation='relu'))\n",
    "model.add(Dropout(.25))\n",
    "model.add(Dense(64, activation='relu'))\n",
    "model.add(Dropout(.2))\n",
    "model.add(Dense(units=12, activation='softmax'))\n",
    "\n",
    "early_stop = EarlyStopping(monitor='val_loss', patience=5, verbose=1)\n",
    "\n",
    "model.compile(loss='sparse_categorical_crossentropy', optimizer='adam', metrics=['acc'])"
   ]
  },
  {
   "cell_type": "code",
   "execution_count": 30,
   "id": "2283f6d5-f592-47c2-96f2-af523f62aecc",
   "metadata": {},
   "outputs": [
    {
     "name": "stdout",
     "output_type": "stream",
     "text": [
      "Epoch 1/40\n",
      "1699/1699 [==============================] - 8s 4ms/step - loss: 0.5156 - acc: 0.8750 - val_loss: 0.4666 - val_acc: 0.8816\n",
      "Epoch 2/40\n",
      "1699/1699 [==============================] - 7s 4ms/step - loss: 0.4667 - acc: 0.8812 - val_loss: 0.4567 - val_acc: 0.8812\n",
      "Epoch 3/40\n",
      "1699/1699 [==============================] - 7s 4ms/step - loss: 0.4590 - acc: 0.8813 - val_loss: 0.4528 - val_acc: 0.8816\n",
      "Epoch 4/40\n",
      "1699/1699 [==============================] - 7s 4ms/step - loss: 0.4547 - acc: 0.8814 - val_loss: 0.4544 - val_acc: 0.8817\n",
      "Epoch 5/40\n",
      "1699/1699 [==============================] - 7s 4ms/step - loss: 0.4501 - acc: 0.8817 - val_loss: 0.4514 - val_acc: 0.8817\n",
      "Epoch 6/40\n",
      "1699/1699 [==============================] - 7s 4ms/step - loss: 0.4494 - acc: 0.8815 - val_loss: 0.4516 - val_acc: 0.8817\n",
      "Epoch 7/40\n",
      "1699/1699 [==============================] - 7s 4ms/step - loss: 0.4460 - acc: 0.8815 - val_loss: 0.4552 - val_acc: 0.8811\n",
      "Epoch 8/40\n",
      "1699/1699 [==============================] - 9s 5ms/step - loss: 0.4456 - acc: 0.8815 - val_loss: 0.4516 - val_acc: 0.8817\n",
      "Epoch 9/40\n",
      "1699/1699 [==============================] - 12s 7ms/step - loss: 0.4413 - acc: 0.8816 - val_loss: 0.4610 - val_acc: 0.8815\n",
      "Epoch 10/40\n",
      "1699/1699 [==============================] - 12s 7ms/step - loss: 0.4389 - acc: 0.8815 - val_loss: 0.4593 - val_acc: 0.8812\n",
      "Epoch 00010: early stopping\n"
     ]
    }
   ],
   "source": [
    "history = model.fit(X_train_sc, y_train, validation_data=(X_test_sc, y_test), epochs=40, batch_size=32, callbacks=[early_stop])"
   ]
  },
  {
   "cell_type": "code",
   "execution_count": 31,
   "id": "16120ef8-8e3f-4b05-be09-1eaa07732799",
   "metadata": {},
   "outputs": [],
   "source": [
    "mo = 'NN'\n",
    "tr_s = .8812\n",
    "te_s = .8815"
   ]
  },
  {
   "cell_type": "code",
   "execution_count": 32,
   "id": "e59e3014-ca43-400c-9c8f-3f2b1f4a940b",
   "metadata": {},
   "outputs": [
    {
     "name": "stdout",
     "output_type": "stream",
     "text": [
      "(0.8812, 0.8815)\n"
     ]
    }
   ],
   "source": [
    "mo_list.append(mo)\n",
    "train_scores.append(tr_s)\n",
    "test_scores.append(te_s)\n",
    "\n",
    "print((tr_s, te_s))"
   ]
  },
  {
   "cell_type": "code",
   "execution_count": 33,
   "id": "4d02ba24-6f3f-415c-bc4e-d4fa2f7ad01e",
   "metadata": {},
   "outputs": [],
   "source": [
    "model_df = pd.DataFrame()\n",
    "model_df['Model'] = mo_list\n",
    "model_df['Train'] = train_scores\n",
    "model_df['Test'] = test_scores"
   ]
  },
  {
   "cell_type": "code",
   "execution_count": 39,
   "id": "54c81ad9-39f1-48b8-a8c3-27c0bcd07498",
   "metadata": {},
   "outputs": [
    {
     "data": {
      "text/html": [
       "<div>\n",
       "<style scoped>\n",
       "    .dataframe tbody tr th:only-of-type {\n",
       "        vertical-align: middle;\n",
       "    }\n",
       "\n",
       "    .dataframe tbody tr th {\n",
       "        vertical-align: top;\n",
       "    }\n",
       "\n",
       "    .dataframe thead th {\n",
       "        text-align: right;\n",
       "    }\n",
       "</style>\n",
       "<table border=\"1\" class=\"dataframe\">\n",
       "  <thead>\n",
       "    <tr style=\"text-align: right;\">\n",
       "      <th></th>\n",
       "      <th>Model</th>\n",
       "      <th>Train</th>\n",
       "      <th>Test</th>\n",
       "    </tr>\n",
       "  </thead>\n",
       "  <tbody>\n",
       "    <tr>\n",
       "      <th>3</th>\n",
       "      <td>ABC</td>\n",
       "      <td>0.881707</td>\n",
       "      <td>0.881658</td>\n",
       "    </tr>\n",
       "    <tr>\n",
       "      <th>7</th>\n",
       "      <td>NN</td>\n",
       "      <td>0.881200</td>\n",
       "      <td>0.881500</td>\n",
       "    </tr>\n",
       "    <tr>\n",
       "      <th>0</th>\n",
       "      <td>RFC</td>\n",
       "      <td>0.999982</td>\n",
       "      <td>0.881493</td>\n",
       "    </tr>\n",
       "    <tr>\n",
       "      <th>1</th>\n",
       "      <td>ETC</td>\n",
       "      <td>1.000000</td>\n",
       "      <td>0.880775</td>\n",
       "    </tr>\n",
       "    <tr>\n",
       "      <th>5</th>\n",
       "      <td>XBGC</td>\n",
       "      <td>0.895709</td>\n",
       "      <td>0.880775</td>\n",
       "    </tr>\n",
       "    <tr>\n",
       "      <th>2</th>\n",
       "      <td>GBC</td>\n",
       "      <td>0.893336</td>\n",
       "      <td>0.875476</td>\n",
       "    </tr>\n",
       "    <tr>\n",
       "      <th>4</th>\n",
       "      <td>Log Reg</td>\n",
       "      <td>0.886951</td>\n",
       "      <td>0.871888</td>\n",
       "    </tr>\n",
       "    <tr>\n",
       "      <th>6</th>\n",
       "      <td>KNN</td>\n",
       "      <td>0.882204</td>\n",
       "      <td>0.864878</td>\n",
       "    </tr>\n",
       "  </tbody>\n",
       "</table>\n",
       "</div>"
      ],
      "text/plain": [
       "     Model     Train      Test\n",
       "3      ABC  0.881707  0.881658\n",
       "7       NN  0.881200  0.881500\n",
       "0      RFC  0.999982  0.881493\n",
       "1      ETC  1.000000  0.880775\n",
       "5     XBGC  0.895709  0.880775\n",
       "2      GBC  0.893336  0.875476\n",
       "4  Log Reg  0.886951  0.871888\n",
       "6      KNN  0.882204  0.864878"
      ]
     },
     "execution_count": 39,
     "metadata": {},
     "output_type": "execute_result"
    }
   ],
   "source": [
    "model_df.sort_values(by='Test', ascending=False)"
   ]
  }
 ],
 "metadata": {
  "kernelspec": {
   "display_name": "Python 3 (ipykernel)",
   "language": "python",
   "name": "python3"
  },
  "language_info": {
   "codemirror_mode": {
    "name": "ipython",
    "version": 3
   },
   "file_extension": ".py",
   "mimetype": "text/x-python",
   "name": "python",
   "nbconvert_exporter": "python",
   "pygments_lexer": "ipython3",
   "version": "3.9.7"
  }
 },
 "nbformat": 4,
 "nbformat_minor": 5
}
