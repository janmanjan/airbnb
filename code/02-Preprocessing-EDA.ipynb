{
 "cells": [
  {
   "cell_type": "markdown",
   "id": "b7308088-709b-45af-8e05-b89b5ccde1d2",
   "metadata": {},
   "source": [
    "## `Imports`"
   ]
  },
  {
   "cell_type": "code",
   "execution_count": 1,
   "id": "6f4187a5-2b59-4ec0-a306-65ef7d560510",
   "metadata": {},
   "outputs": [],
   "source": [
    "import datetime as dt\n",
    "import matplotlib.pyplot as plt\n",
    "import numpy as np\n",
    "import pandas as pd\n",
    "import pickle\n",
    "import seaborn as sns\n",
    "\n",
    "from imblearn.over_sampling import SMOTE\n",
    "from imblearn.under_sampling import NeighbourhoodCleaningRule, OneSidedSelection\n",
    "from sklearn.experimental import enable_iterative_imputer\n",
    "from sklearn.impute import IterativeImputer\n",
    "from sklearn.impute import KNNImputer\n",
    "from sklearn.model_selection import train_test_split\n",
    "from sklearn.preprocessing import LabelEncoder, OneHotEncoder, PolynomialFeatures"
   ]
  },
  {
   "cell_type": "code",
   "execution_count": 2,
   "id": "06e154f9-3c58-4f29-b116-426d455c2540",
   "metadata": {},
   "outputs": [],
   "source": [
    "# setting random seed\n",
    "np.random.seed(24)"
   ]
  },
  {
   "cell_type": "markdown",
   "id": "d9c1694d-505b-486b-b0d7-8ce3504ddfaf",
   "metadata": {},
   "source": [
    "#### Reading in data"
   ]
  },
  {
   "cell_type": "code",
   "execution_count": 3,
   "id": "f6bcbe7b-669d-42e4-a22c-564f5e379f36",
   "metadata": {},
   "outputs": [],
   "source": [
    "# reading in session dataframe\n",
    "session = pd.read_csv('../data/session_cleaned.csv')\n",
    "\n",
    "# reading in train dataframe\n",
    "train = pd.read_csv('../data/train_cleaned.csv')"
   ]
  },
  {
   "cell_type": "markdown",
   "id": "e375b90d-a641-41bb-9ad6-6366f5b0a0d7",
   "metadata": {},
   "source": [
    "## `Preprocessing`"
   ]
  },
  {
   "cell_type": "markdown",
   "id": "de98a2cb-576f-4712-8ebe-45d12ba35d56",
   "metadata": {
    "tags": []
   },
   "source": [
    "#### Feature Extraction: Session data"
   ]
  },
  {
   "cell_type": "code",
   "execution_count": 4,
   "id": "bdbd23bf-8c95-41ce-8a71-64f8ad5d3d8e",
   "metadata": {},
   "outputs": [],
   "source": [
    "# action, action_type, action_detail transformed into columns with frequency counts\n",
    "session2 = pd.crosstab(session['user_id'], session['action'])\n",
    "action_names = {each :'action_'+each for each in session2.columns}\n",
    "session2 = session2.rename(columns=action_names)\n",
    "\n",
    "session3 = pd.crosstab(session['user_id'], session['action_type'])\n",
    "action_type_names = {each :'action_type_'+each for each in session3.columns}\n",
    "session3 = session3.rename(columns=action_type_names)\n",
    "\n",
    "\n",
    "session4 = pd.crosstab(session['user_id'], session['action_detail'])\n",
    "action_detail_names = {each :'action_detail_'+each for each in session4.columns}\n",
    "session4 = session4.rename(columns=action_detail_names)\n",
    "\n",
    "session_actions = pd.concat([session2, session3, session4], axis=1)"
   ]
  },
  {
   "cell_type": "markdown",
   "id": "f0e5d4a8-4514-43a1-964a-5b6bdbad474a",
   "metadata": {},
   "source": [
    "#### Merge"
   ]
  },
  {
   "cell_type": "code",
   "execution_count": 5,
   "id": "5867eb91-09a1-4aca-8efc-528e46ae3cc2",
   "metadata": {},
   "outputs": [],
   "source": [
    "# merging train df and session actions df\n",
    "df = train.merge(session_actions, on='user_id')"
   ]
  },
  {
   "cell_type": "code",
   "execution_count": 6,
   "id": "1a434f98-5e4f-4f83-ae1d-ad866108d763",
   "metadata": {},
   "outputs": [],
   "source": [
    "# class population train data\n",
    "class_population = pd.DataFrame()\n",
    "class_population_percent = pd.DataFrame()\n",
    "class_population['train'] = train['country_destination'].value_counts()\n",
    "class_population_percent['train%'] = train['country_destination'].value_counts(normalize=True)\n",
    "\n",
    "# class population train and sess (meta data)\n",
    "class_population['merged'] = df['country_destination'].value_counts()\n",
    "class_population_percent['merged%'] = df['country_destination'].value_counts(normalize=True)\n",
    "\n",
    "# merge train, sess(meta), and session df\n",
    "multiples = train.merge(session, on='user_id')\n",
    "class_population['merged_multiples'] = multiples['country_destination'].value_counts()\n",
    "class_population_percent['merged_multiples%'] = multiples['country_destination'].value_counts(normalize=True)"
   ]
  },
  {
   "cell_type": "code",
   "execution_count": 7,
   "id": "ff999088-ee8c-4946-82f2-4bb9db324e13",
   "metadata": {},
   "outputs": [
    {
     "data": {
      "text/html": [
       "<div>\n",
       "<style scoped>\n",
       "    .dataframe tbody tr th:only-of-type {\n",
       "        vertical-align: middle;\n",
       "    }\n",
       "\n",
       "    .dataframe tbody tr th {\n",
       "        vertical-align: top;\n",
       "    }\n",
       "\n",
       "    .dataframe thead th {\n",
       "        text-align: right;\n",
       "    }\n",
       "</style>\n",
       "<table border=\"1\" class=\"dataframe\">\n",
       "  <thead>\n",
       "    <tr style=\"text-align: right;\">\n",
       "      <th></th>\n",
       "      <th>train</th>\n",
       "      <th>merged</th>\n",
       "      <th>merged_multiples</th>\n",
       "    </tr>\n",
       "  </thead>\n",
       "  <tbody>\n",
       "    <tr>\n",
       "      <th>NDF</th>\n",
       "      <td>124015</td>\n",
       "      <td>44116</td>\n",
       "      <td>3004858</td>\n",
       "    </tr>\n",
       "    <tr>\n",
       "      <th>US</th>\n",
       "      <td>62117</td>\n",
       "      <td>19777</td>\n",
       "      <td>1651366</td>\n",
       "    </tr>\n",
       "    <tr>\n",
       "      <th>other</th>\n",
       "      <td>10049</td>\n",
       "      <td>3606</td>\n",
       "      <td>316666</td>\n",
       "    </tr>\n",
       "    <tr>\n",
       "      <th>FR</th>\n",
       "      <td>5003</td>\n",
       "      <td>1417</td>\n",
       "      <td>144576</td>\n",
       "    </tr>\n",
       "    <tr>\n",
       "      <th>IT</th>\n",
       "      <td>2820</td>\n",
       "      <td>970</td>\n",
       "      <td>100407</td>\n",
       "    </tr>\n",
       "    <tr>\n",
       "      <th>GB</th>\n",
       "      <td>2312</td>\n",
       "      <td>724</td>\n",
       "      <td>64131</td>\n",
       "    </tr>\n",
       "    <tr>\n",
       "      <th>ES</th>\n",
       "      <td>2239</td>\n",
       "      <td>699</td>\n",
       "      <td>65625</td>\n",
       "    </tr>\n",
       "    <tr>\n",
       "      <th>CA</th>\n",
       "      <td>1422</td>\n",
       "      <td>431</td>\n",
       "      <td>38858</td>\n",
       "    </tr>\n",
       "    <tr>\n",
       "      <th>DE</th>\n",
       "      <td>1053</td>\n",
       "      <td>249</td>\n",
       "      <td>23141</td>\n",
       "    </tr>\n",
       "    <tr>\n",
       "      <th>NL</th>\n",
       "      <td>757</td>\n",
       "      <td>245</td>\n",
       "      <td>22316</td>\n",
       "    </tr>\n",
       "    <tr>\n",
       "      <th>AU</th>\n",
       "      <td>538</td>\n",
       "      <td>150</td>\n",
       "      <td>11862</td>\n",
       "    </tr>\n",
       "    <tr>\n",
       "      <th>PT</th>\n",
       "      <td>216</td>\n",
       "      <td>81</td>\n",
       "      <td>6044</td>\n",
       "    </tr>\n",
       "  </tbody>\n",
       "</table>\n",
       "</div>"
      ],
      "text/plain": [
       "        train  merged  merged_multiples\n",
       "NDF    124015   44116           3004858\n",
       "US      62117   19777           1651366\n",
       "other   10049    3606            316666\n",
       "FR       5003    1417            144576\n",
       "IT       2820     970            100407\n",
       "GB       2312     724             64131\n",
       "ES       2239     699             65625\n",
       "CA       1422     431             38858\n",
       "DE       1053     249             23141\n",
       "NL        757     245             22316\n",
       "AU        538     150             11862\n",
       "PT        216      81              6044"
      ]
     },
     "execution_count": 7,
     "metadata": {},
     "output_type": "execute_result"
    }
   ],
   "source": [
    "class_population"
   ]
  },
  {
   "cell_type": "code",
   "execution_count": 8,
   "id": "eacc1f2b-fc9e-4c6c-ab3b-187eba1e1328",
   "metadata": {},
   "outputs": [
    {
     "data": {
      "text/html": [
       "<div>\n",
       "<style scoped>\n",
       "    .dataframe tbody tr th:only-of-type {\n",
       "        vertical-align: middle;\n",
       "    }\n",
       "\n",
       "    .dataframe tbody tr th {\n",
       "        vertical-align: top;\n",
       "    }\n",
       "\n",
       "    .dataframe thead th {\n",
       "        text-align: right;\n",
       "    }\n",
       "</style>\n",
       "<table border=\"1\" class=\"dataframe\">\n",
       "  <thead>\n",
       "    <tr style=\"text-align: right;\">\n",
       "      <th></th>\n",
       "      <th>train%</th>\n",
       "      <th>merged%</th>\n",
       "      <th>merged_multiples%</th>\n",
       "    </tr>\n",
       "  </thead>\n",
       "  <tbody>\n",
       "    <tr>\n",
       "      <th>NDF</th>\n",
       "      <td>0.583487</td>\n",
       "      <td>0.608790</td>\n",
       "      <td>0.551365</td>\n",
       "    </tr>\n",
       "    <tr>\n",
       "      <th>US</th>\n",
       "      <td>0.292259</td>\n",
       "      <td>0.272918</td>\n",
       "      <td>0.303011</td>\n",
       "    </tr>\n",
       "    <tr>\n",
       "      <th>other</th>\n",
       "      <td>0.047280</td>\n",
       "      <td>0.049762</td>\n",
       "      <td>0.058105</td>\n",
       "    </tr>\n",
       "    <tr>\n",
       "      <th>FR</th>\n",
       "      <td>0.023539</td>\n",
       "      <td>0.019554</td>\n",
       "      <td>0.026528</td>\n",
       "    </tr>\n",
       "    <tr>\n",
       "      <th>IT</th>\n",
       "      <td>0.013268</td>\n",
       "      <td>0.013386</td>\n",
       "      <td>0.018424</td>\n",
       "    </tr>\n",
       "    <tr>\n",
       "      <th>GB</th>\n",
       "      <td>0.010878</td>\n",
       "      <td>0.009991</td>\n",
       "      <td>0.011767</td>\n",
       "    </tr>\n",
       "    <tr>\n",
       "      <th>ES</th>\n",
       "      <td>0.010534</td>\n",
       "      <td>0.009646</td>\n",
       "      <td>0.012042</td>\n",
       "    </tr>\n",
       "    <tr>\n",
       "      <th>CA</th>\n",
       "      <td>0.006690</td>\n",
       "      <td>0.005948</td>\n",
       "      <td>0.007130</td>\n",
       "    </tr>\n",
       "    <tr>\n",
       "      <th>DE</th>\n",
       "      <td>0.004954</td>\n",
       "      <td>0.003436</td>\n",
       "      <td>0.004246</td>\n",
       "    </tr>\n",
       "    <tr>\n",
       "      <th>NL</th>\n",
       "      <td>0.003562</td>\n",
       "      <td>0.003381</td>\n",
       "      <td>0.004095</td>\n",
       "    </tr>\n",
       "    <tr>\n",
       "      <th>AU</th>\n",
       "      <td>0.002531</td>\n",
       "      <td>0.002070</td>\n",
       "      <td>0.002177</td>\n",
       "    </tr>\n",
       "    <tr>\n",
       "      <th>PT</th>\n",
       "      <td>0.001016</td>\n",
       "      <td>0.001118</td>\n",
       "      <td>0.001109</td>\n",
       "    </tr>\n",
       "  </tbody>\n",
       "</table>\n",
       "</div>"
      ],
      "text/plain": [
       "         train%   merged%  merged_multiples%\n",
       "NDF    0.583487  0.608790           0.551365\n",
       "US     0.292259  0.272918           0.303011\n",
       "other  0.047280  0.049762           0.058105\n",
       "FR     0.023539  0.019554           0.026528\n",
       "IT     0.013268  0.013386           0.018424\n",
       "GB     0.010878  0.009991           0.011767\n",
       "ES     0.010534  0.009646           0.012042\n",
       "CA     0.006690  0.005948           0.007130\n",
       "DE     0.004954  0.003436           0.004246\n",
       "NL     0.003562  0.003381           0.004095\n",
       "AU     0.002531  0.002070           0.002177\n",
       "PT     0.001016  0.001118           0.001109"
      ]
     },
     "execution_count": 8,
     "metadata": {},
     "output_type": "execute_result"
    }
   ],
   "source": [
    "class_population_percent"
   ]
  },
  {
   "cell_type": "code",
   "execution_count": 9,
   "id": "01764eec-57e1-4f12-8572-e9d51aac9251",
   "metadata": {},
   "outputs": [
    {
     "name": "stdout",
     "output_type": "stream",
     "text": [
      "Train total user population 212541\n",
      "Train_session_u total user population 72465\n",
      "Train_session_m total user population 5449850\n"
     ]
    }
   ],
   "source": [
    "print(f'Train total user population {len(train)}')\n",
    "print(f'Train_session_u total user population {len(df)}')\n",
    "print(f'Train_session_m total user population {len(multiples)}')"
   ]
  },
  {
   "cell_type": "markdown",
   "id": "a2d5b9cc-f23e-409e-a443-d751126c8711",
   "metadata": {},
   "source": [
    "**Notes**:\n",
    "* _train_ : train data only; 1 row per user; will be dropped because it does not include session data however maintains more overall unique users \n",
    "* _merged_ : train & session data; 1 row per user\n",
    "* _merged_multiples_ : train & session data; multiple rows per user, increases overall samples however introduces multiple entries per user \n",
    "\n",
    "**Merged data per unique user (df) will be used**"
   ]
  },
  {
   "cell_type": "markdown",
   "id": "d8903948-4393-4a3e-962e-280d868077cc",
   "metadata": {},
   "source": [
    "#### Feature Extraction: Train data"
   ]
  },
  {
   "cell_type": "code",
   "execution_count": 10,
   "id": "6a0eb8d3-be5a-4431-b4db-486ed6fb3a24",
   "metadata": {},
   "outputs": [],
   "source": [
    "# date account created to datetime\n",
    "df['date_account_created'] = pd.to_datetime(df['date_account_created'])"
   ]
  },
  {
   "cell_type": "code",
   "execution_count": 11,
   "id": "7ac3e063-a7de-4015-a009-42427011caf2",
   "metadata": {},
   "outputs": [],
   "source": [
    "# year account created\n",
    "df['year_account_created'] = [pd.to_datetime(each).year for each in df['date_account_created']]\n",
    "\n",
    "# month account created\n",
    "df['month_account_created'] = [pd.to_datetime(each).month for each in df['date_account_created']]\n",
    "\n",
    "# day account created\n",
    "df['day_account_created'] = [pd.to_datetime(each).day for each in df['date_account_created']]\n",
    "\n",
    "# month day account created\n",
    "df['month_day_account_created'] = [str(pd.to_datetime(each))[5:10] for each in df['date_account_created']]\n",
    "\n",
    "# quarter account created\n",
    "df['quarter_account_created'] = [pd.to_datetime(each).quarter for each in df['date_account_created']]"
   ]
  },
  {
   "cell_type": "code",
   "execution_count": 12,
   "id": "07216538-5686-411a-93f5-99621c312fd2",
   "metadata": {},
   "outputs": [],
   "source": [
    "# remove time from timestamp \n",
    "df['timestamp_first_active'] = [dt.datetime.strptime(str(each)[:8], '%Y%m%d') for each in df['timestamp_first_active']]"
   ]
  },
  {
   "cell_type": "code",
   "execution_count": 13,
   "id": "79f158ec-9eff-4a2a-b299-93a1705f0379",
   "metadata": {},
   "outputs": [],
   "source": [
    "# year first active\n",
    "df['year_first_active'] = [pd.to_datetime(each).year for each in df['timestamp_first_active']]\n",
    "\n",
    "# month first active\n",
    "df['month_first_active'] = [pd.to_datetime(each).month for each in df['timestamp_first_active']]\n",
    "\n",
    "# day first active\n",
    "df['day_first_active'] = [pd.to_datetime(each).day for each in df['timestamp_first_active']]\n",
    "\n",
    "# month day first active\n",
    "df['month_day_first_active'] = [str(pd.to_datetime(each))[5:10] for each in df['timestamp_first_active']]\n",
    "\n",
    "# quarter first active\n",
    "df['quarter_first_active'] = [pd.to_datetime(each).quarter for each in df['timestamp_first_active']]"
   ]
  },
  {
   "cell_type": "code",
   "execution_count": 14,
   "id": "119e2502-f769-462b-b973-d0b0eae2d38d",
   "metadata": {},
   "outputs": [],
   "source": [
    "# year first booking\n",
    "df['year_first_booking'] = [each if each=='no date' else str(pd.to_datetime(each).year) for each in df['date_first_booking']]\n",
    "\n",
    "# month first booking\n",
    "df['month_first_booking'] = [each if each=='no date' else str(pd.to_datetime(each).month) for each in df['date_first_booking']]\n",
    "\n",
    "# day first booking\n",
    "df['day_first_booking'] = [each if each=='no date' else str(pd.to_datetime(each).day) for each in df['date_first_booking']]\n",
    "\n",
    "# month day first booking\n",
    "df['month_day_first_booking'] = [each if each=='no date' else str(pd.to_datetime(each))[5:10] for each in df['date_first_booking']]\n",
    "\n",
    "# quarter first booking\n",
    "df['quarter_first_booking'] = [each if each=='no date' else str(pd.to_datetime(each).quarter) for each in df['date_first_booking']]"
   ]
  },
  {
   "cell_type": "code",
   "execution_count": 15,
   "id": "7f4e177f-c6ed-4a99-834b-21a81d55e727",
   "metadata": {},
   "outputs": [],
   "source": [
    "# created days until booked\n",
    "dates = df[df['date_first_booking']!='no date']\n",
    "df['days_until_booked'] = pd.to_datetime(dates['date_first_booking']) - dates['date_account_created']\n",
    "df['days_until_booked'] = ['no date' if str(each) == 'NaT' else str(each).split()[0] for each in df['days_until_booked']]"
   ]
  },
  {
   "cell_type": "code",
   "execution_count": 16,
   "id": "768fbdee-142d-45ba-be61-fe38074036b4",
   "metadata": {},
   "outputs": [],
   "source": [
    "# timestamps to strings\n",
    "df['date_account_created'] = [str(each)[:10] for each in df['date_account_created']]\n",
    "df['timestamp_first_active'] = [str(each)[:10] for each in df['timestamp_first_active']]"
   ]
  },
  {
   "cell_type": "code",
   "execution_count": 17,
   "id": "8aa44b77-cb1f-412e-9b1f-1085c68543c4",
   "metadata": {},
   "outputs": [],
   "source": [
    "# dataframe copy\n",
    "df_c = df.copy()"
   ]
  },
  {
   "cell_type": "markdown",
   "id": "89933be2-dfa1-401e-9944-582ea9cd00c6",
   "metadata": {},
   "source": [
    "**Notes**:\n",
    "* 3 features: changed <u>date account created</u>, <u>timestamp first active</u>, <u>date first booking</u> to date time, for extraction then changed to string\n",
    "* Extracted year, month, day, month & day, quarter, days until booked"
   ]
  },
  {
   "cell_type": "markdown",
   "id": "52faf6d7-012d-4008-94eb-77c64dc701ce",
   "metadata": {},
   "source": [
    "#### One hot encoding"
   ]
  },
  {
   "cell_type": "code",
   "execution_count": 18,
   "id": "e226fc56-1a45-4e11-b90b-8a68a27d5cdb",
   "metadata": {},
   "outputs": [],
   "source": [
    "# instantiate ohe\n",
    "ohe = OneHotEncoder(drop='first')\n",
    "\n",
    "# ohe df of train data\n",
    "g = pd.DataFrame(ohe.fit_transform(df[[\n",
    "    'date_account_created',\n",
    "    'timestamp_first_active',\n",
    "    'date_first_booking',\n",
    "    'gender',\n",
    "    'signup_method',\n",
    "    'language',\n",
    "    'affiliate_channel',\n",
    "    'affiliate_provider',\n",
    "    'first_affiliate_tracked',\n",
    "    'signup_app',\n",
    "    'first_device_type',\n",
    "    'first_browser',\n",
    "    'year_account_created',\n",
    "    'month_account_created',\n",
    "    'day_account_created',\n",
    "    'month_day_account_created',\n",
    "    'year_first_active',\n",
    "    'month_first_active',\n",
    "    'day_first_active',\n",
    "    'month_day_first_active',\n",
    "    'year_first_booking',\n",
    "    'month_first_booking',\n",
    "    'day_first_booking',\n",
    "    'month_day_first_booking',\n",
    "    'quarter_account_created',\n",
    "    'quarter_first_active',\n",
    "    'quarter_first_booking',\n",
    "    'days_until_booked'\n",
    "]]).toarray(), columns=ohe.get_feature_names_out([\n",
    "    'date_account_created',\n",
    "    'timestamp_first_active',\n",
    "    'date_first_booking',\n",
    "    'gender',\n",
    "    'signup_method',\n",
    "    'language',\n",
    "    'affiliate_channel',\n",
    "    'affiliate_provider',\n",
    "    'first_affiliate_tracked',\n",
    "    'signup_app',\n",
    "    'first_device_type',\n",
    "    'first_browser',\n",
    "    'year_account_created',\n",
    "    'month_account_created',\n",
    "    'day_account_created',\n",
    "    'month_day_account_created',\n",
    "    'year_first_active',\n",
    "    'month_first_active',\n",
    "    'day_first_active',\n",
    "    'month_day_first_active',\n",
    "    'year_first_booking',\n",
    "    'month_first_booking',\n",
    "    'day_first_booking',\n",
    "    'month_day_first_booking',\n",
    "    'quarter_account_created',\n",
    "    'quarter_first_active',\n",
    "    'quarter_first_booking',\n",
    "    'days_until_booked'\n",
    "]))\n",
    "\n",
    "# ohe from float to int\n",
    "g = g.astype('int')\n",
    "\n",
    "# add user_id \n",
    "g['user_id'] = df['user_id']\n",
    "\n",
    "# list of ohe feature names\n",
    "non_numeric_cols = [each for each in g.columns]"
   ]
  },
  {
   "cell_type": "markdown",
   "id": "eba6b5b0-99cb-4a8f-955e-a43329c45de8",
   "metadata": {},
   "source": [
    "#### Groups"
   ]
  },
  {
   "cell_type": "markdown",
   "id": "9cbdd7de-b865-4209-946d-de83ff91aad6",
   "metadata": {},
   "source": [
    "**Notes**:\n",
    "##### <u> 2 Groups</u>:\n",
    "* g1 - session data encoded by frequency\n",
    "* g2 - session data binarized\n",
    "\n",
    "##### <u>Issues</u>:\n",
    "* **Distribution of classes**: Balancing data may misrepresent the distrubtion of classes in the real world. Can be remedied by using bayseian inference; need historical data for first time users\n",
    "* **Multiple entries from session data**: Session data creates multiple instances of a user and introduces bias for repeated features. The focus of the project is to find which destination a first time users chooses. Multiple entries implies more first time users committing to a particular class destination\n",
    "* **Sec elapsed per action** is a leftover feature"
   ]
  },
  {
   "cell_type": "markdown",
   "id": "fa7e24e0-9210-4141-be1d-f1ff4a17c54d",
   "metadata": {},
   "source": [
    "#### Secs elapsed"
   ]
  },
  {
   "cell_type": "code",
   "execution_count": 19,
   "id": "18548855-e0aa-40c3-84c6-67fe6fb8708f",
   "metadata": {},
   "outputs": [],
   "source": [
    "# secs elapsed df\n",
    "secs_elapsed = multiples[['country_destination', 'secs_elapsed']].copy()\n",
    "\n",
    "# country destination transformed\n",
    "le = LabelEncoder()\n",
    "secs_elapsed['country_destination'] = le.fit_transform(secs_elapsed['country_destination'])"
   ]
  },
  {
   "cell_type": "code",
   "execution_count": 20,
   "id": "717a97a2-4f3d-4d1a-8acb-0e794d9af154",
   "metadata": {},
   "outputs": [
    {
     "data": {
      "text/html": [
       "<div>\n",
       "<style scoped>\n",
       "    .dataframe tbody tr th:only-of-type {\n",
       "        vertical-align: middle;\n",
       "    }\n",
       "\n",
       "    .dataframe tbody tr th {\n",
       "        vertical-align: top;\n",
       "    }\n",
       "\n",
       "    .dataframe thead th {\n",
       "        text-align: right;\n",
       "    }\n",
       "</style>\n",
       "<table border=\"1\" class=\"dataframe\">\n",
       "  <thead>\n",
       "    <tr style=\"text-align: right;\">\n",
       "      <th></th>\n",
       "      <th>country_destination</th>\n",
       "      <th>secs_elapsed</th>\n",
       "    </tr>\n",
       "  </thead>\n",
       "  <tbody>\n",
       "    <tr>\n",
       "      <th>country_destination</th>\n",
       "      <td>1.00000</td>\n",
       "      <td>0.01131</td>\n",
       "    </tr>\n",
       "    <tr>\n",
       "      <th>secs_elapsed</th>\n",
       "      <td>0.01131</td>\n",
       "      <td>1.00000</td>\n",
       "    </tr>\n",
       "  </tbody>\n",
       "</table>\n",
       "</div>"
      ],
      "text/plain": [
       "                     country_destination  secs_elapsed\n",
       "country_destination              1.00000       0.01131\n",
       "secs_elapsed                     0.01131       1.00000"
      ]
     },
     "execution_count": 20,
     "metadata": {},
     "output_type": "execute_result"
    }
   ],
   "source": [
    "secs_elapsed.corr()"
   ]
  },
  {
   "cell_type": "markdown",
   "id": "de956e1e-f987-4e66-9078-ed7ec52c5447",
   "metadata": {},
   "source": [
    "**Notes** :\n",
    "* **Secs_elapsed** has a weak correlation and will be dropped"
   ]
  },
  {
   "cell_type": "code",
   "execution_count": 21,
   "id": "536fa3cc-b902-4856-8a4e-73105e8dadcf",
   "metadata": {},
   "outputs": [],
   "source": [
    "# creation of g1 df\n",
    "g1 = g.copy()\n",
    "\n",
    "# added country destination \n",
    "g1['country_destination'] = df_c['country_destination']\n",
    "\n",
    "# added oridinal/continuous data\n",
    "g1['signup_flow'] = df_c['signup_flow']\n",
    "g1['age'] = df_c['age']"
   ]
  },
  {
   "cell_type": "code",
   "execution_count": 22,
   "id": "b833cb22-655d-4808-9cbe-9af2b30300cb",
   "metadata": {},
   "outputs": [],
   "source": [
    "# merge ohe train data with session data\n",
    "g1 = g1.merge(session_actions, on='user_id')"
   ]
  },
  {
   "cell_type": "code",
   "execution_count": 23,
   "id": "a771f642-7ba0-4ada-b9ce-757b150f6654",
   "metadata": {},
   "outputs": [],
   "source": [
    "# action, action_type, action_detail transformed into binary columns\n",
    "# g1 copy\n",
    "g2 = g1.copy()\n",
    "\n",
    "# column names for session df\n",
    "cols = [each for each in session_actions]\n",
    "\n",
    "# binarize features\n",
    "for each in cols:\n",
    "    x = [0 if value == 0 else 1 for value in g2[each]]\n",
    "    g2[each] = x"
   ]
  },
  {
   "cell_type": "code",
   "execution_count": 24,
   "id": "6ce74b14-a230-4744-bbbe-8e926f3cdd93",
   "metadata": {},
   "outputs": [],
   "source": [
    "g1.to_csv('../data/g1.csv', index=False)\n",
    "g2.to_csv('../data/g2.csv', index=False)"
   ]
  },
  {
   "cell_type": "markdown",
   "id": "bdfce4fe-5fe7-49e1-8566-d6fb779391a5",
   "metadata": {
    "tags": []
   },
   "source": [
    "#### Set up"
   ]
  },
  {
   "cell_type": "code",
   "execution_count": 25,
   "id": "d7ec8862-0526-4af1-9a9c-154d27c324f9",
   "metadata": {},
   "outputs": [],
   "source": [
    "g1 = pd.read_csv('../data/g1.csv')\n",
    "g2 = pd.read_csv('../data/g2.csv')"
   ]
  },
  {
   "cell_type": "code",
   "execution_count": 26,
   "id": "23d097d3-a9e2-47dc-a20f-3f67fe877a1b",
   "metadata": {},
   "outputs": [],
   "source": [
    "# setting X and y\n",
    "X = g1.drop(columns=['country_destination'])\n",
    "y = g1['country_destination']\n",
    "\n",
    "# setting X and y for g2\n",
    "# X = g2.drop(columns=['country_destination'])\n",
    "# y = g2['country_destination']"
   ]
  },
  {
   "cell_type": "code",
   "execution_count": 27,
   "id": "f2eca8f2-95b4-47f0-91de-b6d17e382522",
   "metadata": {},
   "outputs": [],
   "source": [
    "# transforming target \n",
    "le = LabelEncoder()\n",
    "y = le.fit_transform(y)"
   ]
  },
  {
   "cell_type": "code",
   "execution_count": 28,
   "id": "106519f2-50ba-426b-988d-1476c7fb279e",
   "metadata": {},
   "outputs": [],
   "source": [
    "# train test split\n",
    "X_train, X_test, y_train, y_test = train_test_split(X, y, stratify=y, random_state=24)"
   ]
  },
  {
   "cell_type": "markdown",
   "id": "addfc463-a384-4712-96a6-e862a85e01f3",
   "metadata": {},
   "source": [
    "## `Imputation`"
   ]
  },
  {
   "cell_type": "code",
   "execution_count": 29,
   "id": "cc680de4-bd0f-447d-a6a7-8cbcb5b82d0c",
   "metadata": {},
   "outputs": [
    {
     "data": {
      "text/html": [
       "<div>\n",
       "<style scoped>\n",
       "    .dataframe tbody tr th:only-of-type {\n",
       "        vertical-align: middle;\n",
       "    }\n",
       "\n",
       "    .dataframe tbody tr th {\n",
       "        vertical-align: top;\n",
       "    }\n",
       "\n",
       "    .dataframe thead th {\n",
       "        text-align: right;\n",
       "    }\n",
       "</style>\n",
       "<table border=\"1\" class=\"dataframe\">\n",
       "  <thead>\n",
       "    <tr style=\"text-align: right;\">\n",
       "      <th></th>\n",
       "      <th>date_account_created_2014-01-02</th>\n",
       "      <th>date_account_created_2014-01-03</th>\n",
       "      <th>date_account_created_2014-01-04</th>\n",
       "      <th>date_account_created_2014-01-05</th>\n",
       "      <th>date_account_created_2014-01-06</th>\n",
       "      <th>date_account_created_2014-01-07</th>\n",
       "      <th>date_account_created_2014-01-08</th>\n",
       "      <th>date_account_created_2014-01-09</th>\n",
       "      <th>date_account_created_2014-01-10</th>\n",
       "      <th>date_account_created_2014-01-11</th>\n",
       "      <th>...</th>\n",
       "      <th>action_detail_view_resolutions</th>\n",
       "      <th>action_detail_view_search_results</th>\n",
       "      <th>action_detail_view_security_checks</th>\n",
       "      <th>action_detail_view_user_real_names</th>\n",
       "      <th>action_detail_wishlist</th>\n",
       "      <th>action_detail_wishlist_content_update</th>\n",
       "      <th>action_detail_wishlist_note</th>\n",
       "      <th>action_detail_your_listings</th>\n",
       "      <th>action_detail_your_reservations</th>\n",
       "      <th>action_detail_your_trips</th>\n",
       "    </tr>\n",
       "  </thead>\n",
       "  <tbody>\n",
       "    <tr>\n",
       "      <th>52596</th>\n",
       "      <td>0</td>\n",
       "      <td>0</td>\n",
       "      <td>0</td>\n",
       "      <td>0</td>\n",
       "      <td>0</td>\n",
       "      <td>0</td>\n",
       "      <td>0</td>\n",
       "      <td>0</td>\n",
       "      <td>0</td>\n",
       "      <td>0</td>\n",
       "      <td>...</td>\n",
       "      <td>0</td>\n",
       "      <td>11</td>\n",
       "      <td>0</td>\n",
       "      <td>0</td>\n",
       "      <td>0</td>\n",
       "      <td>0</td>\n",
       "      <td>0</td>\n",
       "      <td>0</td>\n",
       "      <td>0</td>\n",
       "      <td>0</td>\n",
       "    </tr>\n",
       "    <tr>\n",
       "      <th>19141</th>\n",
       "      <td>0</td>\n",
       "      <td>0</td>\n",
       "      <td>0</td>\n",
       "      <td>0</td>\n",
       "      <td>0</td>\n",
       "      <td>0</td>\n",
       "      <td>0</td>\n",
       "      <td>0</td>\n",
       "      <td>0</td>\n",
       "      <td>0</td>\n",
       "      <td>...</td>\n",
       "      <td>0</td>\n",
       "      <td>0</td>\n",
       "      <td>0</td>\n",
       "      <td>0</td>\n",
       "      <td>0</td>\n",
       "      <td>0</td>\n",
       "      <td>0</td>\n",
       "      <td>0</td>\n",
       "      <td>0</td>\n",
       "      <td>0</td>\n",
       "    </tr>\n",
       "    <tr>\n",
       "      <th>61869</th>\n",
       "      <td>0</td>\n",
       "      <td>0</td>\n",
       "      <td>0</td>\n",
       "      <td>0</td>\n",
       "      <td>0</td>\n",
       "      <td>0</td>\n",
       "      <td>0</td>\n",
       "      <td>0</td>\n",
       "      <td>0</td>\n",
       "      <td>0</td>\n",
       "      <td>...</td>\n",
       "      <td>0</td>\n",
       "      <td>0</td>\n",
       "      <td>0</td>\n",
       "      <td>0</td>\n",
       "      <td>0</td>\n",
       "      <td>0</td>\n",
       "      <td>0</td>\n",
       "      <td>0</td>\n",
       "      <td>0</td>\n",
       "      <td>2</td>\n",
       "    </tr>\n",
       "  </tbody>\n",
       "</table>\n",
       "<p>3 rows × 2741 columns</p>\n",
       "</div>"
      ],
      "text/plain": [
       "       date_account_created_2014-01-02  date_account_created_2014-01-03  \\\n",
       "52596                                0                                0   \n",
       "19141                                0                                0   \n",
       "61869                                0                                0   \n",
       "\n",
       "       date_account_created_2014-01-04  date_account_created_2014-01-05  \\\n",
       "52596                                0                                0   \n",
       "19141                                0                                0   \n",
       "61869                                0                                0   \n",
       "\n",
       "       date_account_created_2014-01-06  date_account_created_2014-01-07  \\\n",
       "52596                                0                                0   \n",
       "19141                                0                                0   \n",
       "61869                                0                                0   \n",
       "\n",
       "       date_account_created_2014-01-08  date_account_created_2014-01-09  \\\n",
       "52596                                0                                0   \n",
       "19141                                0                                0   \n",
       "61869                                0                                0   \n",
       "\n",
       "       date_account_created_2014-01-10  date_account_created_2014-01-11  ...  \\\n",
       "52596                                0                                0  ...   \n",
       "19141                                0                                0  ...   \n",
       "61869                                0                                0  ...   \n",
       "\n",
       "       action_detail_view_resolutions  action_detail_view_search_results  \\\n",
       "52596                               0                                 11   \n",
       "19141                               0                                  0   \n",
       "61869                               0                                  0   \n",
       "\n",
       "       action_detail_view_security_checks  action_detail_view_user_real_names  \\\n",
       "52596                                   0                                   0   \n",
       "19141                                   0                                   0   \n",
       "61869                                   0                                   0   \n",
       "\n",
       "       action_detail_wishlist  action_detail_wishlist_content_update  \\\n",
       "52596                       0                                      0   \n",
       "19141                       0                                      0   \n",
       "61869                       0                                      0   \n",
       "\n",
       "       action_detail_wishlist_note  action_detail_your_listings  \\\n",
       "52596                            0                            0   \n",
       "19141                            0                            0   \n",
       "61869                            0                            0   \n",
       "\n",
       "       action_detail_your_reservations  action_detail_your_trips  \n",
       "52596                                0                         0  \n",
       "19141                                0                         0  \n",
       "61869                                0                         2  \n",
       "\n",
       "[3 rows x 2741 columns]"
      ]
     },
     "execution_count": 29,
     "metadata": {},
     "output_type": "execute_result"
    }
   ],
   "source": [
    "# check X_train\n",
    "X_train.head(3)"
   ]
  },
  {
   "cell_type": "markdown",
   "id": "6045301b-24bf-432d-a03c-2dd986f29ba6",
   "metadata": {
    "tags": []
   },
   "source": [
    "#### KNN Imputer"
   ]
  },
  {
   "cell_type": "code",
   "execution_count": 30,
   "id": "82296f5c-3f27-4e12-880a-91956d93a56a",
   "metadata": {},
   "outputs": [],
   "source": [
    "# instantiating knnimputer\n",
    "knni = KNNImputer(n_neighbors=2, weights='uniform')"
   ]
  },
  {
   "cell_type": "code",
   "execution_count": 31,
   "id": "bdccdd4c-91af-4b43-9388-5cadd97c8c5a",
   "metadata": {},
   "outputs": [],
   "source": [
    "# fit & transforming knnimputer\n",
    "train_knni = knni.fit_transform(X_train.drop(columns=non_numeric_cols))"
   ]
  },
  {
   "cell_type": "code",
   "execution_count": 32,
   "id": "7c394180-8011-4b7b-af52-c8f1f42ddc5c",
   "metadata": {},
   "outputs": [],
   "source": [
    "# train knni df\n",
    "train_knni = pd.DataFrame(train_knni, columns=X_train.drop(columns=non_numeric_cols).columns)"
   ]
  },
  {
   "cell_type": "code",
   "execution_count": 33,
   "id": "9772ffa0-5545-491c-9d61-d6e278ae7475",
   "metadata": {},
   "outputs": [
    {
     "data": {
      "image/png": "[encoded data removed]",
      "text/plain": [
       "<Figure size 432x288 with 1 Axes>"
      ]
     },
     "metadata": {
      "needs_background": "light"
     },
     "output_type": "display_data"
    }
   ],
   "source": [
    "# checking distribution of imputed data vs non-imputed data\n",
    "plt.hist(X_train['age'], bins=100)\n",
    "plt.hist(train_knni['age'], bins=100, alpha=.5);"
   ]
  },
  {
   "cell_type": "markdown",
   "id": "b2df5aa7-3f12-425d-98dc-c82cb93ae001",
   "metadata": {},
   "source": [
    "#### Iterative Imputer"
   ]
  },
  {
   "cell_type": "code",
   "execution_count": 10,
   "id": "a9afa4f2-f26a-4007-9b48-21746fe3384d",
   "metadata": {},
   "outputs": [],
   "source": [
    "# instantiating iterative imputer\n",
    "imp = IterativeImputer(random_state=24)"
   ]
  },
  {
   "cell_type": "code",
   "execution_count": 11,
   "id": "73ea4e10-5f08-4fc8-8734-818d50482904",
   "metadata": {},
   "outputs": [],
   "source": [
    "# fit on age\n",
    "train_iimp = imp.fit_transform(X_train.drop(columns=non_numeric_cols))"
   ]
  },
  {
   "cell_type": "code",
   "execution_count": 26,
   "id": "222dc769-338c-49a4-9782-80925f048193",
   "metadata": {},
   "outputs": [],
   "source": [
    "# dataframe of imputed age values and if age was imputed or not\n",
    "train_iimp_df = pd.DataFrame(train_iimp, columns=X_train.drop(columns=non_numeric_cols).columns)"
   ]
  },
  {
   "cell_type": "code",
   "execution_count": 32,
   "id": "b335d4c7-37c3-45f5-857e-d25698c8f461",
   "metadata": {},
   "outputs": [
    {
     "data": {
      "image/png": "[encoded data removed]",
      "text/plain": [
       "<Figure size 432x288 with 1 Axes>"
      ]
     },
     "metadata": {
      "needs_background": "light"
     },
     "output_type": "display_data"
    }
   ],
   "source": [
    "plt.hist(X_train['age'], bins=100)\n",
    "plt.hist(train_iimp_df['age'], bins=100, alpha=.5);"
   ]
  },
  {
   "cell_type": "markdown",
   "id": "bfc58359-0cd1-48ab-9bed-fe0cdd2668d2",
   "metadata": {},
   "source": [
    "#### Imputation to X_train"
   ]
  },
  {
   "cell_type": "markdown",
   "id": "8bcb8455-6bf4-422b-aec8-3e2e3cb48ba6",
   "metadata": {},
   "source": [
    "**Note**: \n",
    "* KNNI imputation chosen because distribution looks more similar to original distribution"
   ]
  },
  {
   "cell_type": "code",
   "execution_count": 34,
   "id": "48df735d-7c8c-4e24-92f5-29b03d447f22",
   "metadata": {},
   "outputs": [],
   "source": [
    "# reset index for x_train\n",
    "X_train.reset_index(drop=True, inplace=True)\n",
    "\n",
    "# adding age imp and age imp values features\n",
    "X_train['age_present'] = [1 if each==-1 else 0 for each in X_train['age'].fillna(-1)]\n",
    "X_train['age'] = train_knni['age'].copy().astype('int')"
   ]
  },
  {
   "cell_type": "code",
   "execution_count": 35,
   "id": "0820e466-5ed6-472e-8f8d-9f966e25c684",
   "metadata": {},
   "outputs": [],
   "source": [
    "# reset index for x_test\n",
    "X_test.reset_index(drop=True, inplace=True)\n",
    "\n",
    "# X_test transformation\n",
    "X_test['age_present'] = [1 if each==-1 else 0 for each in X_test['age'].fillna(-1)]"
   ]
  },
  {
   "cell_type": "markdown",
   "id": "851d305c-564c-413a-b613-5611c4047eea",
   "metadata": {},
   "source": [
    "**Notes**:\n",
    "* Imputation highly skews the data with respect to age and feature may need to be dropped\n",
    "* Iterative Imputer and KNNImputer produce similar results; iterative imputer will be used for now--less computer intensive"
   ]
  },
  {
   "cell_type": "markdown",
   "id": "455c7ac7-1718-43c3-8b90-c3afe80c2d97",
   "metadata": {},
   "source": [
    "## `Feature Engineering`"
   ]
  },
  {
   "cell_type": "markdown",
   "id": "3fcc430e-dfcb-4e56-9a5f-4c42cc8e394f",
   "metadata": {},
   "source": [
    "#### Session data"
   ]
  },
  {
   "cell_type": "code",
   "execution_count": 36,
   "id": "f5c1b9d4-8f19-42b3-85d2-e91e77507b53",
   "metadata": {},
   "outputs": [],
   "source": [
    "# new dataframe count action\n",
    "sess = pd.DataFrame(session.groupby(by='user_id')['action'].count())\n",
    "\n",
    "# rename dataframe\n",
    "sess.rename(columns={'action': 'count_action'}, inplace=True)"
   ]
  },
  {
   "cell_type": "code",
   "execution_count": 37,
   "id": "137a34df-3df0-4fdd-8347-2d9aec557312",
   "metadata": {},
   "outputs": [],
   "source": [
    "# total secs elapsed\n",
    "sess['total_secs_elapsed'] = session.groupby(by='user_id')['secs_elapsed'].sum()"
   ]
  },
  {
   "cell_type": "code",
   "execution_count": 38,
   "id": "91dff591-97b8-4fda-bc4d-04b8001bec9e",
   "metadata": {},
   "outputs": [],
   "source": [
    "# unique actions\n",
    "actions = session.groupby(by='user_id')['action'].unique()\n",
    "\n",
    "# count of unique actions \n",
    "sess['unique_actions'] = [len(set(each)) for each in actions]"
   ]
  },
  {
   "cell_type": "code",
   "execution_count": 39,
   "id": "1e381868-e8c1-44e7-a8b7-a3b63651d284",
   "metadata": {},
   "outputs": [],
   "source": [
    "# mean secs elapsed per action\n",
    "sess['mean_secs_elapsed_per_action'] = sess['total_secs_elapsed']/sess['count_action']"
   ]
  },
  {
   "cell_type": "code",
   "execution_count": 40,
   "id": "fb6984f5-758b-49cd-85cf-5ea3c5589356",
   "metadata": {},
   "outputs": [],
   "source": [
    "# total mins elapsed\n",
    "sess['total_mins_elapsed'] = sess['total_secs_elapsed']/60\n",
    "\n",
    "# mean mins elapsed per action\n",
    "sess['mean_mins_elapsed_per_action'] = sess['total_mins_elapsed']/sess['count_action']"
   ]
  },
  {
   "cell_type": "code",
   "execution_count": 41,
   "id": "ac6d4a2a-7aa6-4d1a-bc42-02c59fcb3582",
   "metadata": {},
   "outputs": [],
   "source": [
    "# log transformations\n",
    "sess['log_total_mins'] = np.log(sess['total_mins_elapsed']+1)\n",
    "\n",
    "sess['log_mean_mins'] = np.log(sess['mean_mins_elapsed_per_action']+1)\n",
    "\n",
    "sess['log_total_secs'] = np.log(sess['total_secs_elapsed']+1)\n",
    "\n",
    "sess['log_mean_secs'] = np.log(sess['mean_secs_elapsed_per_action']+1)"
   ]
  },
  {
   "cell_type": "markdown",
   "id": "16745927-fc23-40fb-b225-204c7e553c07",
   "metadata": {},
   "source": [
    "**Notes**:\n",
    "* Extracted: count of actions taken, count of unique actions taken, mean seconds elapsed per action, and logs of time features"
   ]
  },
  {
   "cell_type": "markdown",
   "id": "cc3a8f13-fc2c-4e84-8954-ef8ef553d05c",
   "metadata": {},
   "source": [
    "#### Merge session meta"
   ]
  },
  {
   "cell_type": "code",
   "execution_count": 42,
   "id": "9222b5c9-74d9-4627-bbbe-941405c5557b",
   "metadata": {},
   "outputs": [],
   "source": [
    "# merge train df and sess df\n",
    "X_train = X_train.merge(sess, on='user_id')"
   ]
  },
  {
   "cell_type": "code",
   "execution_count": 43,
   "id": "95d7d3fd-1fc9-4611-95c5-cba3253395da",
   "metadata": {},
   "outputs": [],
   "source": [
    "# merge test df and sess df\n",
    "X_test = X_test.merge(sess, on='user_id')"
   ]
  },
  {
   "cell_type": "code",
   "execution_count": 44,
   "id": "0c2dc502-9d2d-451b-95f1-f99042d53431",
   "metadata": {},
   "outputs": [],
   "source": [
    "X_train = X_train.drop(columns='user_id')\n",
    "X_test = X_test.drop(columns='user_id')"
   ]
  },
  {
   "cell_type": "code",
   "execution_count": 45,
   "id": "b5e3ff23-4d8f-45e9-889f-4c8b50221e9a",
   "metadata": {},
   "outputs": [
    {
     "data": {
      "text/plain": [
       "date_account_created_2014-01-02    0\n",
       "month_day_first_booking_12-29      0\n",
       "month_day_first_booking_12-21      0\n",
       "month_day_first_booking_12-22      0\n",
       "month_day_first_booking_12-23      0\n",
       "                                  ..\n",
       "language_no                        0\n",
       "language_pl                        0\n",
       "language_pt                        0\n",
       "language_ru                        0\n",
       "log_mean_secs                      0\n",
       "Length: 2751, dtype: int64"
      ]
     },
     "execution_count": 45,
     "metadata": {},
     "output_type": "execute_result"
    }
   ],
   "source": [
    "X_train.isnull().sum().sort_values(ascending=False)"
   ]
  },
  {
   "cell_type": "markdown",
   "id": "26b8db48-0326-4285-ae40-d632c0fbf1c2",
   "metadata": {},
   "source": [
    "**Notes** :\n",
    "* Featured engineered session data (sess data) merged with train data results in remaining user population"
   ]
  },
  {
   "cell_type": "markdown",
   "id": "cdca6bbc-6675-41a2-9c40-e1297e4a7fbb",
   "metadata": {},
   "source": [
    "#### Save data"
   ]
  },
  {
   "cell_type": "markdown",
   "id": "ada0df98-5e49-4686-9b4c-2278059565bd",
   "metadata": {},
   "source": [
    "**Baseline**"
   ]
  },
  {
   "cell_type": "code",
   "execution_count": 46,
   "id": "15b7e0d0-5d10-4e52-a772-d4c2a118028a",
   "metadata": {},
   "outputs": [],
   "source": [
    "# save baseline model data\n",
    "X_train.to_csv('../data/X_train_b.csv', index=False)\n",
    "X_test.to_csv('../data/X_test_b.csv', index=False)"
   ]
  },
  {
   "cell_type": "code",
   "execution_count": null,
   "id": "56cb8fde-6bb2-45c2-9d34-e8a4edb25673",
   "metadata": {},
   "outputs": [],
   "source": [
    "# save g2 model data\n",
    "# X_train.to_csv('../data/X_train_g2.csv', index=False)\n",
    "# X_test.to_csv('../data/X_test_g2.csv', index=False)"
   ]
  },
  {
   "cell_type": "code",
   "execution_count": 47,
   "id": "dadef74a-dba1-4b7b-8415-e5096c0c8bac",
   "metadata": {},
   "outputs": [],
   "source": [
    "# save target\n",
    "np.save('../data/y_train.npy', y_train)\n",
    "np.save('../data/y_test.npy', y_test)"
   ]
  },
  {
   "cell_type": "markdown",
   "id": "5020b276-5a5c-46d6-bc14-497feaf3295a",
   "metadata": {},
   "source": [
    "#### Polynomial features"
   ]
  },
  {
   "cell_type": "code",
   "execution_count": 48,
   "id": "2c0db8e2-01d0-4449-8212-e36236ef78d2",
   "metadata": {},
   "outputs": [],
   "source": [
    "# read in baseline model data\n",
    "X_train = pd.read_csv('../data/X_train_b.csv')\n",
    "X_test = pd.read_csv('../data/X_test_b.csv')"
   ]
  },
  {
   "cell_type": "code",
   "execution_count": 49,
   "id": "b0ec53d3-b40d-435a-b547-c4c76b424359",
   "metadata": {},
   "outputs": [],
   "source": [
    "# read in target\n",
    "y_train = np.load('../data/y_train.npy')\n",
    "y_test = np.load('../data/y_test.npy')"
   ]
  },
  {
   "cell_type": "code",
   "execution_count": 50,
   "id": "c31e991a-625b-429c-9c08-97cb96a0b3fd",
   "metadata": {},
   "outputs": [],
   "source": [
    "# instantiate polynomial features\n",
    "pf = PolynomialFeatures(degree=3, include_bias=False)"
   ]
  },
  {
   "cell_type": "code",
   "execution_count": 51,
   "id": "ce70d6d2-0117-4399-a72f-3c6507039a39",
   "metadata": {},
   "outputs": [],
   "source": [
    "# numeric cols\n",
    "num_cols = ['signup_flow',\n",
    "            'count_action',\n",
    "            'total_secs_elapsed',\n",
    "            'mean_secs_elapsed_per_action',\n",
    "            'unique_actions',\n",
    "            'log_total_secs',\n",
    "            'log_mean_secs']"
   ]
  },
  {
   "cell_type": "code",
   "execution_count": 52,
   "id": "ebb3380a-6d72-4ee7-b994-b8713dcbe204",
   "metadata": {},
   "outputs": [],
   "source": [
    "# fit pf\n",
    "pf.fit(X_train[num_cols])\n",
    "\n",
    "# transform train\n",
    "X_train_pf = pd.DataFrame(pf.transform(X_train[num_cols]),\n",
    "                          columns=pf.get_feature_names_out(num_cols)\n",
    "                         )\n",
    "# transform test\n",
    "X_test_pf = pd.DataFrame(pf.transform(X_test[num_cols]),\n",
    "                          columns=pf.get_feature_names_out(num_cols)\n",
    "                         )\n",
    "# create copy of target and add to train data\n",
    "X_train_pf['country_destination'] = y_train.copy()"
   ]
  },
  {
   "cell_type": "code",
   "execution_count": 53,
   "id": "b7c04811-f150-4f6a-bcb3-5c5c5f4823f4",
   "metadata": {},
   "outputs": [
    {
     "data": {
      "text/plain": [
       "country_destination                              1.000000\n",
       "unique_actions log_mean_secs^2                   0.163366\n",
       "unique_actions log_mean_secs                     0.157828\n",
       "unique_actions log_total_secs log_mean_secs      0.154518\n",
       "mean_secs_elapsed_per_action unique_actions^2    0.150953\n",
       "                                                   ...   \n",
       "signup_flow log_total_secs                      -0.046137\n",
       "signup_flow^3                                   -0.046752\n",
       "signup_flow log_mean_secs                       -0.047077\n",
       "signup_flow^2                                   -0.048609\n",
       "signup_flow                                     -0.051387\n",
       "Name: country_destination, Length: 118, dtype: float64"
      ]
     },
     "execution_count": 53,
     "metadata": {},
     "output_type": "execute_result"
    }
   ],
   "source": [
    "# correlation of train data\n",
    "X_train_pf.corr()['country_destination'].sort_values(ascending=False).drop_duplicates()"
   ]
  },
  {
   "cell_type": "code",
   "execution_count": 54,
   "id": "991a241f-9e09-4ad8-8f8b-46086e0e4e5f",
   "metadata": {},
   "outputs": [
    {
     "data": {
      "text/plain": [
       " 0.072154    2\n",
       " 0.094352    2\n",
       "-0.051387    1\n",
       " 0.065146    1\n",
       " 0.011684    1\n",
       "            ..\n",
       "-0.011064    1\n",
       "-0.046752    1\n",
       " 0.078270    1\n",
       " 0.091564    1\n",
       " 1.000000    1\n",
       "Name: country_destination, Length: 118, dtype: int64"
      ]
     },
     "execution_count": 54,
     "metadata": {},
     "output_type": "execute_result"
    }
   ],
   "source": [
    "# value counts correlations\n",
    "X_train_pf.corr()['country_destination'].value_counts()"
   ]
  },
  {
   "cell_type": "code",
   "execution_count": 55,
   "id": "94cdbd6b-fcee-407d-95f8-298917c79b71",
   "metadata": {},
   "outputs": [],
   "source": [
    "# drop original numeric columns & country destination on X_train\n",
    "X_train_pf = X_train_pf.drop(columns=num_cols)\n",
    "X_train_pf = X_train_pf.drop(columns='country_destination')\n",
    "X_test_pf = X_test_pf.drop(columns=num_cols)\n",
    "\n",
    "# add pf cols to x train and x test\n",
    "X_train = pd.concat([X_train, X_train_pf], axis=1)\n",
    "X_test = pd.concat([X_test, X_test_pf], axis=1)"
   ]
  },
  {
   "cell_type": "markdown",
   "id": "9ba4acda-1dae-45eb-98e5-f93dba4db07b",
   "metadata": {},
   "source": [
    "#### Save data"
   ]
  },
  {
   "cell_type": "code",
   "execution_count": 56,
   "id": "96ef0324-2852-48d7-a91e-ffc90e4d4d7a",
   "metadata": {},
   "outputs": [],
   "source": [
    "# save X_train and X_test with pf features\n",
    "X_train.to_csv('../data/X_train.csv', index=False)\n",
    "X_test.to_csv('../data/X_test.csv', index=False)"
   ]
  }
 ],
 "metadata": {
  "kernelspec": {
   "display_name": "Python 3 (ipykernel)",
   "language": "python",
   "name": "python3"
  },
  "language_info": {
   "codemirror_mode": {
    "name": "ipython",
    "version": 3
   },
   "file_extension": ".py",
   "mimetype": "text/x-python",
   "name": "python",
   "nbconvert_exporter": "python",
   "pygments_lexer": "ipython3",
   "version": "3.9.7"
  }
 },
 "nbformat": 4,
 "nbformat_minor": 5
}
